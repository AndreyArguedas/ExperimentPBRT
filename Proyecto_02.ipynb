{
  "cells": [
    {
      "attachments": {},
      "cell_type": "markdown",
      "metadata": {
        "id": "y8j58AhX1nl4"
      },
      "source": [
        "# Tecnológico de Costa Rica \n",
        "## MC6104 - Diseño de Experimentos \n",
        "### Profesor: M.Sc. Ernesto Rivera-Alvarado\n",
        "# **Proyecto 02**\n",
        "#### Estudiantes: \n",
        "        2020426569 - Andrey Arguedas Espinoza\n",
        "        2020426570 - Michael Chen Wang\n",
        "\n",
        "San José, 25 de Mayo del 2023"
      ]
    },
    {
      "cell_type": "code",
      "execution_count": 1,
      "metadata": {
        "colab": {
          "base_uri": "https://localhost:8080/"
        },
        "id": "mN-ZirO11ehT",
        "outputId": "b2f9d6c6-7778-422a-819f-bd14a49ade5f",
        "vscode": {
          "languageId": "r"
        }
      },
      "outputs": [
        {
          "name": "stderr",
          "output_type": "stream",
          "text": [
            "Loading required package: psych\n",
            "\n",
            "Loading required package: FSA\n",
            "\n",
            "## FSA v0.9.4. See citation('FSA') if used in publication.\n",
            "## Run fishR() for related website and fishR('IFAR') for related book.\n",
            "\n",
            "\n",
            "Attaching package: 'FSA'\n",
            "\n",
            "\n",
            "The following object is masked from 'package:psych':\n",
            "\n",
            "    headtail\n",
            "\n",
            "\n",
            "Loading required package: ggplot2\n",
            "\n",
            "\n",
            "Attaching package: 'ggplot2'\n",
            "\n",
            "\n",
            "The following objects are masked from 'package:psych':\n",
            "\n",
            "    %+%, alpha\n",
            "\n",
            "\n",
            "Loading required package: rcompanion\n",
            "\n",
            "\n",
            "Attaching package: 'rcompanion'\n",
            "\n",
            "\n",
            "The following object is masked from 'package:psych':\n",
            "\n",
            "    phi\n",
            "\n",
            "\n",
            "Loading required package: car\n",
            "\n",
            "Loading required package: carData\n",
            "\n",
            "Registered S3 methods overwritten by 'car':\n",
            "  method       from\n",
            "  hist.boot    FSA \n",
            "  confint.boot FSA \n",
            "\n",
            "\n",
            "Attaching package: 'car'\n",
            "\n",
            "\n",
            "The following object is masked from 'package:FSA':\n",
            "\n",
            "    bootCase\n",
            "\n",
            "\n",
            "The following object is masked from 'package:psych':\n",
            "\n",
            "    logit\n",
            "\n",
            "\n",
            "Loading required package: multcompView\n",
            "\n",
            "Loading required package: multcomp\n",
            "\n",
            "Loading required package: mvtnorm\n",
            "\n",
            "Loading required package: survival\n",
            "\n",
            "Loading required package: TH.data\n",
            "\n",
            "Loading required package: MASS\n",
            "\n",
            "\n",
            "Attaching package: 'TH.data'\n",
            "\n",
            "\n",
            "The following object is masked from 'package:MASS':\n",
            "\n",
            "    geyser\n",
            "\n",
            "\n",
            "Loading required package: lsmeans\n",
            "\n",
            "Loading required package: emmeans\n",
            "\n",
            "The 'lsmeans' package is now basically a front end for 'emmeans'.\n",
            "Users are encouraged to switch the rest of the way.\n",
            "See help('transition') for more information, including how to\n",
            "convert old 'lsmeans' objects and scripts to work with 'emmeans'.\n",
            "\n",
            "Loading required package: phia\n",
            "\n",
            "Warning message:\n",
            "\"package 'phia' was built under R version 4.2.3\"\n",
            "Loading required package: stringr\n",
            "\n"
          ]
        }
      ],
      "source": [
        "if(!require(psych)){install.packages(\"psych\")}\n",
        "if(!require(FSA)){install.packages(\"FSA\")}\n",
        "if(!require(ggplot2)){install.packages(\"ggplot2\")}\n",
        "if(!require(rcompanion)){install.packages(\"rcompanion\")}\n",
        "if(!require(car)){install.packages(\"car\")}\n",
        "if(!require(multcompView)){install.packages(\"multcompView\")}\n",
        "if(!require(multcomp)){install.packages(\"multcomp\")}\n",
        "if(!require(lsmeans)){install.packages(\"lsmeans\")}\n",
        "if(!require(phia)){install.packages(\"phia\")}\n",
        "if(!require(stringr)){install.packages(\"stringr\")}"
      ]
    },
    {
      "cell_type": "code",
      "execution_count": 2,
      "metadata": {
        "id": "-diM_d3y2AgP",
        "vscode": {
          "languageId": "r"
        }
      },
      "outputs": [
        {
          "name": "stderr",
          "output_type": "stream",
          "text": [
            "\n",
            "Attaching package: 'dplyr'\n",
            "\n",
            "\n",
            "The following object is masked from 'package:MASS':\n",
            "\n",
            "    select\n",
            "\n",
            "\n",
            "The following object is masked from 'package:car':\n",
            "\n",
            "    recode\n",
            "\n",
            "\n",
            "The following objects are masked from 'package:stats':\n",
            "\n",
            "    filter, lag\n",
            "\n",
            "\n",
            "The following objects are masked from 'package:base':\n",
            "\n",
            "    intersect, setdiff, setequal, union\n",
            "\n",
            "\n",
            "\n",
            "Attaching package: 'data.table'\n",
            "\n",
            "\n",
            "The following objects are masked from 'package:dplyr':\n",
            "\n",
            "    between, first, last\n",
            "\n",
            "\n"
          ]
        }
      ],
      "source": [
        "library(rcompanion)\n",
        "library(ggplot2)\n",
        "library(car)\n",
        "library(repr)\n",
        "library(dplyr)\n",
        "library(stringr)\n",
        "library(data.table)\n",
        "library(FSA)"
      ]
    },
    {
      "cell_type": "code",
      "execution_count": 3,
      "metadata": {
        "id": "2Hk2bLDh6W-b",
        "vscode": {
          "languageId": "r"
        }
      },
      "outputs": [
        {
          "data": {
            "text/html": [
              "<table class=\"dataframe\">\n",
              "<caption>A data.frame: 9 × 5</caption>\n",
              "<thead>\n",
              "\t<tr><th></th><th scope=col>Scene</th><th scope=col>Configuration</th><th scope=col>Time</th><th scope=col>OS</th><th scope=col>Lot</th></tr>\n",
              "\t<tr><th></th><th scope=col>&lt;fct&gt;</th><th scope=col>&lt;fct&gt;</th><th scope=col>&lt;chr&gt;</th><th scope=col>&lt;fct&gt;</th><th scope=col>&lt;fct&gt;</th></tr>\n",
              "</thead>\n",
              "<tbody>\n",
              "\t<tr><th scope=row>1</th><td>bidir         </td><td>bvh-halton   </td><td>822.77</td><td>UbuntuNative</td><td>1 </td></tr>\n",
              "\t<tr><th scope=row>2</th><td>bidir         </td><td>bvh-sobol    </td><td>892.74</td><td>UbuntuNative</td><td>1 </td></tr>\n",
              "\t<tr><th scope=row>3</th><td>teapot-metal  </td><td>kdtree-halton</td><td>373.64</td><td>UbuntuNative</td><td>1 </td></tr>\n",
              "\t<tr><th scope=row>4</th><td>buddha-fractal</td><td>bvh-halton   </td><td>166.72</td><td>UbuntuNative</td><td>1 </td></tr>\n",
              "\t<tr><th scope=row>...</th><td>NA            </td><td>NA           </td><td>...   </td><td>NA          </td><td>NA</td></tr>\n",
              "\t<tr><th scope=row>397</th><td>spotfog       </td><td>kdtree-halton</td><td>273.67</td><td>UbuntuVM    </td><td>5 </td></tr>\n",
              "\t<tr><th scope=row>398</th><td>spotfog       </td><td>bvh-halton   </td><td>205.64</td><td>UbuntuVM    </td><td>5 </td></tr>\n",
              "\t<tr><th scope=row>399</th><td>spotfog       </td><td>kdtree-sobol </td><td>267.61</td><td>UbuntuVM    </td><td>5 </td></tr>\n",
              "\t<tr><th scope=row>400</th><td>teapot-metal  </td><td>bvh-sobol    </td><td>312.66</td><td>UbuntuVM    </td><td>5 </td></tr>\n",
              "</tbody>\n",
              "</table>\n"
            ],
            "text/latex": [
              "A data.frame: 9 × 5\n",
              "\\begin{tabular}{r|lllll}\n",
              "  & Scene & Configuration & Time & OS & Lot\\\\\n",
              "  & <fct> & <fct> & <chr> & <fct> & <fct>\\\\\n",
              "\\hline\n",
              "\t1 & bidir          & bvh-halton    & 822.77 & UbuntuNative & 1 \\\\\n",
              "\t2 & bidir          & bvh-sobol     & 892.74 & UbuntuNative & 1 \\\\\n",
              "\t3 & teapot-metal   & kdtree-halton & 373.64 & UbuntuNative & 1 \\\\\n",
              "\t4 & buddha-fractal & bvh-halton    & 166.72 & UbuntuNative & 1 \\\\\n",
              "\t... & NA             & NA            & ...    & NA           & NA\\\\\n",
              "\t397 & spotfog        & kdtree-halton & 273.67 & UbuntuVM     & 5 \\\\\n",
              "\t398 & spotfog        & bvh-halton    & 205.64 & UbuntuVM     & 5 \\\\\n",
              "\t399 & spotfog        & kdtree-sobol  & 267.61 & UbuntuVM     & 5 \\\\\n",
              "\t400 & teapot-metal   & bvh-sobol     & 312.66 & UbuntuVM     & 5 \\\\\n",
              "\\end{tabular}\n"
            ],
            "text/markdown": [
              "\n",
              "A data.frame: 9 × 5\n",
              "\n",
              "| <!--/--> | Scene &lt;fct&gt; | Configuration &lt;fct&gt; | Time &lt;chr&gt; | OS &lt;fct&gt; | Lot &lt;fct&gt; |\n",
              "|---|---|---|---|---|---|\n",
              "| 1 | bidir          | bvh-halton    | 822.77 | UbuntuNative | 1  |\n",
              "| 2 | bidir          | bvh-sobol     | 892.74 | UbuntuNative | 1  |\n",
              "| 3 | teapot-metal   | kdtree-halton | 373.64 | UbuntuNative | 1  |\n",
              "| 4 | buddha-fractal | bvh-halton    | 166.72 | UbuntuNative | 1  |\n",
              "| ... | NA             | NA            | ...    | NA           | NA |\n",
              "| 397 | spotfog        | kdtree-halton | 273.67 | UbuntuVM     | 5  |\n",
              "| 398 | spotfog        | bvh-halton    | 205.64 | UbuntuVM     | 5  |\n",
              "| 399 | spotfog        | kdtree-sobol  | 267.61 | UbuntuVM     | 5  |\n",
              "| 400 | teapot-metal   | bvh-sobol     | 312.66 | UbuntuVM     | 5  |\n",
              "\n"
            ],
            "text/plain": [
              "    Scene          Configuration Time   OS           Lot\n",
              "1   bidir          bvh-halton    822.77 UbuntuNative 1  \n",
              "2   bidir          bvh-sobol     892.74 UbuntuNative 1  \n",
              "3   teapot-metal   kdtree-halton 373.64 UbuntuNative 1  \n",
              "4   buddha-fractal bvh-halton    166.72 UbuntuNative 1  \n",
              "... NA             NA            ...    NA           NA \n",
              "397 spotfog        kdtree-halton 273.67 UbuntuVM     5  \n",
              "398 spotfog        bvh-halton    205.64 UbuntuVM     5  \n",
              "399 spotfog        kdtree-sobol  267.61 UbuntuVM     5  \n",
              "400 teapot-metal   bvh-sobol     312.66 UbuntuVM     5  "
            ]
          },
          "metadata": {},
          "output_type": "display_data"
        },
        {
          "data": {
            "text/plain": [
              "            Scene           Configuration      Time                   OS    \n",
              " bidir         :100   bvh-halton   :100   Min.   : 137.7   WSL         :80  \n",
              " buddha-fractal:100   bvh-sobol    :100   1st Qu.: 222.4   UbuntuVM    :80  \n",
              " spotfog       :100   kdtree-halton:100   Median : 311.0   UbuntuNative:80  \n",
              " teapot-metal  :100   kdtree-sobol :100   Mean   : 462.5   BSD         :80  \n",
              "                                          3rd Qu.: 565.1   Windows     :80  \n",
              "                                          Max.   :1714.4                    \n",
              " Lot   \n",
              " 1:80  \n",
              " 2:80  \n",
              " 3:80  \n",
              " 4:80  \n",
              " 5:80  \n",
              "       "
            ]
          },
          "metadata": {},
          "output_type": "display_data"
        },
        {
          "name": "stdout",
          "output_type": "stream",
          "text": [
            "'data.frame':\t400 obs. of  5 variables:\n",
            " $ Scene        : Factor w/ 4 levels \"bidir\",\"buddha-fractal\",..: 1 1 4 2 3 3 4 1 4 3 ...\n",
            " $ Configuration: Factor w/ 4 levels \"bvh-halton\",\"bvh-sobol\",..: 1 2 3 1 3 1 1 4 4 4 ...\n",
            " $ Time         : num  823 893 374 167 309 ...\n",
            " $ OS           : Factor w/ 5 levels \"WSL\",\"UbuntuVM\",..: 3 3 3 3 3 3 3 3 3 3 ...\n",
            " $ Lot          : Factor w/ 5 levels \"1\",\"2\",\"3\",\"4\",..: 1 1 1 1 1 1 1 1 1 1 ...\n"
          ]
        }
      ],
      "source": [
        "table <- read.table(\n",
        "    \"datos-auto.txt\",\n",
        "    header=TRUE,\n",
        "    colClasses = c(\"factor\", \"factor\", \"factor\", \"factor\", \"factor\", \"double\", \"factor\", \"factor\"))\n",
        "data <- data.frame(table)\n",
        "data$Filename <- NULL\n",
        "data$Accelerator <- NULL\n",
        "data$Sampler <- NULL\n",
        "data$Machine <- NULL\n",
        "data$Time <- as.double(data$Time)\n",
        "data$OS <- factor(data$OS, levels = c(\"WSL\", \"UbuntuVM\", \"UbuntuNative\", \"BSD\", \"Windows\"))\n",
        "headTail(data)\n",
        "summary(data)\n",
        "str(data)"
      ]
    },
    {
      "cell_type": "code",
      "execution_count": 4,
      "metadata": {
        "id": "6sefS7OV6e-S",
        "vscode": {
          "languageId": "r"
        }
      },
      "outputs": [
        {
          "data": {
            "text/html": [
              "<table class=\"dataframe\">\n",
              "<caption>A data.frame: 0 × 5</caption>\n",
              "<thead>\n",
              "\t<tr><th scope=col>Scene</th><th scope=col>Configuration</th><th scope=col>Time</th><th scope=col>OS</th><th scope=col>Lot</th></tr>\n",
              "\t<tr><th scope=col>&lt;fct&gt;</th><th scope=col>&lt;fct&gt;</th><th scope=col>&lt;dbl&gt;</th><th scope=col>&lt;fct&gt;</th><th scope=col>&lt;fct&gt;</th></tr>\n",
              "</thead>\n",
              "<tbody>\n",
              "</tbody>\n",
              "</table>\n"
            ],
            "text/latex": [
              "A data.frame: 0 × 5\n",
              "\\begin{tabular}{lllll}\n",
              " Scene & Configuration & Time & OS & Lot\\\\\n",
              " <fct> & <fct> & <dbl> & <fct> & <fct>\\\\\n",
              "\\hline\n",
              "\\end{tabular}\n"
            ],
            "text/markdown": [
              "\n",
              "A data.frame: 0 × 5\n",
              "\n",
              "| Scene &lt;fct&gt; | Configuration &lt;fct&gt; | Time &lt;dbl&gt; | OS &lt;fct&gt; | Lot &lt;fct&gt; |\n",
              "|---|---|---|---|---|\n",
              "\n"
            ],
            "text/plain": [
              "     Scene Configuration Time OS Lot"
            ]
          },
          "metadata": {},
          "output_type": "display_data"
        }
      ],
      "source": [
        "# make sure there are no nulls\n",
        "data[rowSums(is.na(data))!=0,]"
      ]
    },
    {
      "cell_type": "code",
      "execution_count": 5,
      "metadata": {
        "id": "pir9nUeb6gWQ",
        "vscode": {
          "languageId": "r"
        }
      },
      "outputs": [
        {
          "data": {
            "text/plain": [
              "\n",
              "         WSL     UbuntuVM UbuntuNative          BSD      Windows \n",
              "          80           80           80           80           80 "
            ]
          },
          "metadata": {},
          "output_type": "display_data"
        },
        {
          "data": {
            "text/plain": [
              "\n",
              "   bvh-halton     bvh-sobol kdtree-halton  kdtree-sobol \n",
              "          100           100           100           100 "
            ]
          },
          "metadata": {},
          "output_type": "display_data"
        },
        {
          "data": {
            "text/plain": [
              "\n",
              " 1  2  3  4  5 \n",
              "80 80 80 80 80 "
            ]
          },
          "metadata": {},
          "output_type": "display_data"
        }
      ],
      "source": [
        "# make sure everything looks ok\n",
        "table(data$OS)\n",
        "table(data$Configuration)\n",
        "table(data$Lot)\n"
      ]
    },
    {
      "cell_type": "code",
      "execution_count": 6,
      "metadata": {
        "id": "DKTTDf4v6klX",
        "vscode": {
          "languageId": "r"
        }
      },
      "outputs": [
        {
          "data": {
            "image/png": "[encoded data removed]",
            "text/plain": [
              "plot without title"
            ]
          },
          "metadata": {
            "image/png": {
              "height": 420,
              "width": 420
            }
          },
          "output_type": "display_data"
        }
      ],
      "source": [
        "# Diagrama de cajas - Recordar que los bigotes es el rango\n",
        "M = tapply(data$Time, INDEX = data$OS, FUN = mean)\n",
        "boxplot(Time ~ OS, data = data)\n",
        "points(M, col=\"red\", pch=\"+\", cex=2)"
      ]
    },
    {
      "cell_type": "code",
      "execution_count": 7,
      "metadata": {
        "id": "-SyifadY6pxV",
        "vscode": {
          "languageId": "r"
        }
      },
      "outputs": [
        {
          "data": {
            "image/png": "[encoded data removed]",
            "text/plain": [
              "plot without title"
            ]
          },
          "metadata": {
            "image/png": {
              "height": 420,
              "width": 420
            }
          },
          "output_type": "display_data"
        }
      ],
      "source": [
        "# Diagrama de cajas - Recordar que los bigotes es el rango\n",
        "M = tapply(data$Time, INDEX = data$Configuration, FUN = mean)\n",
        "boxplot(Time ~ Configuration, data = data)\n",
        "points(M, col=\"red\", pch=\"+\", cex=2)"
      ]
    },
    {
      "cell_type": "code",
      "execution_count": 8,
      "metadata": {
        "id": "YmDLuoc06ruE",
        "vscode": {
          "languageId": "r"
        }
      },
      "outputs": [
        {
          "data": {
            "image/png": "[encoded data removed]",
            "text/plain": [
              "plot without title"
            ]
          },
          "metadata": {
            "image/png": {
              "height": 420,
              "width": 420
            }
          },
          "output_type": "display_data"
        }
      ],
      "source": [
        "# Diagrama de cajas - Recordar que los bigotes es el rango\n",
        "M = tapply(data$Time, INDEX = data$Scene, FUN = mean)\n",
        "boxplot(Time ~ Scene, data = data)\n",
        "points(M, col=\"red\", pch=\"+\", cex=2)"
      ]
    },
    {
      "cell_type": "code",
      "execution_count": 9,
      "metadata": {
        "vscode": {
          "languageId": "r"
        }
      },
      "outputs": [
        {
          "data": {
            "image/png": "[encoded data removed]",
            "text/plain": [
              "plot without title"
            ]
          },
          "metadata": {
            "image/png": {
              "height": 420,
              "width": 420
            }
          },
          "output_type": "display_data"
        }
      ],
      "source": [
        "# Diagrama de cajas - Recordar que los bigotes es el rango\n",
        "M = tapply(data$Time, INDEX = data$Lot, FUN = mean)\n",
        "boxplot(Time ~ Lot, data = data)\n",
        "points(M, col=\"red\", pch=\"+\", cex=2)"
      ]
    },
    {
      "cell_type": "code",
      "execution_count": 10,
      "metadata": {
        "id": "ZDAZzJi16tc_",
        "vscode": {
          "languageId": "r"
        }
      },
      "outputs": [
        {
          "data": {
            "image/png": "[encoded data removed]",
            "text/plain": [
              "plot without title"
            ]
          },
          "metadata": {
            "image/png": {
              "height": 420,
              "width": 420
            }
          },
          "output_type": "display_data"
        },
        {
          "data": {
            "image/png": "[encoded data removed]",
            "text/plain": [
              "plot without title"
            ]
          },
          "metadata": {
            "image/png": {
              "height": 420,
              "width": 420
            }
          },
          "output_type": "display_data"
        },
        {
          "data": {
            "image/png": "[encoded data removed]",
            "text/plain": [
              "plot without title"
            ]
          },
          "metadata": {
            "image/png": {
              "height": 420,
              "width": 420
            }
          },
          "output_type": "display_data"
        }
      ],
      "source": [
        "#Grafico simple de interaccion, se hace antes de analisis de varianzas y modelos\n",
        "\n",
        "interaction.plot(x.factor= data$Configuration,\n",
        "                 trace.factor= data$OS,\n",
        "                 response = data$Time,\n",
        "                 fun=mean, type=\"b\", col=c(\"black\", \"red\", \"green\", \"blue\", \"pink\"),\n",
        "                 pch=c(19,17,15), fixed=TRUE, leg.bty=\"o\")\n",
        "\n",
        "#TODO: Find a way to represent this more visible\n",
        "interaction.plot(x.factor= data$Scene,\n",
        "                 trace.factor= data$OS,\n",
        "                 response = data$Time,\n",
        "                 fun=mean, type=\"b\", col=c(\"black\", \"red\", \"green\", \"blue\", \"pink\"),\n",
        "                 pch=c(19,17,15), fixed=TRUE, leg.bty=\"o\")\n",
        "\n",
        "interaction.plot(x.factor= data$Lot,\n",
        "                 trace.factor= data$OS,\n",
        "                 response = data$Time,\n",
        "                 fun=mean, type=\"b\", col=c(\"black\", \"red\", \"green\", \"blue\", \"pink\"),\n",
        "                 pch=c(19,17,15), fixed=TRUE, leg.bty=\"o\")\n"
      ]
    },
    {
      "cell_type": "code",
      "execution_count": 11,
      "metadata": {
        "id": "aFj2na3s6w_D",
        "vscode": {
          "languageId": "r"
        }
      },
      "outputs": [
        {
          "data": {
            "image/png": "[encoded data removed]",
            "text/plain": [
              "plot without title"
            ]
          },
          "metadata": {
            "image/png": {
              "height": 420,
              "width": 420
            }
          },
          "output_type": "display_data"
        },
        {
          "data": {
            "image/png": "[encoded data removed]",
            "text/plain": [
              "plot without title"
            ]
          },
          "metadata": {
            "image/png": {
              "height": 420,
              "width": 420
            }
          },
          "output_type": "display_data"
        },
        {
          "data": {
            "image/png": "[encoded data removed]",
            "text/plain": [
              "plot without title"
            ]
          },
          "metadata": {
            "image/png": {
              "height": 420,
              "width": 420
            }
          },
          "output_type": "display_data"
        }
      ],
      "source": [
        "ggplot(data, aes(x=Time, fill=OS)) +\n",
        "  geom_histogram(color='black', alpha=0.4, binwidth = 50) +\n",
        "  scale_fill_manual(values=rainbow(6, s = 0.8))\n",
        "\n",
        "ggplot(data, aes(x=Time, fill=Configuration)) +\n",
        "  geom_histogram(color='black', alpha=0.4, binwidth = 50) +\n",
        "  scale_fill_manual(values=rainbow(6, s = 0.8))\n",
        "\n",
        "ggplot(data, aes(x=Time, fill=Scene)) +\n",
        "  geom_histogram(color='black', alpha=0.4, binwidth = 50) +\n",
        "  scale_fill_manual(values=rainbow(6, s = 0.8))"
      ]
    },
    {
      "attachments": {},
      "cell_type": "markdown",
      "metadata": {
        "id": "5KvT82rH66Oe"
      },
      "source": [
        "## Chequeamos Homocedasticidad"
      ]
    },
    {
      "cell_type": "code",
      "execution_count": 12,
      "metadata": {
        "id": "rsMThpxA6z9A",
        "vscode": {
          "languageId": "r"
        }
      },
      "outputs": [
        {
          "data": {
            "text/html": [
              "<table class=\"dataframe\">\n",
              "<caption>A anova: 2 × 3</caption>\n",
              "<thead>\n",
              "\t<tr><th></th><th scope=col>Df</th><th scope=col>F value</th><th scope=col>Pr(&gt;F)</th></tr>\n",
              "\t<tr><th></th><th scope=col>&lt;int&gt;</th><th scope=col>&lt;dbl&gt;</th><th scope=col>&lt;dbl&gt;</th></tr>\n",
              "</thead>\n",
              "<tbody>\n",
              "\t<tr><th scope=row>group</th><td> 79</td><td>2.076882</td><td>4.692274e-06</td></tr>\n",
              "\t<tr><th scope=row> </th><td>320</td><td>      NA</td><td>          NA</td></tr>\n",
              "</tbody>\n",
              "</table>\n"
            ],
            "text/latex": [
              "A anova: 2 × 3\n",
              "\\begin{tabular}{r|lll}\n",
              "  & Df & F value & Pr(>F)\\\\\n",
              "  & <int> & <dbl> & <dbl>\\\\\n",
              "\\hline\n",
              "\tgroup &  79 & 2.076882 & 4.692274e-06\\\\\n",
              "\t  & 320 &       NA &           NA\\\\\n",
              "\\end{tabular}\n"
            ],
            "text/markdown": [
              "\n",
              "A anova: 2 × 3\n",
              "\n",
              "| <!--/--> | Df &lt;int&gt; | F value &lt;dbl&gt; | Pr(&gt;F) &lt;dbl&gt; |\n",
              "|---|---|---|---|\n",
              "| group |  79 | 2.076882 | 4.692274e-06 |\n",
              "| <!----> | 320 |       NA |           NA |\n",
              "\n"
            ],
            "text/plain": [
              "      Df  F value  Pr(>F)      \n",
              "group  79 2.076882 4.692274e-06\n",
              "      320       NA           NA"
            ]
          },
          "metadata": {},
          "output_type": "display_data"
        },
        {
          "data": {
            "text/html": [
              "<table class=\"dataframe\">\n",
              "<caption>A anova: 2 × 3</caption>\n",
              "<thead>\n",
              "\t<tr><th></th><th scope=col>Df</th><th scope=col>F value</th><th scope=col>Pr(&gt;F)</th></tr>\n",
              "\t<tr><th></th><th scope=col>&lt;int&gt;</th><th scope=col>&lt;dbl&gt;</th><th scope=col>&lt;dbl&gt;</th></tr>\n",
              "</thead>\n",
              "<tbody>\n",
              "\t<tr><th scope=row>group</th><td> 79</td><td>1.303224</td><td>0.05898832</td></tr>\n",
              "\t<tr><th scope=row> </th><td>320</td><td>      NA</td><td>        NA</td></tr>\n",
              "</tbody>\n",
              "</table>\n"
            ],
            "text/latex": [
              "A anova: 2 × 3\n",
              "\\begin{tabular}{r|lll}\n",
              "  & Df & F value & Pr(>F)\\\\\n",
              "  & <int> & <dbl> & <dbl>\\\\\n",
              "\\hline\n",
              "\tgroup &  79 & 1.303224 & 0.05898832\\\\\n",
              "\t  & 320 &       NA &         NA\\\\\n",
              "\\end{tabular}\n"
            ],
            "text/markdown": [
              "\n",
              "A anova: 2 × 3\n",
              "\n",
              "| <!--/--> | Df &lt;int&gt; | F value &lt;dbl&gt; | Pr(&gt;F) &lt;dbl&gt; |\n",
              "|---|---|---|---|\n",
              "| group |  79 | 1.303224 | 0.05898832 |\n",
              "| <!----> | 320 |       NA |         NA |\n",
              "\n"
            ],
            "text/plain": [
              "      Df  F value  Pr(>F)    \n",
              "group  79 1.303224 0.05898832\n",
              "      320       NA         NA"
            ]
          },
          "metadata": {},
          "output_type": "display_data"
        },
        {
          "data": {
            "text/html": [
              "<table class=\"dataframe\">\n",
              "<caption>A anova: 2 × 3</caption>\n",
              "<thead>\n",
              "\t<tr><th></th><th scope=col>Df</th><th scope=col>F value</th><th scope=col>Pr(&gt;F)</th></tr>\n",
              "\t<tr><th></th><th scope=col>&lt;int&gt;</th><th scope=col>&lt;dbl&gt;</th><th scope=col>&lt;dbl&gt;</th></tr>\n",
              "</thead>\n",
              "<tbody>\n",
              "\t<tr><th scope=row>group</th><td> 79</td><td>1.064983</td><td>0.3475865</td></tr>\n",
              "\t<tr><th scope=row> </th><td>320</td><td>      NA</td><td>       NA</td></tr>\n",
              "</tbody>\n",
              "</table>\n"
            ],
            "text/latex": [
              "A anova: 2 × 3\n",
              "\\begin{tabular}{r|lll}\n",
              "  & Df & F value & Pr(>F)\\\\\n",
              "  & <int> & <dbl> & <dbl>\\\\\n",
              "\\hline\n",
              "\tgroup &  79 & 1.064983 & 0.3475865\\\\\n",
              "\t  & 320 &       NA &        NA\\\\\n",
              "\\end{tabular}\n"
            ],
            "text/markdown": [
              "\n",
              "A anova: 2 × 3\n",
              "\n",
              "| <!--/--> | Df &lt;int&gt; | F value &lt;dbl&gt; | Pr(&gt;F) &lt;dbl&gt; |\n",
              "|---|---|---|---|\n",
              "| group |  79 | 1.064983 | 0.3475865 |\n",
              "| <!----> | 320 |       NA |        NA |\n",
              "\n"
            ],
            "text/plain": [
              "      Df  F value  Pr(>F)   \n",
              "group  79 1.064983 0.3475865\n",
              "      320       NA        NA"
            ]
          },
          "metadata": {},
          "output_type": "display_data"
        },
        {
          "data": {
            "text/html": [
              "<table class=\"dataframe\">\n",
              "<caption>A anova: 2 × 3</caption>\n",
              "<thead>\n",
              "\t<tr><th></th><th scope=col>Df</th><th scope=col>F value</th><th scope=col>Pr(&gt;F)</th></tr>\n",
              "\t<tr><th></th><th scope=col>&lt;int&gt;</th><th scope=col>&lt;dbl&gt;</th><th scope=col>&lt;dbl&gt;</th></tr>\n",
              "</thead>\n",
              "<tbody>\n",
              "\t<tr><th scope=row>group</th><td> 79</td><td>0.7895946</td><td>0.8961707</td></tr>\n",
              "\t<tr><th scope=row> </th><td>320</td><td>       NA</td><td>       NA</td></tr>\n",
              "</tbody>\n",
              "</table>\n"
            ],
            "text/latex": [
              "A anova: 2 × 3\n",
              "\\begin{tabular}{r|lll}\n",
              "  & Df & F value & Pr(>F)\\\\\n",
              "  & <int> & <dbl> & <dbl>\\\\\n",
              "\\hline\n",
              "\tgroup &  79 & 0.7895946 & 0.8961707\\\\\n",
              "\t  & 320 &        NA &        NA\\\\\n",
              "\\end{tabular}\n"
            ],
            "text/markdown": [
              "\n",
              "A anova: 2 × 3\n",
              "\n",
              "| <!--/--> | Df &lt;int&gt; | F value &lt;dbl&gt; | Pr(&gt;F) &lt;dbl&gt; |\n",
              "|---|---|---|---|\n",
              "| group |  79 | 0.7895946 | 0.8961707 |\n",
              "| <!----> | 320 |        NA |        NA |\n",
              "\n"
            ],
            "text/plain": [
              "      Df  F value   Pr(>F)   \n",
              "group  79 0.7895946 0.8961707\n",
              "      320        NA        NA"
            ]
          },
          "metadata": {},
          "output_type": "display_data"
        }
      ],
      "source": [
        "leveneTest(Time ~ OS * Scene * Configuration, data=data)\n",
        "\n",
        "T_sqrt = sqrt(data$Time)\n",
        "leveneTest(T_sqrt ~ OS * Scene * Configuration, data=data)\n",
        "\n",
        "T_cube = sign(data$Time) * abs(data$Time)^(1/3)\n",
        "leveneTest(T_cube ~ OS * Scene * Configuration, data=data)\n",
        "\n",
        "T_log = log(data$Time)\n",
        "leveneTest(T_log ~ OS * Scene * Configuration, data=data)"
      ]
    },
    {
      "attachments": {},
      "cell_type": "markdown",
      "metadata": {
        "id": "qgJCcpKO7Aj2"
      },
      "source": [
        "From the levene test, we can see that we will need to do some data transformation. The transformation that will be applied is Root Square."
      ]
    },
    {
      "attachments": {},
      "cell_type": "markdown",
      "metadata": {
        "id": "mv3PHkkc7CtT"
      },
      "source": [
        "## Modelo Lineal"
      ]
    },
    {
      "cell_type": "code",
      "execution_count": 13,
      "metadata": {
        "id": "4f1n5Ggv7Bou",
        "vscode": {
          "languageId": "r"
        }
      },
      "outputs": [
        {
          "data": {
            "text/html": [
              "<table class=\"dataframe\">\n",
              "<caption>A anova: 8 × 4</caption>\n",
              "<thead>\n",
              "\t<tr><th></th><th scope=col>Sum Sq</th><th scope=col>Df</th><th scope=col>F value</th><th scope=col>Pr(&gt;F)</th></tr>\n",
              "\t<tr><th></th><th scope=col>&lt;dbl&gt;</th><th scope=col>&lt;dbl&gt;</th><th scope=col>&lt;dbl&gt;</th><th scope=col>&lt;dbl&gt;</th></tr>\n",
              "</thead>\n",
              "<tbody>\n",
              "\t<tr><th scope=row>OS</th><td>  694.91715</td><td>  4</td><td>  782.689978</td><td>8.365154e-164</td></tr>\n",
              "\t<tr><th scope=row>Scene</th><td>19490.20219</td><td>  3</td><td>29269.265707</td><td> 0.000000e+00</td></tr>\n",
              "\t<tr><th scope=row>Configuration</th><td>  614.91966</td><td>  3</td><td>  923.451014</td><td>3.586338e-157</td></tr>\n",
              "\t<tr><th scope=row>OS:Scene</th><td>   96.42750</td><td> 12</td><td>   36.202321</td><td> 1.578842e-52</td></tr>\n",
              "\t<tr><th scope=row>OS:Configuration</th><td>   19.59821</td><td> 12</td><td>    7.357866</td><td> 5.959774e-12</td></tr>\n",
              "\t<tr><th scope=row>Scene:Configuration</th><td>  373.98985</td><td>  9</td><td>  187.212155</td><td>7.875760e-122</td></tr>\n",
              "\t<tr><th scope=row>OS:Scene:Configuration</th><td>   19.41425</td><td> 36</td><td>    2.429600</td><td> 2.351378e-05</td></tr>\n",
              "\t<tr><th scope=row>Residuals</th><td>   71.02860</td><td>320</td><td>          NA</td><td>           NA</td></tr>\n",
              "</tbody>\n",
              "</table>\n"
            ],
            "text/latex": [
              "A anova: 8 × 4\n",
              "\\begin{tabular}{r|llll}\n",
              "  & Sum Sq & Df & F value & Pr(>F)\\\\\n",
              "  & <dbl> & <dbl> & <dbl> & <dbl>\\\\\n",
              "\\hline\n",
              "\tOS &   694.91715 &   4 &   782.689978 & 8.365154e-164\\\\\n",
              "\tScene & 19490.20219 &   3 & 29269.265707 &  0.000000e+00\\\\\n",
              "\tConfiguration &   614.91966 &   3 &   923.451014 & 3.586338e-157\\\\\n",
              "\tOS:Scene &    96.42750 &  12 &    36.202321 &  1.578842e-52\\\\\n",
              "\tOS:Configuration &    19.59821 &  12 &     7.357866 &  5.959774e-12\\\\\n",
              "\tScene:Configuration &   373.98985 &   9 &   187.212155 & 7.875760e-122\\\\\n",
              "\tOS:Scene:Configuration &    19.41425 &  36 &     2.429600 &  2.351378e-05\\\\\n",
              "\tResiduals &    71.02860 & 320 &           NA &            NA\\\\\n",
              "\\end{tabular}\n"
            ],
            "text/markdown": [
              "\n",
              "A anova: 8 × 4\n",
              "\n",
              "| <!--/--> | Sum Sq &lt;dbl&gt; | Df &lt;dbl&gt; | F value &lt;dbl&gt; | Pr(&gt;F) &lt;dbl&gt; |\n",
              "|---|---|---|---|---|\n",
              "| OS |   694.91715 |   4 |   782.689978 | 8.365154e-164 |\n",
              "| Scene | 19490.20219 |   3 | 29269.265707 |  0.000000e+00 |\n",
              "| Configuration |   614.91966 |   3 |   923.451014 | 3.586338e-157 |\n",
              "| OS:Scene |    96.42750 |  12 |    36.202321 |  1.578842e-52 |\n",
              "| OS:Configuration |    19.59821 |  12 |     7.357866 |  5.959774e-12 |\n",
              "| Scene:Configuration |   373.98985 |   9 |   187.212155 | 7.875760e-122 |\n",
              "| OS:Scene:Configuration |    19.41425 |  36 |     2.429600 |  2.351378e-05 |\n",
              "| Residuals |    71.02860 | 320 |           NA |            NA |\n",
              "\n"
            ],
            "text/plain": [
              "                       Sum Sq      Df  F value      Pr(>F)       \n",
              "OS                       694.91715   4   782.689978 8.365154e-164\n",
              "Scene                  19490.20219   3 29269.265707  0.000000e+00\n",
              "Configuration            614.91966   3   923.451014 3.586338e-157\n",
              "OS:Scene                  96.42750  12    36.202321  1.578842e-52\n",
              "OS:Configuration          19.59821  12     7.357866  5.959774e-12\n",
              "Scene:Configuration      373.98985   9   187.212155 7.875760e-122\n",
              "OS:Scene:Configuration    19.41425  36     2.429600  2.351378e-05\n",
              "Residuals                 71.02860 320           NA            NA"
            ]
          },
          "metadata": {},
          "output_type": "display_data"
        }
      ],
      "source": [
        "model = lm(T_sqrt ~ OS * Scene * Configuration, data=data)\n",
        "Anova(model, type=\"II\")"
      ]
    },
    {
      "cell_type": "code",
      "execution_count": 14,
      "metadata": {
        "id": "uijWeddD7KUT",
        "vscode": {
          "languageId": "r"
        }
      },
      "outputs": [
        {
          "data": {
            "image/png": "[encoded data removed]",
            "text/plain": [
              "Plot with title \"Residuos\""
            ]
          },
          "metadata": {
            "image/png": {
              "height": 420,
              "width": 420
            }
          },
          "output_type": "display_data"
        }
      ],
      "source": [
        "x = residuals(model)\n",
        "plotNormalHistogram(x, main=\"Residuos\")"
      ]
    },
    {
      "cell_type": "code",
      "execution_count": 15,
      "metadata": {
        "id": "qanfDX0F7MbX",
        "vscode": {
          "languageId": "r"
        }
      },
      "outputs": [
        {
          "data": {
            "image/png": "[encoded data removed]",
            "text/plain": [
              "plot without title"
            ]
          },
          "metadata": {
            "image/png": {
              "height": 420,
              "width": 420
            }
          },
          "output_type": "display_data"
        },
        {
          "data": {
            "image/png": "[encoded data removed]",
            "text/plain": [
              "Plot with title \"\""
            ]
          },
          "metadata": {
            "image/png": {
              "height": 420,
              "width": 420
            }
          },
          "output_type": "display_data"
        },
        {
          "data": {
            "image/png": "[encoded data removed]",
            "text/plain": [
              "Plot with title \"\""
            ]
          },
          "metadata": {
            "image/png": {
              "height": 420,
              "width": 420
            }
          },
          "output_type": "display_data"
        },
        {
          "data": {
            "image/png": "[encoded data removed]",
            "text/plain": [
              "Plot with title \"\""
            ]
          },
          "metadata": {
            "image/png": {
              "height": 420,
              "width": 420
            }
          },
          "output_type": "display_data"
        },
        {
          "data": {
            "image/png": "[encoded data removed]",
            "text/plain": [
              "Plot with title \"\""
            ]
          },
          "metadata": {
            "image/png": {
              "height": 420,
              "width": 420
            }
          },
          "output_type": "display_data"
        }
      ],
      "source": [
        "plot(fitted(model), residuals(model))\n",
        "plot(model)"
      ]
    },
    {
      "attachments": {},
      "cell_type": "markdown",
      "metadata": {
        "id": "_YeauztV7RPa"
      },
      "source": [
        "## Analisis Post-Hoc"
      ]
    },
    {
      "cell_type": "code",
      "execution_count": 16,
      "metadata": {
        "id": "vYP6UD7r7Paa",
        "vscode": {
          "languageId": "r"
        }
      },
      "outputs": [
        {
          "name": "stderr",
          "output_type": "stream",
          "text": [
            "NOTE: Results may be misleading due to involvement in interactions\n",
            "\n"
          ]
        },
        {
          "name": "stdout",
          "output_type": "stream",
          "text": [
            " OS           lsmean      SE  df lower.CL upper.CL .group\n",
            " WSL           18.80 0.05267 320    18.66    18.93  a    \n",
            " UbuntuVM      19.02 0.05267 320    18.88    19.16   b   \n",
            " UbuntuNative  20.12 0.05267 320    19.99    20.26    c  \n",
            " BSD           20.74 0.05267 320    20.61    20.88     d \n",
            " Windows       22.44 0.05267 320    22.31    22.58      e\n",
            "\n",
            "Results are averaged over the levels of: Scene, Configuration \n",
            "Confidence level used: 0.95 \n",
            "Conf-level adjustment: sidak method for 5 estimates \n",
            "P value adjustment: sidak method for 10 tests \n",
            "significance level used: alpha = 0.05 \n",
            "NOTE: If two or more means share the same grouping symbol,\n",
            "      then we cannot show them to be different.\n",
            "      But we also did not show them to be the same. \n"
          ]
        },
        {
          "data": {
            "text/plain": [
              " contrast                estimate     SE  df t.ratio p.value\n",
              " WSL - UbuntuVM            -0.225 0.0745 320  -3.014  0.0232\n",
              " WSL - UbuntuNative        -1.327 0.0745 320 -17.812  <.0001\n",
              " WSL - BSD                 -1.947 0.0745 320 -26.131  <.0001\n",
              " WSL - Windows             -3.646 0.0745 320 -48.945  <.0001\n",
              " UbuntuVM - UbuntuNative   -1.102 0.0745 320 -14.799  <.0001\n",
              " UbuntuVM - BSD            -1.722 0.0745 320 -23.117  <.0001\n",
              " UbuntuVM - Windows        -3.422 0.0745 320 -45.932  <.0001\n",
              " UbuntuNative - BSD        -0.620 0.0745 320  -8.319  <.0001\n",
              " UbuntuNative - Windows    -2.319 0.0745 320 -31.133  <.0001\n",
              " BSD - Windows             -1.699 0.0745 320 -22.814  <.0001\n",
              "\n",
              "Results are averaged over the levels of: Scene, Configuration \n",
              "P value adjustment: tukey method for comparing a family of 5 estimates "
            ]
          },
          "metadata": {},
          "output_type": "display_data"
        },
        {
          "name": "stderr",
          "output_type": "stream",
          "text": [
            "Warning message:\n",
            "\"\u001b[1m\u001b[22mUsing `size` aesthetic for lines was deprecated in ggplot2 3.4.0.\n",
            "\u001b[36mℹ\u001b[39m Please use `linewidth` instead.\"\n"
          ]
        },
        {
          "data": {
            "image/png": "[encoded data removed]",
            "text/plain": [
              "plot without title"
            ]
          },
          "metadata": {
            "image/png": {
              "height": 420,
              "width": 420
            }
          },
          "output_type": "display_data"
        }
      ],
      "source": [
        "marginal = lsmeans(model, pairwise ~ OS, adjust=\"tucky\")\n",
        "CLD = cld(marginal, alpha = 0.05, Letters = letters, adjust = \"sidak\")\n",
        "print(CLD)\n",
        "pairs(marginal, adjust = \"tukey\")\n",
        "\n",
        "library(ggplot2)\n",
        "ggplot(CLD,\n",
        "    aes(x = OS,\n",
        "    y = lsmean,\n",
        "    label = .group)) +\n",
        "    geom_point(shape = 15,\n",
        "    size = 4) + geom_errorbar(aes(ymin = lower.CL,\n",
        "    ymax = upper.CL),\n",
        "    width = 0.2,\n",
        "    size = 0.7) +\n",
        "    theme_bw() +\n",
        "    theme(axis.title = element_text(face = \"bold\"),\n",
        "    axis.text = element_text(face = \"bold\"),\n",
        "    plot.caption = element_text(hjust = 0)) +\n",
        "    ylab(\"Least Square Mean\\n   Execution Time\")"
      ]
    },
    {
      "cell_type": "code",
      "execution_count": 17,
      "metadata": {
        "id": "RXx89vr_7fky",
        "vscode": {
          "languageId": "r"
        }
      },
      "outputs": [
        {
          "name": "stderr",
          "output_type": "stream",
          "text": [
            "NOTE: Results may be misleading due to involvement in interactions\n",
            "\n"
          ]
        },
        {
          "name": "stdout",
          "output_type": "stream",
          "text": [
            " OS           Configuration lsmean    SE  df lower.CL upper.CL .group     \n",
            " WSL          bvh-sobol       17.6 0.105 320     17.3     17.9  a         \n",
            " UbuntuVM     bvh-sobol       17.7 0.105 320     17.4     18.0  a         \n",
            " WSL          bvh-halton      17.9 0.105 320     17.6     18.2  a         \n",
            " UbuntuVM     bvh-halton      18.1 0.105 320     17.7     18.4  a         \n",
            " UbuntuNative bvh-sobol       18.9 0.105 320     18.5     19.2   b        \n",
            " UbuntuNative bvh-halton      19.1 0.105 320     18.8     19.4   bc       \n",
            " BSD          bvh-sobol       19.5 0.105 320     19.2     19.9    cd      \n",
            " BSD          bvh-halton      19.6 0.105 320     19.3     19.9    cd      \n",
            " WSL          kdtree-sobol    19.7 0.105 320     19.4     20.0     d      \n",
            " WSL          kdtree-halton   20.0 0.105 320     19.7     20.3     de     \n",
            " UbuntuVM     kdtree-sobol    20.0 0.105 320     19.7     20.3     de     \n",
            " UbuntuVM     kdtree-halton   20.3 0.105 320     20.0     20.6      ef    \n",
            " Windows      bvh-sobol       20.6 0.105 320     20.3     20.9       fg   \n",
            " Windows      bvh-halton      21.0 0.105 320     20.7     21.3        gh  \n",
            " UbuntuNative kdtree-sobol    21.2 0.105 320     20.9     21.5         h  \n",
            " UbuntuNative kdtree-halton   21.4 0.105 320     21.0     21.7         hi \n",
            " BSD          kdtree-sobol    21.9 0.105 320     21.6     22.2          i \n",
            " BSD          kdtree-halton   21.9 0.105 320     21.6     22.2          i \n",
            " Windows      kdtree-sobol    23.8 0.105 320     23.5     24.2           j\n",
            " Windows      kdtree-halton   24.3 0.105 320     24.0     24.7           j\n",
            "\n",
            "Results are averaged over the levels of: Scene \n",
            "Confidence level used: 0.95 \n",
            "Conf-level adjustment: sidak method for 20 estimates \n",
            "P value adjustment: sidak method for 190 tests \n",
            "significance level used: alpha = 0.05 \n",
            "NOTE: If two or more means share the same grouping symbol,\n",
            "      then we cannot show them to be different.\n",
            "      But we also did not show them to be the same. \n"
          ]
        },
        {
          "data": {
            "text/plain": [
              " contrast                                                   estimate    SE  df\n",
              " (WSL bvh-halton) - (UbuntuVM bvh-halton)                   -0.17536 0.149 320\n",
              " (WSL bvh-halton) - (UbuntuNative bvh-halton)               -1.20904 0.149 320\n",
              " (WSL bvh-halton) - (BSD bvh-halton)                        -1.73516 0.149 320\n",
              " (WSL bvh-halton) - (Windows bvh-halton)                    -3.13967 0.149 320\n",
              " (WSL bvh-halton) - (WSL bvh-sobol)                          0.29636 0.149 320\n",
              " (WSL bvh-halton) - (UbuntuVM bvh-sobol)                     0.15826 0.149 320\n",
              " (WSL bvh-halton) - (UbuntuNative bvh-sobol)                -0.98687 0.149 320\n",
              " (WSL bvh-halton) - (BSD bvh-sobol)                         -1.67156 0.149 320\n",
              " (WSL bvh-halton) - (Windows bvh-sobol)                     -2.69834 0.149 320\n",
              " (WSL bvh-halton) - (WSL kdtree-halton)                     -2.12870 0.149 320\n",
              " (WSL bvh-halton) - (UbuntuVM kdtree-halton)                -2.42651 0.149 320\n",
              " (WSL bvh-halton) - (UbuntuNative kdtree-halton)            -3.48728 0.149 320\n",
              " (WSL bvh-halton) - (BSD kdtree-halton)                     -4.03559 0.149 320\n",
              " (WSL bvh-halton) - (Windows kdtree-halton)                 -6.45766 0.149 320\n",
              " (WSL bvh-halton) - (WSL kdtree-sobol)                      -1.84899 0.149 320\n",
              " (WSL bvh-halton) - (UbuntuVM kdtree-sobol)                 -2.13574 0.149 320\n",
              " (WSL bvh-halton) - (UbuntuNative kdtree-sobol)             -3.30568 0.149 320\n",
              " (WSL bvh-halton) - (BSD kdtree-sobol)                      -4.02530 0.149 320\n",
              " (WSL bvh-halton) - (Windows kdtree-sobol)                  -5.96984 0.149 320\n",
              " (UbuntuVM bvh-halton) - (UbuntuNative bvh-halton)          -1.03369 0.149 320\n",
              " (UbuntuVM bvh-halton) - (BSD bvh-halton)                   -1.55981 0.149 320\n",
              " (UbuntuVM bvh-halton) - (Windows bvh-halton)               -2.96432 0.149 320\n",
              " (UbuntuVM bvh-halton) - (WSL bvh-sobol)                     0.47171 0.149 320\n",
              " (UbuntuVM bvh-halton) - (UbuntuVM bvh-sobol)                0.33362 0.149 320\n",
              " (UbuntuVM bvh-halton) - (UbuntuNative bvh-sobol)           -0.81152 0.149 320\n",
              " (UbuntuVM bvh-halton) - (BSD bvh-sobol)                    -1.49621 0.149 320\n",
              " (UbuntuVM bvh-halton) - (Windows bvh-sobol)                -2.52299 0.149 320\n",
              " (UbuntuVM bvh-halton) - (WSL kdtree-halton)                -1.95334 0.149 320\n",
              " (UbuntuVM bvh-halton) - (UbuntuVM kdtree-halton)           -2.25115 0.149 320\n",
              " (UbuntuVM bvh-halton) - (UbuntuNative kdtree-halton)       -3.31192 0.149 320\n",
              " (UbuntuVM bvh-halton) - (BSD kdtree-halton)                -3.86024 0.149 320\n",
              " (UbuntuVM bvh-halton) - (Windows kdtree-halton)            -6.28231 0.149 320\n",
              " (UbuntuVM bvh-halton) - (WSL kdtree-sobol)                 -1.67363 0.149 320\n",
              " (UbuntuVM bvh-halton) - (UbuntuVM kdtree-sobol)            -1.96039 0.149 320\n",
              " (UbuntuVM bvh-halton) - (UbuntuNative kdtree-sobol)        -3.13032 0.149 320\n",
              " (UbuntuVM bvh-halton) - (BSD kdtree-sobol)                 -3.84995 0.149 320\n",
              " (UbuntuVM bvh-halton) - (Windows kdtree-sobol)             -5.79449 0.149 320\n",
              " (UbuntuNative bvh-halton) - (BSD bvh-halton)               -0.52611 0.149 320\n",
              " (UbuntuNative bvh-halton) - (Windows bvh-halton)           -1.93063 0.149 320\n",
              " (UbuntuNative bvh-halton) - (WSL bvh-sobol)                 1.50540 0.149 320\n",
              " (UbuntuNative bvh-halton) - (UbuntuVM bvh-sobol)            1.36731 0.149 320\n",
              " (UbuntuNative bvh-halton) - (UbuntuNative bvh-sobol)        0.22217 0.149 320\n",
              " (UbuntuNative bvh-halton) - (BSD bvh-sobol)                -0.46252 0.149 320\n",
              " (UbuntuNative bvh-halton) - (Windows bvh-sobol)            -1.48930 0.149 320\n",
              " (UbuntuNative bvh-halton) - (WSL kdtree-halton)            -0.91965 0.149 320\n",
              " (UbuntuNative bvh-halton) - (UbuntuVM kdtree-halton)       -1.21746 0.149 320\n",
              " (UbuntuNative bvh-halton) - (UbuntuNative kdtree-halton)   -2.27823 0.149 320\n",
              " (UbuntuNative bvh-halton) - (BSD kdtree-halton)            -2.82655 0.149 320\n",
              " (UbuntuNative bvh-halton) - (Windows kdtree-halton)        -5.24862 0.149 320\n",
              " (UbuntuNative bvh-halton) - (WSL kdtree-sobol)             -0.63994 0.149 320\n",
              " (UbuntuNative bvh-halton) - (UbuntuVM kdtree-sobol)        -0.92670 0.149 320\n",
              " (UbuntuNative bvh-halton) - (UbuntuNative kdtree-sobol)    -2.09663 0.149 320\n",
              " (UbuntuNative bvh-halton) - (BSD kdtree-sobol)             -2.81626 0.149 320\n",
              " (UbuntuNative bvh-halton) - (Windows kdtree-sobol)         -4.76080 0.149 320\n",
              " (BSD bvh-halton) - (Windows bvh-halton)                    -1.40451 0.149 320\n",
              " (BSD bvh-halton) - (WSL bvh-sobol)                          2.03152 0.149 320\n",
              " (BSD bvh-halton) - (UbuntuVM bvh-sobol)                     1.89342 0.149 320\n",
              " (BSD bvh-halton) - (UbuntuNative bvh-sobol)                 0.74829 0.149 320\n",
              " (BSD bvh-halton) - (BSD bvh-sobol)                          0.06360 0.149 320\n",
              " (BSD bvh-halton) - (Windows bvh-sobol)                     -0.96318 0.149 320\n",
              " (BSD bvh-halton) - (WSL kdtree-halton)                     -0.39354 0.149 320\n",
              " (BSD bvh-halton) - (UbuntuVM kdtree-halton)                -0.69134 0.149 320\n",
              " (BSD bvh-halton) - (UbuntuNative kdtree-halton)            -1.75212 0.149 320\n",
              " (BSD bvh-halton) - (BSD kdtree-halton)                     -2.30043 0.149 320\n",
              " (BSD bvh-halton) - (Windows kdtree-halton)                 -4.72250 0.149 320\n",
              " (BSD bvh-halton) - (WSL kdtree-sobol)                      -0.11383 0.149 320\n",
              " (BSD bvh-halton) - (UbuntuVM kdtree-sobol)                 -0.40058 0.149 320\n",
              " (BSD bvh-halton) - (UbuntuNative kdtree-sobol)             -1.57052 0.149 320\n",
              " (BSD bvh-halton) - (BSD kdtree-sobol)                      -2.29014 0.149 320\n",
              " (BSD bvh-halton) - (Windows kdtree-sobol)                  -4.23468 0.149 320\n",
              " (Windows bvh-halton) - (WSL bvh-sobol)                      3.43603 0.149 320\n",
              " (Windows bvh-halton) - (UbuntuVM bvh-sobol)                 3.29793 0.149 320\n",
              " (Windows bvh-halton) - (UbuntuNative bvh-sobol)             2.15280 0.149 320\n",
              " (Windows bvh-halton) - (BSD bvh-sobol)                      1.46811 0.149 320\n",
              " (Windows bvh-halton) - (Windows bvh-sobol)                  0.44133 0.149 320\n",
              " (Windows bvh-halton) - (WSL kdtree-halton)                  1.01098 0.149 320\n",
              " (Windows bvh-halton) - (UbuntuVM kdtree-halton)             0.71317 0.149 320\n",
              " (Windows bvh-halton) - (UbuntuNative kdtree-halton)        -0.34760 0.149 320\n",
              " (Windows bvh-halton) - (BSD kdtree-halton)                 -0.89592 0.149 320\n",
              " (Windows bvh-halton) - (Windows kdtree-halton)             -3.31799 0.149 320\n",
              " (Windows bvh-halton) - (WSL kdtree-sobol)                   1.29068 0.149 320\n",
              " (Windows bvh-halton) - (UbuntuVM kdtree-sobol)              1.00393 0.149 320\n",
              " (Windows bvh-halton) - (UbuntuNative kdtree-sobol)         -0.16601 0.149 320\n",
              " (Windows bvh-halton) - (BSD kdtree-sobol)                  -0.88563 0.149 320\n",
              " (Windows bvh-halton) - (Windows kdtree-sobol)              -2.83017 0.149 320\n",
              " (WSL bvh-sobol) - (UbuntuVM bvh-sobol)                     -0.13810 0.149 320\n",
              " (WSL bvh-sobol) - (UbuntuNative bvh-sobol)                 -1.28323 0.149 320\n",
              " (WSL bvh-sobol) - (BSD bvh-sobol)                          -1.96792 0.149 320\n",
              " (WSL bvh-sobol) - (Windows bvh-sobol)                      -2.99470 0.149 320\n",
              " (WSL bvh-sobol) - (WSL kdtree-halton)                      -2.42505 0.149 320\n",
              " (WSL bvh-sobol) - (UbuntuVM kdtree-halton)                 -2.72286 0.149 320\n",
              " (WSL bvh-sobol) - (UbuntuNative kdtree-halton)             -3.78364 0.149 320\n",
              " (WSL bvh-sobol) - (BSD kdtree-halton)                      -4.33195 0.149 320\n",
              " (WSL bvh-sobol) - (Windows kdtree-halton)                  -6.75402 0.149 320\n",
              " (WSL bvh-sobol) - (WSL kdtree-sobol)                       -2.14535 0.149 320\n",
              " (WSL bvh-sobol) - (UbuntuVM kdtree-sobol)                  -2.43210 0.149 320\n",
              " (WSL bvh-sobol) - (UbuntuNative kdtree-sobol)              -3.60203 0.149 320\n",
              " (WSL bvh-sobol) - (BSD kdtree-sobol)                       -4.32166 0.149 320\n",
              " (WSL bvh-sobol) - (Windows kdtree-sobol)                   -6.26620 0.149 320\n",
              " (UbuntuVM bvh-sobol) - (UbuntuNative bvh-sobol)            -1.14513 0.149 320\n",
              " (UbuntuVM bvh-sobol) - (BSD bvh-sobol)                     -1.82983 0.149 320\n",
              " (UbuntuVM bvh-sobol) - (Windows bvh-sobol)                 -2.85661 0.149 320\n",
              " (UbuntuVM bvh-sobol) - (WSL kdtree-halton)                 -2.28696 0.149 320\n",
              " (UbuntuVM bvh-sobol) - (UbuntuVM kdtree-halton)            -2.58477 0.149 320\n",
              " (UbuntuVM bvh-sobol) - (UbuntuNative kdtree-halton)        -3.64554 0.149 320\n",
              " (UbuntuVM bvh-sobol) - (BSD kdtree-halton)                 -4.19385 0.149 320\n",
              " (UbuntuVM bvh-sobol) - (Windows kdtree-halton)             -6.61592 0.149 320\n",
              " (UbuntuVM bvh-sobol) - (WSL kdtree-sobol)                  -2.00725 0.149 320\n",
              " (UbuntuVM bvh-sobol) - (UbuntuVM kdtree-sobol)             -2.29400 0.149 320\n",
              " (UbuntuVM bvh-sobol) - (UbuntuNative kdtree-sobol)         -3.46394 0.149 320\n",
              " (UbuntuVM bvh-sobol) - (BSD kdtree-sobol)                  -4.18356 0.149 320\n",
              " (UbuntuVM bvh-sobol) - (Windows kdtree-sobol)              -6.12810 0.149 320\n",
              " (UbuntuNative bvh-sobol) - (BSD bvh-sobol)                 -0.68469 0.149 320\n",
              " (UbuntuNative bvh-sobol) - (Windows bvh-sobol)             -1.71147 0.149 320\n",
              " (UbuntuNative bvh-sobol) - (WSL kdtree-halton)             -1.14183 0.149 320\n",
              " (UbuntuNative bvh-sobol) - (UbuntuVM kdtree-halton)        -1.43963 0.149 320\n",
              " (UbuntuNative bvh-sobol) - (UbuntuNative kdtree-halton)    -2.50041 0.149 320\n",
              " (UbuntuNative bvh-sobol) - (BSD kdtree-halton)             -3.04872 0.149 320\n",
              " (UbuntuNative bvh-sobol) - (Windows kdtree-halton)         -5.47079 0.149 320\n",
              " (UbuntuNative bvh-sobol) - (WSL kdtree-sobol)              -0.86212 0.149 320\n",
              " (UbuntuNative bvh-sobol) - (UbuntuVM kdtree-sobol)         -1.14887 0.149 320\n",
              " (UbuntuNative bvh-sobol) - (UbuntuNative kdtree-sobol)     -2.31881 0.149 320\n",
              " (UbuntuNative bvh-sobol) - (BSD kdtree-sobol)              -3.03843 0.149 320\n",
              " (UbuntuNative bvh-sobol) - (Windows kdtree-sobol)          -4.98297 0.149 320\n",
              " (BSD bvh-sobol) - (Windows bvh-sobol)                      -1.02678 0.149 320\n",
              " (BSD bvh-sobol) - (WSL kdtree-halton)                      -0.45713 0.149 320\n",
              " (BSD bvh-sobol) - (UbuntuVM kdtree-halton)                 -0.75494 0.149 320\n",
              " (BSD bvh-sobol) - (UbuntuNative kdtree-halton)             -1.81571 0.149 320\n",
              " (BSD bvh-sobol) - (BSD kdtree-halton)                      -2.36403 0.149 320\n",
              " (BSD bvh-sobol) - (Windows kdtree-halton)                  -4.78610 0.149 320\n",
              " (BSD bvh-sobol) - (WSL kdtree-sobol)                       -0.17743 0.149 320\n",
              " (BSD bvh-sobol) - (UbuntuVM kdtree-sobol)                  -0.46418 0.149 320\n",
              " (BSD bvh-sobol) - (UbuntuNative kdtree-sobol)              -1.63411 0.149 320\n",
              " (BSD bvh-sobol) - (BSD kdtree-sobol)                       -2.35374 0.149 320\n",
              " (BSD bvh-sobol) - (Windows kdtree-sobol)                   -4.29828 0.149 320\n",
              " (Windows bvh-sobol) - (WSL kdtree-halton)                   0.56965 0.149 320\n",
              " (Windows bvh-sobol) - (UbuntuVM kdtree-halton)              0.27184 0.149 320\n",
              " (Windows bvh-sobol) - (UbuntuNative kdtree-halton)         -0.78894 0.149 320\n",
              " (Windows bvh-sobol) - (BSD kdtree-halton)                  -1.33725 0.149 320\n",
              " (Windows bvh-sobol) - (Windows kdtree-halton)              -3.75932 0.149 320\n",
              " (Windows bvh-sobol) - (WSL kdtree-sobol)                    0.84935 0.149 320\n",
              " (Windows bvh-sobol) - (UbuntuVM kdtree-sobol)               0.56260 0.149 320\n",
              " (Windows bvh-sobol) - (UbuntuNative kdtree-sobol)          -0.60733 0.149 320\n",
              " (Windows bvh-sobol) - (BSD kdtree-sobol)                   -1.32696 0.149 320\n",
              " (Windows bvh-sobol) - (Windows kdtree-sobol)               -3.27150 0.149 320\n",
              " (WSL kdtree-halton) - (UbuntuVM kdtree-halton)             -0.29781 0.149 320\n",
              " (WSL kdtree-halton) - (UbuntuNative kdtree-halton)         -1.35858 0.149 320\n",
              " (WSL kdtree-halton) - (BSD kdtree-halton)                  -1.90689 0.149 320\n",
              " (WSL kdtree-halton) - (Windows kdtree-halton)              -4.32897 0.149 320\n",
              " (WSL kdtree-halton) - (WSL kdtree-sobol)                    0.27971 0.149 320\n",
              " (WSL kdtree-halton) - (UbuntuVM kdtree-sobol)              -0.00704 0.149 320\n",
              " (WSL kdtree-halton) - (UbuntuNative kdtree-sobol)          -1.17698 0.149 320\n",
              " (WSL kdtree-halton) - (BSD kdtree-sobol)                   -1.89661 0.149 320\n",
              " (WSL kdtree-halton) - (Windows kdtree-sobol)               -3.84115 0.149 320\n",
              " (UbuntuVM kdtree-halton) - (UbuntuNative kdtree-halton)    -1.06078 0.149 320\n",
              " (UbuntuVM kdtree-halton) - (BSD kdtree-halton)             -1.60909 0.149 320\n",
              " (UbuntuVM kdtree-halton) - (Windows kdtree-halton)         -4.03116 0.149 320\n",
              " (UbuntuVM kdtree-halton) - (WSL kdtree-sobol)               0.57751 0.149 320\n",
              " (UbuntuVM kdtree-halton) - (UbuntuVM kdtree-sobol)          0.29076 0.149 320\n",
              " (UbuntuVM kdtree-halton) - (UbuntuNative kdtree-sobol)     -0.87917 0.149 320\n",
              " (UbuntuVM kdtree-halton) - (BSD kdtree-sobol)              -1.59880 0.149 320\n",
              " (UbuntuVM kdtree-halton) - (Windows kdtree-sobol)          -3.54334 0.149 320\n",
              " (UbuntuNative kdtree-halton) - (BSD kdtree-halton)         -0.54831 0.149 320\n",
              " (UbuntuNative kdtree-halton) - (Windows kdtree-halton)     -2.97038 0.149 320\n",
              " (UbuntuNative kdtree-halton) - (WSL kdtree-sobol)           1.63829 0.149 320\n",
              " (UbuntuNative kdtree-halton) - (UbuntuVM kdtree-sobol)      1.35154 0.149 320\n",
              " (UbuntuNative kdtree-halton) - (UbuntuNative kdtree-sobol)  0.18160 0.149 320\n",
              " (UbuntuNative kdtree-halton) - (BSD kdtree-sobol)          -0.53802 0.149 320\n",
              " (UbuntuNative kdtree-halton) - (Windows kdtree-sobol)      -2.48256 0.149 320\n",
              " (BSD kdtree-halton) - (Windows kdtree-halton)              -2.42207 0.149 320\n",
              " (BSD kdtree-halton) - (WSL kdtree-sobol)                    2.18660 0.149 320\n",
              " (BSD kdtree-halton) - (UbuntuVM kdtree-sobol)               1.89985 0.149 320\n",
              " (BSD kdtree-halton) - (UbuntuNative kdtree-sobol)           0.72991 0.149 320\n",
              " (BSD kdtree-halton) - (BSD kdtree-sobol)                    0.01029 0.149 320\n",
              " (BSD kdtree-halton) - (Windows kdtree-sobol)               -1.93425 0.149 320\n",
              " (Windows kdtree-halton) - (WSL kdtree-sobol)                4.60867 0.149 320\n",
              " (Windows kdtree-halton) - (UbuntuVM kdtree-sobol)           4.32192 0.149 320\n",
              " (Windows kdtree-halton) - (UbuntuNative kdtree-sobol)       3.15198 0.149 320\n",
              " (Windows kdtree-halton) - (BSD kdtree-sobol)                2.43236 0.149 320\n",
              " (Windows kdtree-halton) - (Windows kdtree-sobol)            0.48782 0.149 320\n",
              " (WSL kdtree-sobol) - (UbuntuVM kdtree-sobol)               -0.28675 0.149 320\n",
              " (WSL kdtree-sobol) - (UbuntuNative kdtree-sobol)           -1.45669 0.149 320\n",
              " (WSL kdtree-sobol) - (BSD kdtree-sobol)                    -2.17631 0.149 320\n",
              " (WSL kdtree-sobol) - (Windows kdtree-sobol)                -4.12085 0.149 320\n",
              " (UbuntuVM kdtree-sobol) - (UbuntuNative kdtree-sobol)      -1.16994 0.149 320\n",
              " (UbuntuVM kdtree-sobol) - (BSD kdtree-sobol)               -1.88956 0.149 320\n",
              " (UbuntuVM kdtree-sobol) - (Windows kdtree-sobol)           -3.83410 0.149 320\n",
              " (UbuntuNative kdtree-sobol) - (BSD kdtree-sobol)           -0.71962 0.149 320\n",
              " (UbuntuNative kdtree-sobol) - (Windows kdtree-sobol)       -2.66416 0.149 320\n",
              " (BSD kdtree-sobol) - (Windows kdtree-sobol)                -1.94454 0.149 320\n",
              " t.ratio p.value\n",
              "  -1.177  0.9998\n",
              "  -8.115  <.0001\n",
              " -11.647  <.0001\n",
              " -21.074  <.0001\n",
              "   1.989  0.9048\n",
              "   1.062  1.0000\n",
              "  -6.624  <.0001\n",
              " -11.220  <.0001\n",
              " -18.112  <.0001\n",
              " -14.288  <.0001\n",
              " -16.287  <.0001\n",
              " -23.407  <.0001\n",
              " -27.087  <.0001\n",
              " -43.344  <.0001\n",
              " -12.411  <.0001\n",
              " -14.335  <.0001\n",
              " -22.188  <.0001\n",
              " -27.018  <.0001\n",
              " -40.070  <.0001\n",
              "  -6.938  <.0001\n",
              " -10.470  <.0001\n",
              " -19.897  <.0001\n",
              "   3.166  0.1600\n",
              "   2.239  0.7738\n",
              "  -5.447  <.0001\n",
              " -10.043  <.0001\n",
              " -16.935  <.0001\n",
              " -13.111  <.0001\n",
              " -15.110  <.0001\n",
              " -22.230  <.0001\n",
              " -25.910  <.0001\n",
              " -42.167  <.0001\n",
              " -11.234  <.0001\n",
              " -13.158  <.0001\n",
              " -21.011  <.0001\n",
              " -25.841  <.0001\n",
              " -38.893  <.0001\n",
              "  -3.531  0.0571\n",
              " -12.959  <.0001\n",
              "  10.104  <.0001\n",
              "   9.177  <.0001\n",
              "   1.491  0.9950\n",
              "  -3.104  0.1865\n",
              "  -9.996  <.0001\n",
              "  -6.173  <.0001\n",
              "  -8.172  <.0001\n",
              " -15.292  <.0001\n",
              " -18.972  <.0001\n",
              " -35.229  <.0001\n",
              "  -4.295  0.0037\n",
              "  -6.220  <.0001\n",
              " -14.073  <.0001\n",
              " -18.903  <.0001\n",
              " -31.955  <.0001\n",
              "  -9.427  <.0001\n",
              "  13.636  <.0001\n",
              "  12.709  <.0001\n",
              "   5.023  0.0002\n",
              "   0.427  1.0000\n",
              "  -6.465  <.0001\n",
              "  -2.641  0.4758\n",
              "  -4.640  0.0009\n",
              " -11.760  <.0001\n",
              " -15.441  <.0001\n",
              " -31.698  <.0001\n",
              "  -0.764  1.0000\n",
              "  -2.689  0.4404\n",
              " -10.541  <.0001\n",
              " -15.372  <.0001\n",
              " -28.424  <.0001\n",
              "  23.063  <.0001\n",
              "  22.136  <.0001\n",
              "  14.450  <.0001\n",
              "   9.854  <.0001\n",
              "   2.962  0.2591\n",
              "   6.786  <.0001\n",
              "   4.787  0.0005\n",
              "  -2.333  0.7099\n",
              "  -6.013  <.0001\n",
              " -22.271  <.0001\n",
              "   8.663  <.0001\n",
              "   6.738  <.0001\n",
              "  -1.114  0.9999\n",
              "  -5.944  <.0001\n",
              " -18.996  <.0001\n",
              "  -0.927  1.0000\n",
              "  -8.613  <.0001\n",
              " -13.209  <.0001\n",
              " -20.101  <.0001\n",
              " -16.277  <.0001\n",
              " -18.276  <.0001\n",
              " -25.396  <.0001\n",
              " -29.076  <.0001\n",
              " -45.334  <.0001\n",
              " -14.400  <.0001\n",
              " -16.324  <.0001\n",
              " -24.177  <.0001\n",
              " -29.007  <.0001\n",
              " -42.059  <.0001\n",
              "  -7.686  <.0001\n",
              " -12.282  <.0001\n",
              " -19.174  <.0001\n",
              " -15.350  <.0001\n",
              " -17.349  <.0001\n",
              " -24.469  <.0001\n",
              " -28.150  <.0001\n",
              " -44.407  <.0001\n",
              " -13.473  <.0001\n",
              " -15.398  <.0001\n",
              " -23.250  <.0001\n",
              " -28.080  <.0001\n",
              " -41.132  <.0001\n",
              "  -4.596  0.0011\n",
              " -11.488  <.0001\n",
              "  -7.664  <.0001\n",
              "  -9.663  <.0001\n",
              " -16.783  <.0001\n",
              " -20.463  <.0001\n",
              " -36.720  <.0001\n",
              "  -5.787  <.0001\n",
              "  -7.711  <.0001\n",
              " -15.564  <.0001\n",
              " -20.394  <.0001\n",
              " -33.446  <.0001\n",
              "  -6.892  <.0001\n",
              "  -3.068  0.2035\n",
              "  -5.067  0.0001\n",
              " -12.187  <.0001\n",
              " -15.868  <.0001\n",
              " -32.125  <.0001\n",
              "  -1.191  0.9997\n",
              "  -3.116  0.1815\n",
              " -10.968  <.0001\n",
              " -15.799  <.0001\n",
              " -28.850  <.0001\n",
              "   3.824  0.0218\n",
              "   1.825  0.9557\n",
              "  -5.295  <.0001\n",
              "  -8.976  <.0001\n",
              " -25.233  <.0001\n",
              "   5.701  <.0001\n",
              "   3.776  0.0257\n",
              "  -4.076  0.0087\n",
              "  -8.907  <.0001\n",
              " -21.959  <.0001\n",
              "  -1.999  0.9009\n",
              "  -9.119  <.0001\n",
              " -12.799  <.0001\n",
              " -29.056  <.0001\n",
              "   1.877  0.9423\n",
              "  -0.047  1.0000\n",
              "  -7.900  <.0001\n",
              " -12.730  <.0001\n",
              " -25.782  <.0001\n",
              "  -7.120  <.0001\n",
              " -10.800  <.0001\n",
              " -27.058  <.0001\n",
              "   3.876  0.0181\n",
              "   1.952  0.9188\n",
              "  -5.901  <.0001\n",
              " -10.731  <.0001\n",
              " -23.783  <.0001\n",
              "  -3.680  0.0355\n",
              " -19.938  <.0001\n",
              "  10.996  <.0001\n",
              "   9.072  <.0001\n",
              "   1.219  0.9996\n",
              "  -3.611  0.0444\n",
              " -16.663  <.0001\n",
              " -16.257  <.0001\n",
              "  14.677  <.0001\n",
              "  12.752  <.0001\n",
              "   4.899  0.0003\n",
              "   0.069  1.0000\n",
              " -12.983  <.0001\n",
              "  30.934  <.0001\n",
              "  29.009  <.0001\n",
              "  21.156  <.0001\n",
              "  16.326  <.0001\n",
              "   3.274  0.1205\n",
              "  -1.925  0.9280\n",
              "  -9.777  <.0001\n",
              " -14.608  <.0001\n",
              " -27.660  <.0001\n",
              "  -7.853  <.0001\n",
              " -12.683  <.0001\n",
              " -25.735  <.0001\n",
              "  -4.830  0.0004\n",
              " -17.882  <.0001\n",
              " -13.052  <.0001\n",
              "\n",
              "Results are averaged over the levels of: Scene \n",
              "P value adjustment: tukey method for comparing a family of 20 estimates "
            ]
          },
          "metadata": {},
          "output_type": "display_data"
        },
        {
          "data": {
            "image/png": "[encoded data removed]",
            "text/plain": [
              "plot without title"
            ]
          },
          "metadata": {
            "image/png": {
              "height": 420,
              "width": 420
            }
          },
          "output_type": "display_data"
        }
      ],
      "source": [
        "marginal = lsmeans(model, pairwise ~ OS + Configuration, adjust=\"tucky\")\n",
        "CLD = cld(marginal, alpha = 0.05, Letters = letters, adjust = \"sidak\")\n",
        "print(CLD)\n",
        "pairs(marginal, adjust = \"tukey\")\n",
        "\n",
        "library(ggplot2)\n",
        "ggplot(CLD,\n",
        "    aes(x = OS,\n",
        "    y = lsmean,\n",
        "    label = .group)) +\n",
        "    geom_point(shape = 15,\n",
        "    size = 4) + geom_errorbar(aes(ymin = lower.CL,\n",
        "    ymax = upper.CL),\n",
        "    width = 0.2,\n",
        "    size = 0.7) +\n",
        "    theme_bw() +\n",
        "    theme(axis.title = element_text(face = \"bold\"),\n",
        "    axis.text = element_text(face = \"bold\"),\n",
        "    plot.caption = element_text(hjust = 0)) +\n",
        "    ylab(\"Least Square Mean\\n   Execution Time\")"
      ]
    },
    {
      "cell_type": "code",
      "execution_count": 18,
      "metadata": {
        "id": "nl-ApWC27wLJ",
        "vscode": {
          "languageId": "r"
        }
      },
      "outputs": [
        {
          "name": "stderr",
          "output_type": "stream",
          "text": [
            "NOTE: Results may be misleading due to involvement in interactions\n",
            "\n"
          ]
        },
        {
          "name": "stdout",
          "output_type": "stream",
          "text": [
            " OS           Scene          lsmean    SE  df lower.CL upper.CL .group        \n",
            " WSL          buddha-fractal   13.0 0.105 320     12.6     13.3  a            \n",
            " UbuntuVM     buddha-fractal   13.4 0.105 320     13.0     13.7  ab           \n",
            " UbuntuNative buddha-fractal   13.9 0.105 320     13.5     14.2   bc          \n",
            " BSD          buddha-fractal   14.1 0.105 320     13.8     14.4    c          \n",
            " WSL          spotfog          15.0 0.105 320     14.7     15.3     d         \n",
            " Windows      buddha-fractal   15.0 0.105 320     14.7     15.3     d         \n",
            " UbuntuVM     spotfog          15.0 0.105 320     14.7     15.3     d         \n",
            " UbuntuNative spotfog          16.1 0.105 320     15.8     16.4      e        \n",
            " BSD          spotfog          17.0 0.105 320     16.7     17.3       f       \n",
            " WSL          teapot-metal     17.4 0.105 320     17.1     17.7       fg      \n",
            " UbuntuVM     teapot-metal     17.8 0.105 320     17.5     18.1        g      \n",
            " Windows      spotfog          18.6 0.105 320     18.3     18.9         h     \n",
            " UbuntuNative teapot-metal     18.6 0.105 320     18.3     18.9         h     \n",
            " BSD          teapot-metal     19.1 0.105 320     18.8     19.5         h     \n",
            " Windows      teapot-metal     20.8 0.105 320     20.5     21.1          i    \n",
            " WSL          bidir            29.8 0.105 320     29.5     30.2           j   \n",
            " UbuntuVM     bidir            29.9 0.105 320     29.6     30.2           j   \n",
            " UbuntuNative bidir            31.9 0.105 320     31.6     32.2            k  \n",
            " BSD          bidir            32.7 0.105 320     32.4     33.0             l \n",
            " Windows      bidir            35.3 0.105 320     35.0     35.7              m\n",
            "\n",
            "Results are averaged over the levels of: Configuration \n",
            "Confidence level used: 0.95 \n",
            "Conf-level adjustment: sidak method for 20 estimates \n",
            "P value adjustment: sidak method for 190 tests \n",
            "significance level used: alpha = 0.05 \n",
            "NOTE: If two or more means share the same grouping symbol,\n",
            "      then we cannot show them to be different.\n",
            "      But we also did not show them to be the same. \n"
          ]
        },
        {
          "data": {
            "text/plain": [
              " contrast                                                    estimate    SE  df\n",
              " WSL bidir - UbuntuVM bidir                                  -0.06473 0.149 320\n",
              " WSL bidir - UbuntuNative bidir                              -2.07859 0.149 320\n",
              " WSL bidir - BSD bidir                                       -2.87886 0.149 320\n",
              " WSL bidir - Windows bidir                                   -5.50418 0.149 320\n",
              " WSL bidir - (WSL buddha-fractal)                            16.87167 0.149 320\n",
              " WSL bidir - (UbuntuVM buddha-fractal)                       16.46797 0.149 320\n",
              " WSL bidir - (UbuntuNative buddha-fractal)                   15.96842 0.149 320\n",
              " WSL bidir - (BSD buddha-fractal)                            15.73356 0.149 320\n",
              " WSL bidir - (Windows buddha-fractal)                        14.82366 0.149 320\n",
              " WSL bidir - WSL spotfog                                     14.83966 0.149 320\n",
              " WSL bidir - UbuntuVM spotfog                                14.81948 0.149 320\n",
              " WSL bidir - UbuntuNative spotfog                            13.73453 0.149 320\n",
              " WSL bidir - BSD spotfog                                     12.81818 0.149 320\n",
              " WSL bidir - Windows spotfog                                 11.21927 0.149 320\n",
              " WSL bidir - (WSL teapot-metal)                              12.43106 0.149 320\n",
              " WSL bidir - (UbuntuVM teapot-metal)                         12.02166 0.149 320\n",
              " WSL bidir - (UbuntuNative teapot-metal)                     11.21048 0.149 320\n",
              " WSL bidir - (BSD teapot-metal)                              10.68322 0.149 320\n",
              " WSL bidir - (Windows teapot-metal)                           9.01945 0.149 320\n",
              " UbuntuVM bidir - UbuntuNative bidir                         -2.01386 0.149 320\n",
              " UbuntuVM bidir - BSD bidir                                  -2.81414 0.149 320\n",
              " UbuntuVM bidir - Windows bidir                              -5.43946 0.149 320\n",
              " UbuntuVM bidir - (WSL buddha-fractal)                       16.93640 0.149 320\n",
              " UbuntuVM bidir - (UbuntuVM buddha-fractal)                  16.53270 0.149 320\n",
              " UbuntuVM bidir - (UbuntuNative buddha-fractal)              16.03314 0.149 320\n",
              " UbuntuVM bidir - (BSD buddha-fractal)                       15.79829 0.149 320\n",
              " UbuntuVM bidir - (Windows buddha-fractal)                   14.88839 0.149 320\n",
              " UbuntuVM bidir - WSL spotfog                                14.90439 0.149 320\n",
              " UbuntuVM bidir - UbuntuVM spotfog                           14.88420 0.149 320\n",
              " UbuntuVM bidir - UbuntuNative spotfog                       13.79926 0.149 320\n",
              " UbuntuVM bidir - BSD spotfog                                12.88290 0.149 320\n",
              " UbuntuVM bidir - Windows spotfog                            11.28399 0.149 320\n",
              " UbuntuVM bidir - (WSL teapot-metal)                         12.49578 0.149 320\n",
              " UbuntuVM bidir - (UbuntuVM teapot-metal)                    12.08638 0.149 320\n",
              " UbuntuVM bidir - (UbuntuNative teapot-metal)                11.27521 0.149 320\n",
              " UbuntuVM bidir - (BSD teapot-metal)                         10.74795 0.149 320\n",
              " UbuntuVM bidir - (Windows teapot-metal)                      9.08417 0.149 320\n",
              " UbuntuNative bidir - BSD bidir                              -0.80028 0.149 320\n",
              " UbuntuNative bidir - Windows bidir                          -3.42560 0.149 320\n",
              " UbuntuNative bidir - (WSL buddha-fractal)                   18.95026 0.149 320\n",
              " UbuntuNative bidir - (UbuntuVM buddha-fractal)              18.54656 0.149 320\n",
              " UbuntuNative bidir - (UbuntuNative buddha-fractal)          18.04700 0.149 320\n",
              " UbuntuNative bidir - (BSD buddha-fractal)                   17.81215 0.149 320\n",
              " UbuntuNative bidir - (Windows buddha-fractal)               16.90225 0.149 320\n",
              " UbuntuNative bidir - WSL spotfog                            16.91825 0.149 320\n",
              " UbuntuNative bidir - UbuntuVM spotfog                       16.89806 0.149 320\n",
              " UbuntuNative bidir - UbuntuNative spotfog                   15.81312 0.149 320\n",
              " UbuntuNative bidir - BSD spotfog                            14.89677 0.149 320\n",
              " UbuntuNative bidir - Windows spotfog                        13.29786 0.149 320\n",
              " UbuntuNative bidir - (WSL teapot-metal)                     14.50964 0.149 320\n",
              " UbuntuNative bidir - (UbuntuVM teapot-metal)                14.10024 0.149 320\n",
              " UbuntuNative bidir - (UbuntuNative teapot-metal)            13.28907 0.149 320\n",
              " UbuntuNative bidir - (BSD teapot-metal)                     12.76181 0.149 320\n",
              " UbuntuNative bidir - (Windows teapot-metal)                 11.09803 0.149 320\n",
              " BSD bidir - Windows bidir                                   -2.62532 0.149 320\n",
              " BSD bidir - (WSL buddha-fractal)                            19.75054 0.149 320\n",
              " BSD bidir - (UbuntuVM buddha-fractal)                       19.34683 0.149 320\n",
              " BSD bidir - (UbuntuNative buddha-fractal)                   18.84728 0.149 320\n",
              " BSD bidir - (BSD buddha-fractal)                            18.61243 0.149 320\n",
              " BSD bidir - (Windows buddha-fractal)                        17.70253 0.149 320\n",
              " BSD bidir - WSL spotfog                                     17.71852 0.149 320\n",
              " BSD bidir - UbuntuVM spotfog                                17.69834 0.149 320\n",
              " BSD bidir - UbuntuNative spotfog                            16.61340 0.149 320\n",
              " BSD bidir - BSD spotfog                                     15.69704 0.149 320\n",
              " BSD bidir - Windows spotfog                                 14.09813 0.149 320\n",
              " BSD bidir - (WSL teapot-metal)                              15.30992 0.149 320\n",
              " BSD bidir - (UbuntuVM teapot-metal)                         14.90052 0.149 320\n",
              " BSD bidir - (UbuntuNative teapot-metal)                     14.08935 0.149 320\n",
              " BSD bidir - (BSD teapot-metal)                              13.56209 0.149 320\n",
              " BSD bidir - (Windows teapot-metal)                          11.89831 0.149 320\n",
              " Windows bidir - (WSL buddha-fractal)                        22.37586 0.149 320\n",
              " Windows bidir - (UbuntuVM buddha-fractal)                   21.97215 0.149 320\n",
              " Windows bidir - (UbuntuNative buddha-fractal)               21.47260 0.149 320\n",
              " Windows bidir - (BSD buddha-fractal)                        21.23774 0.149 320\n",
              " Windows bidir - (Windows buddha-fractal)                    20.32785 0.149 320\n",
              " Windows bidir - WSL spotfog                                 20.34384 0.149 320\n",
              " Windows bidir - UbuntuVM spotfog                            20.32366 0.149 320\n",
              " Windows bidir - UbuntuNative spotfog                        19.23871 0.149 320\n",
              " Windows bidir - BSD spotfog                                 18.32236 0.149 320\n",
              " Windows bidir - Windows spotfog                             16.72345 0.149 320\n",
              " Windows bidir - (WSL teapot-metal)                          17.93524 0.149 320\n",
              " Windows bidir - (UbuntuVM teapot-metal)                     17.52584 0.149 320\n",
              " Windows bidir - (UbuntuNative teapot-metal)                 16.71467 0.149 320\n",
              " Windows bidir - (BSD teapot-metal)                          16.18741 0.149 320\n",
              " Windows bidir - (Windows teapot-metal)                      14.52363 0.149 320\n",
              " (WSL buddha-fractal) - (UbuntuVM buddha-fractal)            -0.40370 0.149 320\n",
              " (WSL buddha-fractal) - (UbuntuNative buddha-fractal)        -0.90326 0.149 320\n",
              " (WSL buddha-fractal) - (BSD buddha-fractal)                 -1.13811 0.149 320\n",
              " (WSL buddha-fractal) - (Windows buddha-fractal)             -2.04801 0.149 320\n",
              " (WSL buddha-fractal) - WSL spotfog                          -2.03201 0.149 320\n",
              " (WSL buddha-fractal) - UbuntuVM spotfog                     -2.05220 0.149 320\n",
              " (WSL buddha-fractal) - UbuntuNative spotfog                 -3.13714 0.149 320\n",
              " (WSL buddha-fractal) - BSD spotfog                          -4.05349 0.149 320\n",
              " (WSL buddha-fractal) - Windows spotfog                      -5.65240 0.149 320\n",
              " (WSL buddha-fractal) - (WSL teapot-metal)                   -4.44062 0.149 320\n",
              " (WSL buddha-fractal) - (UbuntuVM teapot-metal)              -4.85002 0.149 320\n",
              " (WSL buddha-fractal) - (UbuntuNative teapot-metal)          -5.66119 0.149 320\n",
              " (WSL buddha-fractal) - (BSD teapot-metal)                   -6.18845 0.149 320\n",
              " (WSL buddha-fractal) - (Windows teapot-metal)               -7.85223 0.149 320\n",
              " (UbuntuVM buddha-fractal) - (UbuntuNative buddha-fractal)   -0.49956 0.149 320\n",
              " (UbuntuVM buddha-fractal) - (BSD buddha-fractal)            -0.73441 0.149 320\n",
              " (UbuntuVM buddha-fractal) - (Windows buddha-fractal)        -1.64431 0.149 320\n",
              " (UbuntuVM buddha-fractal) - WSL spotfog                     -1.62831 0.149 320\n",
              " (UbuntuVM buddha-fractal) - UbuntuVM spotfog                -1.64850 0.149 320\n",
              " (UbuntuVM buddha-fractal) - UbuntuNative spotfog            -2.73344 0.149 320\n",
              " (UbuntuVM buddha-fractal) - BSD spotfog                     -3.64979 0.149 320\n",
              " (UbuntuVM buddha-fractal) - Windows spotfog                 -5.24870 0.149 320\n",
              " (UbuntuVM buddha-fractal) - (WSL teapot-metal)              -4.03692 0.149 320\n",
              " (UbuntuVM buddha-fractal) - (UbuntuVM teapot-metal)         -4.44631 0.149 320\n",
              " (UbuntuVM buddha-fractal) - (UbuntuNative teapot-metal)     -5.25749 0.149 320\n",
              " (UbuntuVM buddha-fractal) - (BSD teapot-metal)              -5.78475 0.149 320\n",
              " (UbuntuVM buddha-fractal) - (Windows teapot-metal)          -7.44852 0.149 320\n",
              " (UbuntuNative buddha-fractal) - (BSD buddha-fractal)        -0.23485 0.149 320\n",
              " (UbuntuNative buddha-fractal) - (Windows buddha-fractal)    -1.14475 0.149 320\n",
              " (UbuntuNative buddha-fractal) - WSL spotfog                 -1.12875 0.149 320\n",
              " (UbuntuNative buddha-fractal) - UbuntuVM spotfog            -1.14894 0.149 320\n",
              " (UbuntuNative buddha-fractal) - UbuntuNative spotfog        -2.23388 0.149 320\n",
              " (UbuntuNative buddha-fractal) - BSD spotfog                 -3.15024 0.149 320\n",
              " (UbuntuNative buddha-fractal) - Windows spotfog             -4.74915 0.149 320\n",
              " (UbuntuNative buddha-fractal) - (WSL teapot-metal)          -3.53736 0.149 320\n",
              " (UbuntuNative buddha-fractal) - (UbuntuVM teapot-metal)     -3.94676 0.149 320\n",
              " (UbuntuNative buddha-fractal) - (UbuntuNative teapot-metal) -4.75793 0.149 320\n",
              " (UbuntuNative buddha-fractal) - (BSD teapot-metal)          -5.28519 0.149 320\n",
              " (UbuntuNative buddha-fractal) - (Windows teapot-metal)      -6.94897 0.149 320\n",
              " (BSD buddha-fractal) - (Windows buddha-fractal)             -0.90990 0.149 320\n",
              " (BSD buddha-fractal) - WSL spotfog                          -0.89390 0.149 320\n",
              " (BSD buddha-fractal) - UbuntuVM spotfog                     -0.91409 0.149 320\n",
              " (BSD buddha-fractal) - UbuntuNative spotfog                 -1.99903 0.149 320\n",
              " (BSD buddha-fractal) - BSD spotfog                          -2.91538 0.149 320\n",
              " (BSD buddha-fractal) - Windows spotfog                      -4.51429 0.149 320\n",
              " (BSD buddha-fractal) - (WSL teapot-metal)                   -3.30251 0.149 320\n",
              " (BSD buddha-fractal) - (UbuntuVM teapot-metal)              -3.71190 0.149 320\n",
              " (BSD buddha-fractal) - (UbuntuNative teapot-metal)          -4.52308 0.149 320\n",
              " (BSD buddha-fractal) - (BSD teapot-metal)                   -5.05034 0.149 320\n",
              " (BSD buddha-fractal) - (Windows teapot-metal)               -6.71411 0.149 320\n",
              " (Windows buddha-fractal) - WSL spotfog                       0.01600 0.149 320\n",
              " (Windows buddha-fractal) - UbuntuVM spotfog                 -0.00419 0.149 320\n",
              " (Windows buddha-fractal) - UbuntuNative spotfog             -1.08913 0.149 320\n",
              " (Windows buddha-fractal) - BSD spotfog                      -2.00548 0.149 320\n",
              " (Windows buddha-fractal) - Windows spotfog                  -3.60439 0.149 320\n",
              " (Windows buddha-fractal) - (WSL teapot-metal)               -2.39261 0.149 320\n",
              " (Windows buddha-fractal) - (UbuntuVM teapot-metal)          -2.80201 0.149 320\n",
              " (Windows buddha-fractal) - (UbuntuNative teapot-metal)      -3.61318 0.149 320\n",
              " (Windows buddha-fractal) - (BSD teapot-metal)               -4.14044 0.149 320\n",
              " (Windows buddha-fractal) - (Windows teapot-metal)           -5.80422 0.149 320\n",
              " WSL spotfog - UbuntuVM spotfog                              -0.02019 0.149 320\n",
              " WSL spotfog - UbuntuNative spotfog                          -1.10513 0.149 320\n",
              " WSL spotfog - BSD spotfog                                   -2.02148 0.149 320\n",
              " WSL spotfog - Windows spotfog                               -3.62039 0.149 320\n",
              " WSL spotfog - (WSL teapot-metal)                            -2.40861 0.149 320\n",
              " WSL spotfog - (UbuntuVM teapot-metal)                       -2.81800 0.149 320\n",
              " WSL spotfog - (UbuntuNative teapot-metal)                   -3.62918 0.149 320\n",
              " WSL spotfog - (BSD teapot-metal)                            -4.15644 0.149 320\n",
              " WSL spotfog - (Windows teapot-metal)                        -5.82021 0.149 320\n",
              " UbuntuVM spotfog - UbuntuNative spotfog                     -1.08494 0.149 320\n",
              " UbuntuVM spotfog - BSD spotfog                              -2.00130 0.149 320\n",
              " UbuntuVM spotfog - Windows spotfog                          -3.60021 0.149 320\n",
              " UbuntuVM spotfog - (WSL teapot-metal)                       -2.38842 0.149 320\n",
              " UbuntuVM spotfog - (UbuntuVM teapot-metal)                  -2.79782 0.149 320\n",
              " UbuntuVM spotfog - (UbuntuNative teapot-metal)              -3.60899 0.149 320\n",
              " UbuntuVM spotfog - (BSD teapot-metal)                       -4.13625 0.149 320\n",
              " UbuntuVM spotfog - (Windows teapot-metal)                   -5.80003 0.149 320\n",
              " UbuntuNative spotfog - BSD spotfog                          -0.91635 0.149 320\n",
              " UbuntuNative spotfog - Windows spotfog                      -2.51526 0.149 320\n",
              " UbuntuNative spotfog - (WSL teapot-metal)                   -1.30348 0.149 320\n",
              " UbuntuNative spotfog - (UbuntuVM teapot-metal)              -1.71287 0.149 320\n",
              " UbuntuNative spotfog - (UbuntuNative teapot-metal)          -2.52405 0.149 320\n",
              " UbuntuNative spotfog - (BSD teapot-metal)                   -3.05131 0.149 320\n",
              " UbuntuNative spotfog - (Windows teapot-metal)               -4.71509 0.149 320\n",
              " BSD spotfog - Windows spotfog                               -1.59891 0.149 320\n",
              " BSD spotfog - (WSL teapot-metal)                            -0.38712 0.149 320\n",
              " BSD spotfog - (UbuntuVM teapot-metal)                       -0.79652 0.149 320\n",
              " BSD spotfog - (UbuntuNative teapot-metal)                   -1.60770 0.149 320\n",
              " BSD spotfog - (BSD teapot-metal)                            -2.13496 0.149 320\n",
              " BSD spotfog - (Windows teapot-metal)                        -3.79873 0.149 320\n",
              " Windows spotfog - (WSL teapot-metal)                         1.21179 0.149 320\n",
              " Windows spotfog - (UbuntuVM teapot-metal)                    0.80239 0.149 320\n",
              " Windows spotfog - (UbuntuNative teapot-metal)               -0.00878 0.149 320\n",
              " Windows spotfog - (BSD teapot-metal)                        -0.53604 0.149 320\n",
              " Windows spotfog - (Windows teapot-metal)                    -2.19982 0.149 320\n",
              " (WSL teapot-metal) - (UbuntuVM teapot-metal)                -0.40940 0.149 320\n",
              " (WSL teapot-metal) - (UbuntuNative teapot-metal)            -1.22057 0.149 320\n",
              " (WSL teapot-metal) - (BSD teapot-metal)                     -1.74783 0.149 320\n",
              " (WSL teapot-metal) - (Windows teapot-metal)                 -3.41161 0.149 320\n",
              " (UbuntuVM teapot-metal) - (UbuntuNative teapot-metal)       -0.81117 0.149 320\n",
              " (UbuntuVM teapot-metal) - (BSD teapot-metal)                -1.33843 0.149 320\n",
              " (UbuntuVM teapot-metal) - (Windows teapot-metal)            -3.00221 0.149 320\n",
              " (UbuntuNative teapot-metal) - (BSD teapot-metal)            -0.52726 0.149 320\n",
              " (UbuntuNative teapot-metal) - (Windows teapot-metal)        -2.19104 0.149 320\n",
              " (BSD teapot-metal) - (Windows teapot-metal)                 -1.66378 0.149 320\n",
              " t.ratio p.value\n",
              "  -0.434  1.0000\n",
              " -13.952  <.0001\n",
              " -19.323  <.0001\n",
              " -36.945  <.0001\n",
              " 113.244  <.0001\n",
              " 110.535  <.0001\n",
              " 107.182  <.0001\n",
              " 105.605  <.0001\n",
              "  99.498  <.0001\n",
              "  99.605  <.0001\n",
              "  99.470  <.0001\n",
              "  92.188  <.0001\n",
              "  86.037  <.0001\n",
              "  75.305  <.0001\n",
              "  83.438  <.0001\n",
              "  80.691  <.0001\n",
              "  75.246  <.0001\n",
              "  71.707  <.0001\n",
              "  60.539  <.0001\n",
              " -13.517  <.0001\n",
              " -18.889  <.0001\n",
              " -36.510  <.0001\n",
              " 113.679  <.0001\n",
              " 110.969  <.0001\n",
              " 107.616  <.0001\n",
              " 106.040  <.0001\n",
              "  99.932  <.0001\n",
              " 100.040  <.0001\n",
              "  99.904  <.0001\n",
              "  92.622  <.0001\n",
              "  86.471  <.0001\n",
              "  75.739  <.0001\n",
              "  83.873  <.0001\n",
              "  81.125  <.0001\n",
              "  75.680  <.0001\n",
              "  72.141  <.0001\n",
              "  60.974  <.0001\n",
              "  -5.372  <.0001\n",
              " -22.993  <.0001\n",
              " 127.196  <.0001\n",
              " 124.486  <.0001\n",
              " 121.133  <.0001\n",
              " 119.557  <.0001\n",
              " 113.450  <.0001\n",
              " 113.557  <.0001\n",
              " 113.421  <.0001\n",
              " 106.139  <.0001\n",
              "  99.989  <.0001\n",
              "  89.257  <.0001\n",
              "  97.390  <.0001\n",
              "  94.642  <.0001\n",
              "  89.198  <.0001\n",
              "  85.659  <.0001\n",
              "  74.491  <.0001\n",
              " -17.621  <.0001\n",
              " 132.568  <.0001\n",
              " 129.858  <.0001\n",
              " 126.505  <.0001\n",
              " 124.928  <.0001\n",
              " 118.821  <.0001\n",
              " 118.928  <.0001\n",
              " 118.793  <.0001\n",
              " 111.511  <.0001\n",
              " 105.360  <.0001\n",
              "  94.628  <.0001\n",
              " 102.762  <.0001\n",
              " 100.014  <.0001\n",
              "  94.569  <.0001\n",
              "  91.030  <.0001\n",
              "  79.863  <.0001\n",
              " 150.189  <.0001\n",
              " 147.479  <.0001\n",
              " 144.126  <.0001\n",
              " 142.550  <.0001\n",
              " 136.443  <.0001\n",
              " 136.550  <.0001\n",
              " 136.414  <.0001\n",
              " 129.132  <.0001\n",
              " 122.982  <.0001\n",
              " 112.249  <.0001\n",
              " 120.383  <.0001\n",
              " 117.635  <.0001\n",
              " 112.190  <.0001\n",
              " 108.651  <.0001\n",
              "  97.484  <.0001\n",
              "  -2.710  0.4249\n",
              "  -6.063  <.0001\n",
              "  -7.639  <.0001\n",
              " -13.746  <.0001\n",
              " -13.639  <.0001\n",
              " -13.775  <.0001\n",
              " -21.057  <.0001\n",
              " -27.207  <.0001\n",
              " -37.940  <.0001\n",
              " -29.806  <.0001\n",
              " -32.554  <.0001\n",
              " -37.998  <.0001\n",
              " -41.537  <.0001\n",
              " -52.705  <.0001\n",
              "  -3.353  0.0969\n",
              "  -4.929  0.0002\n",
              " -11.037  <.0001\n",
              " -10.929  <.0001\n",
              " -11.065  <.0001\n",
              " -18.347  <.0001\n",
              " -24.498  <.0001\n",
              " -35.230  <.0001\n",
              " -27.096  <.0001\n",
              " -29.844  <.0001\n",
              " -35.289  <.0001\n",
              " -38.828  <.0001\n",
              " -49.995  <.0001\n",
              "  -1.576  0.9904\n",
              "  -7.684  <.0001\n",
              "  -7.576  <.0001\n",
              "  -7.712  <.0001\n",
              " -14.994  <.0001\n",
              " -21.145  <.0001\n",
              " -31.877  <.0001\n",
              " -23.743  <.0001\n",
              " -26.491  <.0001\n",
              " -31.936  <.0001\n",
              " -35.475  <.0001\n",
              " -46.642  <.0001\n",
              "  -6.107  <.0001\n",
              "  -6.000  <.0001\n",
              "  -6.135  <.0001\n",
              " -13.418  <.0001\n",
              " -19.568  <.0001\n",
              " -30.300  <.0001\n",
              " -22.167  <.0001\n",
              " -24.915  <.0001\n",
              " -30.359  <.0001\n",
              " -33.898  <.0001\n",
              " -45.066  <.0001\n",
              "   0.107  1.0000\n",
              "  -0.028  1.0000\n",
              "  -7.310  <.0001\n",
              " -13.461  <.0001\n",
              " -24.193  <.0001\n",
              " -16.059  <.0001\n",
              " -18.807  <.0001\n",
              " -24.252  <.0001\n",
              " -27.791  <.0001\n",
              " -38.958  <.0001\n",
              "  -0.135  1.0000\n",
              "  -7.418  <.0001\n",
              " -13.568  <.0001\n",
              " -24.300  <.0001\n",
              " -16.167  <.0001\n",
              " -18.915  <.0001\n",
              " -24.359  <.0001\n",
              " -27.898  <.0001\n",
              " -39.066  <.0001\n",
              "  -7.282  <.0001\n",
              " -13.433  <.0001\n",
              " -24.165  <.0001\n",
              " -16.031  <.0001\n",
              " -18.779  <.0001\n",
              " -24.224  <.0001\n",
              " -27.763  <.0001\n",
              " -38.930  <.0001\n",
              "  -6.151  <.0001\n",
              " -16.883  <.0001\n",
              "  -8.749  <.0001\n",
              " -11.497  <.0001\n",
              " -16.942  <.0001\n",
              " -20.481  <.0001\n",
              " -31.648  <.0001\n",
              " -10.732  <.0001\n",
              "  -2.598  0.5087\n",
              "  -5.346  <.0001\n",
              " -10.791  <.0001\n",
              " -14.330  <.0001\n",
              " -25.497  <.0001\n",
              "   8.134  <.0001\n",
              "   5.386  <.0001\n",
              "  -0.059  1.0000\n",
              "  -3.598  0.0463\n",
              " -14.765  <.0001\n",
              "  -2.748  0.3973\n",
              "  -8.193  <.0001\n",
              " -11.732  <.0001\n",
              " -22.899  <.0001\n",
              "  -5.445  <.0001\n",
              "  -8.984  <.0001\n",
              " -20.151  <.0001\n",
              "  -3.539  0.0558\n",
              " -14.706  <.0001\n",
              " -11.167  <.0001\n",
              "\n",
              "Results are averaged over the levels of: Configuration \n",
              "P value adjustment: tukey method for comparing a family of 20 estimates "
            ]
          },
          "metadata": {},
          "output_type": "display_data"
        },
        {
          "data": {
            "image/png": "[encoded data removed]",
            "text/plain": [
              "plot without title"
            ]
          },
          "metadata": {
            "image/png": {
              "height": 420,
              "width": 420
            }
          },
          "output_type": "display_data"
        }
      ],
      "source": [
        "marginal = lsmeans(model, pairwise ~ OS + Scene, adjust=\"tucky\")\n",
        "CLD = cld(marginal, alpha = 0.05, Letters = letters, adjust = \"sidak\")\n",
        "print(CLD)\n",
        "pairs(marginal, adjust = \"tukey\")\n",
        "\n",
        "library(ggplot2)\n",
        "ggplot(CLD,\n",
        "    aes(x = OS,\n",
        "    y = lsmean,\n",
        "    label = .group)) +\n",
        "    geom_point(shape = 15,\n",
        "    size = 4) + geom_errorbar(aes(ymin = lower.CL,\n",
        "    ymax = upper.CL),\n",
        "    width = 0.2,\n",
        "    size = 0.7) +\n",
        "    theme_bw() +\n",
        "    theme(axis.title = element_text(face = \"bold\"),\n",
        "    axis.text = element_text(face = \"bold\"),\n",
        "    plot.caption = element_text(hjust = 0)) +\n",
        "    ylab(\"Least Square Mean\\n   Execution Time\")"
      ]
    },
    {
      "attachments": {},
      "cell_type": "markdown",
      "metadata": {
        "id": "qhW5b3nM8BKC"
      },
      "source": [
        "## Graficos Finales"
      ]
    },
    {
      "cell_type": "code",
      "execution_count": 19,
      "metadata": {
        "id": "AC_6afHf7_OM",
        "vscode": {
          "languageId": "r"
        }
      },
      "outputs": [
        {
          "data": {
            "text/html": [
              "<table class=\"dataframe\">\n",
              "<caption>A data.frame: 20 × 11</caption>\n",
              "<thead>\n",
              "\t<tr><th scope=col>OS</th><th scope=col>Configuration</th><th scope=col>n</th><th scope=col>mean</th><th scope=col>sd</th><th scope=col>min</th><th scope=col>Q1</th><th scope=col>median</th><th scope=col>Q3</th><th scope=col>max</th><th scope=col>se</th></tr>\n",
              "\t<tr><th scope=col>&lt;fct&gt;</th><th scope=col>&lt;fct&gt;</th><th scope=col>&lt;dbl&gt;</th><th scope=col>&lt;dbl&gt;</th><th scope=col>&lt;dbl&gt;</th><th scope=col>&lt;dbl&gt;</th><th scope=col>&lt;dbl&gt;</th><th scope=col>&lt;dbl&gt;</th><th scope=col>&lt;dbl&gt;</th><th scope=col>&lt;dbl&gt;</th><th scope=col>&lt;dbl&gt;</th></tr>\n",
              "</thead>\n",
              "<tbody>\n",
              "\t<tr><td>WSL         </td><td>bvh-halton   </td><td>20</td><td>355.4367</td><td>249.0353</td><td>137.6900</td><td>182.0929</td><td>259.9879</td><td>433.2077</td><td> 797.6080</td><td> 55.7</td></tr>\n",
              "\t<tr><td>UbuntuVM    </td><td>bvh-halton   </td><td>20</td><td>361.1414</td><td>247.3848</td><td>146.7676</td><td>182.9285</td><td>267.3502</td><td>449.4855</td><td> 797.8420</td><td> 55.3</td></tr>\n",
              "\t<tr><td>UbuntuNative</td><td>bvh-halton   </td><td>20</td><td>404.1266</td><td>280.9778</td><td>165.7692</td><td>212.9758</td><td>285.6308</td><td>482.6992</td><td> 897.9224</td><td> 62.8</td></tr>\n",
              "\t<tr><td>BSD         </td><td>bvh-halton   </td><td>20</td><td>427.4000</td><td>298.1555</td><td>162.0000</td><td>214.5000</td><td>306.5000</td><td>514.0000</td><td> 929.0000</td><td> 66.7</td></tr>\n",
              "\t<tr><td>Windows     </td><td>bvh-halton   </td><td>20</td><td>487.7050</td><td>324.4557</td><td>171.8406</td><td>262.7577</td><td>379.2469</td><td>614.6979</td><td>1118.7469</td><td> 72.6</td></tr>\n",
              "\t<tr><td>WSL         </td><td>bvh-sobol    </td><td>20</td><td>344.8529</td><td>249.1568</td><td>143.6784</td><td>177.5705</td><td>239.9638</td><td>410.4818</td><td> 792.5912</td><td> 55.7</td></tr>\n",
              "\t<tr><td>UbuntuVM    </td><td>bvh-sobol    </td><td>20</td><td>349.0564</td><td>247.4029</td><td>148.7070</td><td>178.6349</td><td>247.1480</td><td>420.1673</td><td> 782.7041</td><td> 55.3</td></tr>\n",
              "\t<tr><td>UbuntuNative</td><td>bvh-sobol    </td><td>20</td><td>397.4769</td><td>288.2084</td><td>154.7399</td><td>195.6817</td><td>277.6234</td><td>452.9062</td><td> 892.7353</td><td> 64.4</td></tr>\n",
              "\t<tr><td>BSD         </td><td>bvh-sobol    </td><td>20</td><td>424.9000</td><td>300.6614</td><td>165.0000</td><td>239.0000</td><td>301.0000</td><td>495.2500</td><td> 939.0000</td><td> 67.2</td></tr>\n",
              "\t<tr><td>Windows     </td><td>bvh-sobol    </td><td>20</td><td>469.5047</td><td>326.5984</td><td>173.2288</td><td>256.9213</td><td>346.8279</td><td>557.7171</td><td>1127.8238</td><td> 73.0</td></tr>\n",
              "\t<tr><td>WSL         </td><td>kdtree-halton</td><td>20</td><td>452.0235</td><td>350.8386</td><td>181.8914</td><td>243.8965</td><td>290.4786</td><td>503.2382</td><td>1097.6363</td><td> 78.4</td></tr>\n",
              "\t<tr><td>UbuntuVM    </td><td>kdtree-halton</td><td>20</td><td>461.9387</td><td>347.3097</td><td>203.9030</td><td>248.7487</td><td>301.2906</td><td>515.7337</td><td>1097.7856</td><td> 77.7</td></tr>\n",
              "\t<tr><td>UbuntuNative</td><td>kdtree-halton</td><td>20</td><td>512.3272</td><td>387.0659</td><td>205.8977</td><td>285.0179</td><td>325.6203</td><td>558.4277</td><td>1233.1201</td><td> 86.6</td></tr>\n",
              "\t<tr><td>BSD         </td><td>kdtree-halton</td><td>20</td><td>540.7000</td><td>414.8427</td><td>213.0000</td><td>305.7500</td><td>347.0000</td><td>587.0000</td><td>1284.0000</td><td> 92.8</td></tr>\n",
              "\t<tr><td>Windows     </td><td>kdtree-halton</td><td>20</td><td>668.7420</td><td>517.2805</td><td>251.2739</td><td>361.4145</td><td>439.6458</td><td>740.3063</td><td>1714.4494</td><td>116.0</td></tr>\n",
              "\t<tr><td>WSL         </td><td>kdtree-sobol </td><td>20</td><td>440.9034</td><td>348.9466</td><td>182.8373</td><td>239.8729</td><td>273.4522</td><td>477.4909</td><td>1067.6142</td><td> 78.0</td></tr>\n",
              "\t<tr><td>UbuntuVM    </td><td>kdtree-sobol </td><td>20</td><td>451.3348</td><td>349.9197</td><td>201.9282</td><td>242.4406</td><td>281.6783</td><td>486.9392</td><td>1082.7400</td><td> 78.2</td></tr>\n",
              "\t<tr><td>UbuntuNative</td><td>kdtree-sobol </td><td>20</td><td>511.5275</td><td>414.4978</td><td>206.8953</td><td>261.4464</td><td>308.8357</td><td>556.6735</td><td>1222.6908</td><td> 92.7</td></tr>\n",
              "\t<tr><td>BSD         </td><td>kdtree-sobol </td><td>20</td><td>541.2000</td><td>418.7428</td><td>221.0000</td><td>292.7500</td><td>342.0000</td><td>572.2500</td><td>1289.0000</td><td> 93.6</td></tr>\n",
              "\t<tr><td>Windows     </td><td>kdtree-sobol </td><td>20</td><td>647.5956</td><td>521.7355</td><td>249.1111</td><td>359.8632</td><td>403.3499</td><td>683.3504</td><td>1679.7009</td><td>117.0</td></tr>\n",
              "</tbody>\n",
              "</table>\n"
            ],
            "text/latex": [
              "A data.frame: 20 × 11\n",
              "\\begin{tabular}{lllllllllll}\n",
              " OS & Configuration & n & mean & sd & min & Q1 & median & Q3 & max & se\\\\\n",
              " <fct> & <fct> & <dbl> & <dbl> & <dbl> & <dbl> & <dbl> & <dbl> & <dbl> & <dbl> & <dbl>\\\\\n",
              "\\hline\n",
              "\t WSL          & bvh-halton    & 20 & 355.4367 & 249.0353 & 137.6900 & 182.0929 & 259.9879 & 433.2077 &  797.6080 &  55.7\\\\\n",
              "\t UbuntuVM     & bvh-halton    & 20 & 361.1414 & 247.3848 & 146.7676 & 182.9285 & 267.3502 & 449.4855 &  797.8420 &  55.3\\\\\n",
              "\t UbuntuNative & bvh-halton    & 20 & 404.1266 & 280.9778 & 165.7692 & 212.9758 & 285.6308 & 482.6992 &  897.9224 &  62.8\\\\\n",
              "\t BSD          & bvh-halton    & 20 & 427.4000 & 298.1555 & 162.0000 & 214.5000 & 306.5000 & 514.0000 &  929.0000 &  66.7\\\\\n",
              "\t Windows      & bvh-halton    & 20 & 487.7050 & 324.4557 & 171.8406 & 262.7577 & 379.2469 & 614.6979 & 1118.7469 &  72.6\\\\\n",
              "\t WSL          & bvh-sobol     & 20 & 344.8529 & 249.1568 & 143.6784 & 177.5705 & 239.9638 & 410.4818 &  792.5912 &  55.7\\\\\n",
              "\t UbuntuVM     & bvh-sobol     & 20 & 349.0564 & 247.4029 & 148.7070 & 178.6349 & 247.1480 & 420.1673 &  782.7041 &  55.3\\\\\n",
              "\t UbuntuNative & bvh-sobol     & 20 & 397.4769 & 288.2084 & 154.7399 & 195.6817 & 277.6234 & 452.9062 &  892.7353 &  64.4\\\\\n",
              "\t BSD          & bvh-sobol     & 20 & 424.9000 & 300.6614 & 165.0000 & 239.0000 & 301.0000 & 495.2500 &  939.0000 &  67.2\\\\\n",
              "\t Windows      & bvh-sobol     & 20 & 469.5047 & 326.5984 & 173.2288 & 256.9213 & 346.8279 & 557.7171 & 1127.8238 &  73.0\\\\\n",
              "\t WSL          & kdtree-halton & 20 & 452.0235 & 350.8386 & 181.8914 & 243.8965 & 290.4786 & 503.2382 & 1097.6363 &  78.4\\\\\n",
              "\t UbuntuVM     & kdtree-halton & 20 & 461.9387 & 347.3097 & 203.9030 & 248.7487 & 301.2906 & 515.7337 & 1097.7856 &  77.7\\\\\n",
              "\t UbuntuNative & kdtree-halton & 20 & 512.3272 & 387.0659 & 205.8977 & 285.0179 & 325.6203 & 558.4277 & 1233.1201 &  86.6\\\\\n",
              "\t BSD          & kdtree-halton & 20 & 540.7000 & 414.8427 & 213.0000 & 305.7500 & 347.0000 & 587.0000 & 1284.0000 &  92.8\\\\\n",
              "\t Windows      & kdtree-halton & 20 & 668.7420 & 517.2805 & 251.2739 & 361.4145 & 439.6458 & 740.3063 & 1714.4494 & 116.0\\\\\n",
              "\t WSL          & kdtree-sobol  & 20 & 440.9034 & 348.9466 & 182.8373 & 239.8729 & 273.4522 & 477.4909 & 1067.6142 &  78.0\\\\\n",
              "\t UbuntuVM     & kdtree-sobol  & 20 & 451.3348 & 349.9197 & 201.9282 & 242.4406 & 281.6783 & 486.9392 & 1082.7400 &  78.2\\\\\n",
              "\t UbuntuNative & kdtree-sobol  & 20 & 511.5275 & 414.4978 & 206.8953 & 261.4464 & 308.8357 & 556.6735 & 1222.6908 &  92.7\\\\\n",
              "\t BSD          & kdtree-sobol  & 20 & 541.2000 & 418.7428 & 221.0000 & 292.7500 & 342.0000 & 572.2500 & 1289.0000 &  93.6\\\\\n",
              "\t Windows      & kdtree-sobol  & 20 & 647.5956 & 521.7355 & 249.1111 & 359.8632 & 403.3499 & 683.3504 & 1679.7009 & 117.0\\\\\n",
              "\\end{tabular}\n"
            ],
            "text/markdown": [
              "\n",
              "A data.frame: 20 × 11\n",
              "\n",
              "| OS &lt;fct&gt; | Configuration &lt;fct&gt; | n &lt;dbl&gt; | mean &lt;dbl&gt; | sd &lt;dbl&gt; | min &lt;dbl&gt; | Q1 &lt;dbl&gt; | median &lt;dbl&gt; | Q3 &lt;dbl&gt; | max &lt;dbl&gt; | se &lt;dbl&gt; |\n",
              "|---|---|---|---|---|---|---|---|---|---|---|\n",
              "| WSL          | bvh-halton    | 20 | 355.4367 | 249.0353 | 137.6900 | 182.0929 | 259.9879 | 433.2077 |  797.6080 |  55.7 |\n",
              "| UbuntuVM     | bvh-halton    | 20 | 361.1414 | 247.3848 | 146.7676 | 182.9285 | 267.3502 | 449.4855 |  797.8420 |  55.3 |\n",
              "| UbuntuNative | bvh-halton    | 20 | 404.1266 | 280.9778 | 165.7692 | 212.9758 | 285.6308 | 482.6992 |  897.9224 |  62.8 |\n",
              "| BSD          | bvh-halton    | 20 | 427.4000 | 298.1555 | 162.0000 | 214.5000 | 306.5000 | 514.0000 |  929.0000 |  66.7 |\n",
              "| Windows      | bvh-halton    | 20 | 487.7050 | 324.4557 | 171.8406 | 262.7577 | 379.2469 | 614.6979 | 1118.7469 |  72.6 |\n",
              "| WSL          | bvh-sobol     | 20 | 344.8529 | 249.1568 | 143.6784 | 177.5705 | 239.9638 | 410.4818 |  792.5912 |  55.7 |\n",
              "| UbuntuVM     | bvh-sobol     | 20 | 349.0564 | 247.4029 | 148.7070 | 178.6349 | 247.1480 | 420.1673 |  782.7041 |  55.3 |\n",
              "| UbuntuNative | bvh-sobol     | 20 | 397.4769 | 288.2084 | 154.7399 | 195.6817 | 277.6234 | 452.9062 |  892.7353 |  64.4 |\n",
              "| BSD          | bvh-sobol     | 20 | 424.9000 | 300.6614 | 165.0000 | 239.0000 | 301.0000 | 495.2500 |  939.0000 |  67.2 |\n",
              "| Windows      | bvh-sobol     | 20 | 469.5047 | 326.5984 | 173.2288 | 256.9213 | 346.8279 | 557.7171 | 1127.8238 |  73.0 |\n",
              "| WSL          | kdtree-halton | 20 | 452.0235 | 350.8386 | 181.8914 | 243.8965 | 290.4786 | 503.2382 | 1097.6363 |  78.4 |\n",
              "| UbuntuVM     | kdtree-halton | 20 | 461.9387 | 347.3097 | 203.9030 | 248.7487 | 301.2906 | 515.7337 | 1097.7856 |  77.7 |\n",
              "| UbuntuNative | kdtree-halton | 20 | 512.3272 | 387.0659 | 205.8977 | 285.0179 | 325.6203 | 558.4277 | 1233.1201 |  86.6 |\n",
              "| BSD          | kdtree-halton | 20 | 540.7000 | 414.8427 | 213.0000 | 305.7500 | 347.0000 | 587.0000 | 1284.0000 |  92.8 |\n",
              "| Windows      | kdtree-halton | 20 | 668.7420 | 517.2805 | 251.2739 | 361.4145 | 439.6458 | 740.3063 | 1714.4494 | 116.0 |\n",
              "| WSL          | kdtree-sobol  | 20 | 440.9034 | 348.9466 | 182.8373 | 239.8729 | 273.4522 | 477.4909 | 1067.6142 |  78.0 |\n",
              "| UbuntuVM     | kdtree-sobol  | 20 | 451.3348 | 349.9197 | 201.9282 | 242.4406 | 281.6783 | 486.9392 | 1082.7400 |  78.2 |\n",
              "| UbuntuNative | kdtree-sobol  | 20 | 511.5275 | 414.4978 | 206.8953 | 261.4464 | 308.8357 | 556.6735 | 1222.6908 |  92.7 |\n",
              "| BSD          | kdtree-sobol  | 20 | 541.2000 | 418.7428 | 221.0000 | 292.7500 | 342.0000 | 572.2500 | 1289.0000 |  93.6 |\n",
              "| Windows      | kdtree-sobol  | 20 | 647.5956 | 521.7355 | 249.1111 | 359.8632 | 403.3499 | 683.3504 | 1679.7009 | 117.0 |\n",
              "\n"
            ],
            "text/plain": [
              "   OS           Configuration n  mean     sd       min      Q1       median  \n",
              "1  WSL          bvh-halton    20 355.4367 249.0353 137.6900 182.0929 259.9879\n",
              "2  UbuntuVM     bvh-halton    20 361.1414 247.3848 146.7676 182.9285 267.3502\n",
              "3  UbuntuNative bvh-halton    20 404.1266 280.9778 165.7692 212.9758 285.6308\n",
              "4  BSD          bvh-halton    20 427.4000 298.1555 162.0000 214.5000 306.5000\n",
              "5  Windows      bvh-halton    20 487.7050 324.4557 171.8406 262.7577 379.2469\n",
              "6  WSL          bvh-sobol     20 344.8529 249.1568 143.6784 177.5705 239.9638\n",
              "7  UbuntuVM     bvh-sobol     20 349.0564 247.4029 148.7070 178.6349 247.1480\n",
              "8  UbuntuNative bvh-sobol     20 397.4769 288.2084 154.7399 195.6817 277.6234\n",
              "9  BSD          bvh-sobol     20 424.9000 300.6614 165.0000 239.0000 301.0000\n",
              "10 Windows      bvh-sobol     20 469.5047 326.5984 173.2288 256.9213 346.8279\n",
              "11 WSL          kdtree-halton 20 452.0235 350.8386 181.8914 243.8965 290.4786\n",
              "12 UbuntuVM     kdtree-halton 20 461.9387 347.3097 203.9030 248.7487 301.2906\n",
              "13 UbuntuNative kdtree-halton 20 512.3272 387.0659 205.8977 285.0179 325.6203\n",
              "14 BSD          kdtree-halton 20 540.7000 414.8427 213.0000 305.7500 347.0000\n",
              "15 Windows      kdtree-halton 20 668.7420 517.2805 251.2739 361.4145 439.6458\n",
              "16 WSL          kdtree-sobol  20 440.9034 348.9466 182.8373 239.8729 273.4522\n",
              "17 UbuntuVM     kdtree-sobol  20 451.3348 349.9197 201.9282 242.4406 281.6783\n",
              "18 UbuntuNative kdtree-sobol  20 511.5275 414.4978 206.8953 261.4464 308.8357\n",
              "19 BSD          kdtree-sobol  20 541.2000 418.7428 221.0000 292.7500 342.0000\n",
              "20 Windows      kdtree-sobol  20 647.5956 521.7355 249.1111 359.8632 403.3499\n",
              "   Q3       max       se   \n",
              "1  433.2077  797.6080  55.7\n",
              "2  449.4855  797.8420  55.3\n",
              "3  482.6992  897.9224  62.8\n",
              "4  514.0000  929.0000  66.7\n",
              "5  614.6979 1118.7469  72.6\n",
              "6  410.4818  792.5912  55.7\n",
              "7  420.1673  782.7041  55.3\n",
              "8  452.9062  892.7353  64.4\n",
              "9  495.2500  939.0000  67.2\n",
              "10 557.7171 1127.8238  73.0\n",
              "11 503.2382 1097.6363  78.4\n",
              "12 515.7337 1097.7856  77.7\n",
              "13 558.4277 1233.1201  86.6\n",
              "14 587.0000 1284.0000  92.8\n",
              "15 740.3063 1714.4494 116.0\n",
              "16 477.4909 1067.6142  78.0\n",
              "17 486.9392 1082.7400  78.2\n",
              "18 556.6735 1222.6908  92.7\n",
              "19 572.2500 1289.0000  93.6\n",
              "20 683.3504 1679.7009 117.0"
            ]
          },
          "metadata": {},
          "output_type": "display_data"
        },
        {
          "data": {
            "image/png": "[encoded data removed]",
            "text/plain": [
              "plot without title"
            ]
          },
          "metadata": {
            "image/png": {
              "height": 420,
              "width": 420
            }
          },
          "output_type": "display_data"
        }
      ],
      "source": [
        "Sum = Summarize(Time ~ OS + Configuration, data=data, digits=4)\n",
        "\n",
        "Sum$se = Sum$sd / sqrt(Sum$n)\n",
        "Sum$se = signif(Sum$se, digits=3)\n",
        "Sum\n",
        "\n",
        "library(ggplot2)\n",
        "\n",
        "pd=position_dodge(.2)\n",
        "\n",
        "ggplot(Sum, aes(x = Configuration, y = mean, color = OS)) +\n",
        "  geom_errorbar(aes(ymin = mean - se, ymax = mean + se), width = 0.2, size = 0.7, position = pd) +\n",
        "  theme_bw() + theme(axis.title = element_text(face=\"bold\")) +\n",
        "  scale_color_manual(values=c(\"black\", \"red\", \"green\", \"blue\", \"orange\")) +\n",
        "  ylab (expression(\"Average rendering time before data transformation (seconds)\")) +\n",
        "  ggtitle(\"Time vs Operating System + Configuration\")"
      ]
    },
    {
      "cell_type": "code",
      "execution_count": 20,
      "metadata": {
        "id": "N6UMihZ_8cAO",
        "vscode": {
          "languageId": "r"
        }
      },
      "outputs": [
        {
          "data": {
            "text/html": [
              "<table class=\"dataframe\">\n",
              "<caption>A data.frame: 20 × 11</caption>\n",
              "<thead>\n",
              "\t<tr><th scope=col>OS</th><th scope=col>Scene</th><th scope=col>n</th><th scope=col>mean</th><th scope=col>sd</th><th scope=col>min</th><th scope=col>Q1</th><th scope=col>median</th><th scope=col>Q3</th><th scope=col>max</th><th scope=col>se</th></tr>\n",
              "\t<tr><th scope=col>&lt;fct&gt;</th><th scope=col>&lt;fct&gt;</th><th scope=col>&lt;dbl&gt;</th><th scope=col>&lt;dbl&gt;</th><th scope=col>&lt;dbl&gt;</th><th scope=col>&lt;dbl&gt;</th><th scope=col>&lt;dbl&gt;</th><th scope=col>&lt;dbl&gt;</th><th scope=col>&lt;dbl&gt;</th><th scope=col>&lt;dbl&gt;</th><th scope=col>&lt;dbl&gt;</th></tr>\n",
              "</thead>\n",
              "<tbody>\n",
              "\t<tr><td>WSL         </td><td>bidir         </td><td>20</td><td> 895.3664</td><td>142.9162</td><td>737.5902</td><td>751.3571</td><td> 900.1140</td><td>1023.8843</td><td>1097.6363</td><td>32.00</td></tr>\n",
              "\t<tr><td>UbuntuVM    </td><td>bidir         </td><td>20</td><td> 899.5123</td><td>146.9070</td><td>742.6788</td><td>751.5934</td><td> 905.3269</td><td>1027.7658</td><td>1097.7856</td><td>32.80</td></tr>\n",
              "\t<tr><td>UbuntuNative</td><td>bidir         </td><td>20</td><td>1024.7810</td><td>167.2607</td><td>807.7173</td><td>887.7026</td><td>1005.3567</td><td>1204.0896</td><td>1233.1201</td><td>37.40</td></tr>\n",
              "\t<tr><td>BSD         </td><td>bidir         </td><td>20</td><td>1076.4500</td><td>171.2359</td><td>850.0000</td><td>929.0000</td><td>1049.5000</td><td>1275.2500</td><td>1289.0000</td><td>38.30</td></tr>\n",
              "\t<tr><td>Windows     </td><td>bidir         </td><td>20</td><td>1263.4094</td><td>279.8804</td><td>936.5486</td><td>988.7937</td><td>1280.9570</td><td>1497.2383</td><td>1714.4494</td><td>62.60</td></tr>\n",
              "\t<tr><td>WSL         </td><td>buddha-fractal</td><td>20</td><td> 168.8246</td><td> 24.7864</td><td>137.6900</td><td>144.6671</td><td> 167.7811</td><td> 190.6140</td><td> 204.8574</td><td> 5.54</td></tr>\n",
              "\t<tr><td>UbuntuVM    </td><td>buddha-fractal</td><td>20</td><td> 179.7583</td><td> 29.7075</td><td>146.7676</td><td>150.5184</td><td> 179.8455</td><td> 207.2514</td><td> 218.9978</td><td> 6.64</td></tr>\n",
              "\t<tr><td>UbuntuNative</td><td>buddha-fractal</td><td>20</td><td> 193.1607</td><td> 28.0834</td><td>154.7399</td><td>168.2159</td><td> 187.3908</td><td> 222.9130</td><td> 224.9798</td><td> 6.28</td></tr>\n",
              "\t<tr><td>BSD         </td><td>buddha-fractal</td><td>20</td><td> 199.8000</td><td> 29.5877</td><td>162.0000</td><td>173.7500</td><td> 197.5000</td><td> 229.7500</td><td> 238.0000</td><td> 6.62</td></tr>\n",
              "\t<tr><td>Windows     </td><td>buddha-fractal</td><td>20</td><td> 227.3177</td><td> 44.5543</td><td>171.8406</td><td>182.5377</td><td> 227.5638</td><td> 263.9630</td><td> 304.6729</td><td> 9.96</td></tr>\n",
              "\t<tr><td>WSL         </td><td>spotfog       </td><td>20</td><td> 226.0092</td><td> 34.4146</td><td>185.5371</td><td>193.3094</td><td> 228.0619</td><td> 257.5709</td><td> 273.5715</td><td> 7.70</td></tr>\n",
              "\t<tr><td>UbuntuVM    </td><td>spotfog       </td><td>20</td><td> 226.7311</td><td> 36.0495</td><td>185.5923</td><td>192.3889</td><td> 228.1160</td><td> 258.9252</td><td> 276.7243</td><td> 8.06</td></tr>\n",
              "\t<tr><td>UbuntuNative</td><td>spotfog       </td><td>20</td><td> 260.5192</td><td> 39.2582</td><td>204.6483</td><td>226.4165</td><td> 252.1007</td><td> 305.9268</td><td> 308.5777</td><td> 8.78</td></tr>\n",
              "\t<tr><td>BSD         </td><td>spotfog       </td><td>20</td><td> 291.0500</td><td> 43.8952</td><td>227.0000</td><td>255.7500</td><td> 285.5000</td><td> 332.0000</td><td> 340.0000</td><td> 9.82</td></tr>\n",
              "\t<tr><td>Windows     </td><td>spotfog       </td><td>20</td><td> 348.8334</td><td> 59.3653</td><td>273.8896</td><td>290.2346</td><td> 351.5961</td><td> 401.2693</td><td> 436.1020</td><td>13.30</td></tr>\n",
              "\t<tr><td>WSL         </td><td>teapot-metal  </td><td>20</td><td> 303.0162</td><td> 17.3875</td><td>280.3585</td><td>286.1659</td><td> 304.9168</td><td> 316.4110</td><td> 333.4415</td><td> 3.89</td></tr>\n",
              "\t<tr><td>UbuntuVM    </td><td>teapot-metal  </td><td>20</td><td> 317.4695</td><td> 19.2096</td><td>293.6753</td><td>298.3224</td><td> 319.2602</td><td> 329.3468</td><td> 350.0859</td><td> 4.30</td></tr>\n",
              "\t<tr><td>UbuntuNative</td><td>teapot-metal  </td><td>20</td><td> 346.9972</td><td> 19.1790</td><td>311.0367</td><td>332.7222</td><td> 340.7072</td><td> 369.7240</td><td> 373.6400</td><td> 4.29</td></tr>\n",
              "\t<tr><td>BSD         </td><td>teapot-metal  </td><td>20</td><td> 366.9000</td><td> 19.2979</td><td>342.0000</td><td>346.7500</td><td> 364.0000</td><td> 375.0000</td><td> 402.0000</td><td> 4.32</td></tr>\n",
              "\t<tr><td>Windows     </td><td>teapot-metal  </td><td>20</td><td> 433.9867</td><td> 39.3291</td><td>378.2600</td><td>401.2421</td><td> 434.5562</td><td> 463.9071</td><td> 507.6407</td><td> 8.79</td></tr>\n",
              "</tbody>\n",
              "</table>\n"
            ],
            "text/latex": [
              "A data.frame: 20 × 11\n",
              "\\begin{tabular}{lllllllllll}\n",
              " OS & Scene & n & mean & sd & min & Q1 & median & Q3 & max & se\\\\\n",
              " <fct> & <fct> & <dbl> & <dbl> & <dbl> & <dbl> & <dbl> & <dbl> & <dbl> & <dbl> & <dbl>\\\\\n",
              "\\hline\n",
              "\t WSL          & bidir          & 20 &  895.3664 & 142.9162 & 737.5902 & 751.3571 &  900.1140 & 1023.8843 & 1097.6363 & 32.00\\\\\n",
              "\t UbuntuVM     & bidir          & 20 &  899.5123 & 146.9070 & 742.6788 & 751.5934 &  905.3269 & 1027.7658 & 1097.7856 & 32.80\\\\\n",
              "\t UbuntuNative & bidir          & 20 & 1024.7810 & 167.2607 & 807.7173 & 887.7026 & 1005.3567 & 1204.0896 & 1233.1201 & 37.40\\\\\n",
              "\t BSD          & bidir          & 20 & 1076.4500 & 171.2359 & 850.0000 & 929.0000 & 1049.5000 & 1275.2500 & 1289.0000 & 38.30\\\\\n",
              "\t Windows      & bidir          & 20 & 1263.4094 & 279.8804 & 936.5486 & 988.7937 & 1280.9570 & 1497.2383 & 1714.4494 & 62.60\\\\\n",
              "\t WSL          & buddha-fractal & 20 &  168.8246 &  24.7864 & 137.6900 & 144.6671 &  167.7811 &  190.6140 &  204.8574 &  5.54\\\\\n",
              "\t UbuntuVM     & buddha-fractal & 20 &  179.7583 &  29.7075 & 146.7676 & 150.5184 &  179.8455 &  207.2514 &  218.9978 &  6.64\\\\\n",
              "\t UbuntuNative & buddha-fractal & 20 &  193.1607 &  28.0834 & 154.7399 & 168.2159 &  187.3908 &  222.9130 &  224.9798 &  6.28\\\\\n",
              "\t BSD          & buddha-fractal & 20 &  199.8000 &  29.5877 & 162.0000 & 173.7500 &  197.5000 &  229.7500 &  238.0000 &  6.62\\\\\n",
              "\t Windows      & buddha-fractal & 20 &  227.3177 &  44.5543 & 171.8406 & 182.5377 &  227.5638 &  263.9630 &  304.6729 &  9.96\\\\\n",
              "\t WSL          & spotfog        & 20 &  226.0092 &  34.4146 & 185.5371 & 193.3094 &  228.0619 &  257.5709 &  273.5715 &  7.70\\\\\n",
              "\t UbuntuVM     & spotfog        & 20 &  226.7311 &  36.0495 & 185.5923 & 192.3889 &  228.1160 &  258.9252 &  276.7243 &  8.06\\\\\n",
              "\t UbuntuNative & spotfog        & 20 &  260.5192 &  39.2582 & 204.6483 & 226.4165 &  252.1007 &  305.9268 &  308.5777 &  8.78\\\\\n",
              "\t BSD          & spotfog        & 20 &  291.0500 &  43.8952 & 227.0000 & 255.7500 &  285.5000 &  332.0000 &  340.0000 &  9.82\\\\\n",
              "\t Windows      & spotfog        & 20 &  348.8334 &  59.3653 & 273.8896 & 290.2346 &  351.5961 &  401.2693 &  436.1020 & 13.30\\\\\n",
              "\t WSL          & teapot-metal   & 20 &  303.0162 &  17.3875 & 280.3585 & 286.1659 &  304.9168 &  316.4110 &  333.4415 &  3.89\\\\\n",
              "\t UbuntuVM     & teapot-metal   & 20 &  317.4695 &  19.2096 & 293.6753 & 298.3224 &  319.2602 &  329.3468 &  350.0859 &  4.30\\\\\n",
              "\t UbuntuNative & teapot-metal   & 20 &  346.9972 &  19.1790 & 311.0367 & 332.7222 &  340.7072 &  369.7240 &  373.6400 &  4.29\\\\\n",
              "\t BSD          & teapot-metal   & 20 &  366.9000 &  19.2979 & 342.0000 & 346.7500 &  364.0000 &  375.0000 &  402.0000 &  4.32\\\\\n",
              "\t Windows      & teapot-metal   & 20 &  433.9867 &  39.3291 & 378.2600 & 401.2421 &  434.5562 &  463.9071 &  507.6407 &  8.79\\\\\n",
              "\\end{tabular}\n"
            ],
            "text/markdown": [
              "\n",
              "A data.frame: 20 × 11\n",
              "\n",
              "| OS &lt;fct&gt; | Scene &lt;fct&gt; | n &lt;dbl&gt; | mean &lt;dbl&gt; | sd &lt;dbl&gt; | min &lt;dbl&gt; | Q1 &lt;dbl&gt; | median &lt;dbl&gt; | Q3 &lt;dbl&gt; | max &lt;dbl&gt; | se &lt;dbl&gt; |\n",
              "|---|---|---|---|---|---|---|---|---|---|---|\n",
              "| WSL          | bidir          | 20 |  895.3664 | 142.9162 | 737.5902 | 751.3571 |  900.1140 | 1023.8843 | 1097.6363 | 32.00 |\n",
              "| UbuntuVM     | bidir          | 20 |  899.5123 | 146.9070 | 742.6788 | 751.5934 |  905.3269 | 1027.7658 | 1097.7856 | 32.80 |\n",
              "| UbuntuNative | bidir          | 20 | 1024.7810 | 167.2607 | 807.7173 | 887.7026 | 1005.3567 | 1204.0896 | 1233.1201 | 37.40 |\n",
              "| BSD          | bidir          | 20 | 1076.4500 | 171.2359 | 850.0000 | 929.0000 | 1049.5000 | 1275.2500 | 1289.0000 | 38.30 |\n",
              "| Windows      | bidir          | 20 | 1263.4094 | 279.8804 | 936.5486 | 988.7937 | 1280.9570 | 1497.2383 | 1714.4494 | 62.60 |\n",
              "| WSL          | buddha-fractal | 20 |  168.8246 |  24.7864 | 137.6900 | 144.6671 |  167.7811 |  190.6140 |  204.8574 |  5.54 |\n",
              "| UbuntuVM     | buddha-fractal | 20 |  179.7583 |  29.7075 | 146.7676 | 150.5184 |  179.8455 |  207.2514 |  218.9978 |  6.64 |\n",
              "| UbuntuNative | buddha-fractal | 20 |  193.1607 |  28.0834 | 154.7399 | 168.2159 |  187.3908 |  222.9130 |  224.9798 |  6.28 |\n",
              "| BSD          | buddha-fractal | 20 |  199.8000 |  29.5877 | 162.0000 | 173.7500 |  197.5000 |  229.7500 |  238.0000 |  6.62 |\n",
              "| Windows      | buddha-fractal | 20 |  227.3177 |  44.5543 | 171.8406 | 182.5377 |  227.5638 |  263.9630 |  304.6729 |  9.96 |\n",
              "| WSL          | spotfog        | 20 |  226.0092 |  34.4146 | 185.5371 | 193.3094 |  228.0619 |  257.5709 |  273.5715 |  7.70 |\n",
              "| UbuntuVM     | spotfog        | 20 |  226.7311 |  36.0495 | 185.5923 | 192.3889 |  228.1160 |  258.9252 |  276.7243 |  8.06 |\n",
              "| UbuntuNative | spotfog        | 20 |  260.5192 |  39.2582 | 204.6483 | 226.4165 |  252.1007 |  305.9268 |  308.5777 |  8.78 |\n",
              "| BSD          | spotfog        | 20 |  291.0500 |  43.8952 | 227.0000 | 255.7500 |  285.5000 |  332.0000 |  340.0000 |  9.82 |\n",
              "| Windows      | spotfog        | 20 |  348.8334 |  59.3653 | 273.8896 | 290.2346 |  351.5961 |  401.2693 |  436.1020 | 13.30 |\n",
              "| WSL          | teapot-metal   | 20 |  303.0162 |  17.3875 | 280.3585 | 286.1659 |  304.9168 |  316.4110 |  333.4415 |  3.89 |\n",
              "| UbuntuVM     | teapot-metal   | 20 |  317.4695 |  19.2096 | 293.6753 | 298.3224 |  319.2602 |  329.3468 |  350.0859 |  4.30 |\n",
              "| UbuntuNative | teapot-metal   | 20 |  346.9972 |  19.1790 | 311.0367 | 332.7222 |  340.7072 |  369.7240 |  373.6400 |  4.29 |\n",
              "| BSD          | teapot-metal   | 20 |  366.9000 |  19.2979 | 342.0000 | 346.7500 |  364.0000 |  375.0000 |  402.0000 |  4.32 |\n",
              "| Windows      | teapot-metal   | 20 |  433.9867 |  39.3291 | 378.2600 | 401.2421 |  434.5562 |  463.9071 |  507.6407 |  8.79 |\n",
              "\n"
            ],
            "text/plain": [
              "   OS           Scene          n  mean      sd       min      Q1      \n",
              "1  WSL          bidir          20  895.3664 142.9162 737.5902 751.3571\n",
              "2  UbuntuVM     bidir          20  899.5123 146.9070 742.6788 751.5934\n",
              "3  UbuntuNative bidir          20 1024.7810 167.2607 807.7173 887.7026\n",
              "4  BSD          bidir          20 1076.4500 171.2359 850.0000 929.0000\n",
              "5  Windows      bidir          20 1263.4094 279.8804 936.5486 988.7937\n",
              "6  WSL          buddha-fractal 20  168.8246  24.7864 137.6900 144.6671\n",
              "7  UbuntuVM     buddha-fractal 20  179.7583  29.7075 146.7676 150.5184\n",
              "8  UbuntuNative buddha-fractal 20  193.1607  28.0834 154.7399 168.2159\n",
              "9  BSD          buddha-fractal 20  199.8000  29.5877 162.0000 173.7500\n",
              "10 Windows      buddha-fractal 20  227.3177  44.5543 171.8406 182.5377\n",
              "11 WSL          spotfog        20  226.0092  34.4146 185.5371 193.3094\n",
              "12 UbuntuVM     spotfog        20  226.7311  36.0495 185.5923 192.3889\n",
              "13 UbuntuNative spotfog        20  260.5192  39.2582 204.6483 226.4165\n",
              "14 BSD          spotfog        20  291.0500  43.8952 227.0000 255.7500\n",
              "15 Windows      spotfog        20  348.8334  59.3653 273.8896 290.2346\n",
              "16 WSL          teapot-metal   20  303.0162  17.3875 280.3585 286.1659\n",
              "17 UbuntuVM     teapot-metal   20  317.4695  19.2096 293.6753 298.3224\n",
              "18 UbuntuNative teapot-metal   20  346.9972  19.1790 311.0367 332.7222\n",
              "19 BSD          teapot-metal   20  366.9000  19.2979 342.0000 346.7500\n",
              "20 Windows      teapot-metal   20  433.9867  39.3291 378.2600 401.2421\n",
              "   median    Q3        max       se   \n",
              "1   900.1140 1023.8843 1097.6363 32.00\n",
              "2   905.3269 1027.7658 1097.7856 32.80\n",
              "3  1005.3567 1204.0896 1233.1201 37.40\n",
              "4  1049.5000 1275.2500 1289.0000 38.30\n",
              "5  1280.9570 1497.2383 1714.4494 62.60\n",
              "6   167.7811  190.6140  204.8574  5.54\n",
              "7   179.8455  207.2514  218.9978  6.64\n",
              "8   187.3908  222.9130  224.9798  6.28\n",
              "9   197.5000  229.7500  238.0000  6.62\n",
              "10  227.5638  263.9630  304.6729  9.96\n",
              "11  228.0619  257.5709  273.5715  7.70\n",
              "12  228.1160  258.9252  276.7243  8.06\n",
              "13  252.1007  305.9268  308.5777  8.78\n",
              "14  285.5000  332.0000  340.0000  9.82\n",
              "15  351.5961  401.2693  436.1020 13.30\n",
              "16  304.9168  316.4110  333.4415  3.89\n",
              "17  319.2602  329.3468  350.0859  4.30\n",
              "18  340.7072  369.7240  373.6400  4.29\n",
              "19  364.0000  375.0000  402.0000  4.32\n",
              "20  434.5562  463.9071  507.6407  8.79"
            ]
          },
          "metadata": {},
          "output_type": "display_data"
        },
        {
          "data": {
            "image/png": "[encoded data removed]",
            "text/plain": [
              "plot without title"
            ]
          },
          "metadata": {
            "image/png": {
              "height": 420,
              "width": 420
            }
          },
          "output_type": "display_data"
        }
      ],
      "source": [
        "Sum = Summarize(Time ~ OS + Scene, data=data, digits=4)\n",
        "\n",
        "Sum$se = Sum$sd / sqrt(Sum$n)\n",
        "Sum$se = signif(Sum$se, digits=3)\n",
        "Sum\n",
        "\n",
        "library(ggplot2)\n",
        "\n",
        "pd=position_dodge(.2)\n",
        "\n",
        "ggplot(Sum, aes(x = Scene, y = mean, color = OS)) +\n",
        "  geom_errorbar(aes(ymin = mean - se, ymax = mean + se), width = 0.2, size = 0.7, position = pd) +\n",
        "  theme_bw() + theme(axis.title = element_text(face=\"bold\")) +\n",
        "  scale_color_manual(values=c(\"black\", \"red\", \"green\", \"blue\", \"orange\")) +\n",
        "  ylab (expression(\"Average rendering time before data transformation (seconds)\")) +\n",
        "  ggtitle(\"Time vs Operating System + Scene\")"
      ]
    },
    {
      "attachments": {},
      "cell_type": "markdown",
      "metadata": {
        "id": "kSt7LYKu9faI"
      },
      "source": [
        "## Grafico Principal"
      ]
    },
    {
      "cell_type": "code",
      "execution_count": 21,
      "metadata": {
        "id": "qckEo17k9hEY",
        "vscode": {
          "languageId": "r"
        }
      },
      "outputs": [
        {
          "data": {
            "text/html": [
              "<table class=\"dataframe\">\n",
              "<caption>A data.frame: 5 × 10</caption>\n",
              "<thead>\n",
              "\t<tr><th scope=col>OS</th><th scope=col>n</th><th scope=col>mean</th><th scope=col>sd</th><th scope=col>min</th><th scope=col>Q1</th><th scope=col>median</th><th scope=col>Q3</th><th scope=col>max</th><th scope=col>se</th></tr>\n",
              "\t<tr><th scope=col>&lt;fct&gt;</th><th scope=col>&lt;dbl&gt;</th><th scope=col>&lt;dbl&gt;</th><th scope=col>&lt;dbl&gt;</th><th scope=col>&lt;dbl&gt;</th><th scope=col>&lt;dbl&gt;</th><th scope=col>&lt;dbl&gt;</th><th scope=col>&lt;dbl&gt;</th><th scope=col>&lt;dbl&gt;</th><th scope=col>&lt;dbl&gt;</th></tr>\n",
              "</thead>\n",
              "<tbody>\n",
              "\t<tr><td>WSL         </td><td>80</td><td>18.7960</td><td>6.7516</td><td>11.7341</td><td>13.8851</td><td>16.6420</td><td>20.4849</td><td>33.1306</td><td>0.755</td></tr>\n",
              "\t<tr><td>UbuntuVM    </td><td>80</td><td>19.0205</td><td>6.6817</td><td>12.1148</td><td>14.2621</td><td>16.8860</td><td>20.8460</td><td>33.1328</td><td>0.747</td></tr>\n",
              "\t<tr><td>UbuntuNative</td><td>80</td><td>20.1229</td><td>7.2169</td><td>12.4394</td><td>14.9322</td><td>17.6013</td><td>21.6024</td><td>35.1158</td><td>0.807</td></tr>\n",
              "\t<tr><td>BSD         </td><td>80</td><td>20.7426</td><td>7.3464</td><td>12.7279</td><td>15.3378</td><td>18.4662</td><td>22.3261</td><td>35.9026</td><td>0.821</td></tr>\n",
              "\t<tr><td>Windows     </td><td>80</td><td>22.4421</td><td>8.0969</td><td>13.1088</td><td>16.8038</td><td>20.0335</td><td>24.5489</td><td>41.4059</td><td>0.905</td></tr>\n",
              "</tbody>\n",
              "</table>\n"
            ],
            "text/latex": [
              "A data.frame: 5 × 10\n",
              "\\begin{tabular}{llllllllll}\n",
              " OS & n & mean & sd & min & Q1 & median & Q3 & max & se\\\\\n",
              " <fct> & <dbl> & <dbl> & <dbl> & <dbl> & <dbl> & <dbl> & <dbl> & <dbl> & <dbl>\\\\\n",
              "\\hline\n",
              "\t WSL          & 80 & 18.7960 & 6.7516 & 11.7341 & 13.8851 & 16.6420 & 20.4849 & 33.1306 & 0.755\\\\\n",
              "\t UbuntuVM     & 80 & 19.0205 & 6.6817 & 12.1148 & 14.2621 & 16.8860 & 20.8460 & 33.1328 & 0.747\\\\\n",
              "\t UbuntuNative & 80 & 20.1229 & 7.2169 & 12.4394 & 14.9322 & 17.6013 & 21.6024 & 35.1158 & 0.807\\\\\n",
              "\t BSD          & 80 & 20.7426 & 7.3464 & 12.7279 & 15.3378 & 18.4662 & 22.3261 & 35.9026 & 0.821\\\\\n",
              "\t Windows      & 80 & 22.4421 & 8.0969 & 13.1088 & 16.8038 & 20.0335 & 24.5489 & 41.4059 & 0.905\\\\\n",
              "\\end{tabular}\n"
            ],
            "text/markdown": [
              "\n",
              "A data.frame: 5 × 10\n",
              "\n",
              "| OS &lt;fct&gt; | n &lt;dbl&gt; | mean &lt;dbl&gt; | sd &lt;dbl&gt; | min &lt;dbl&gt; | Q1 &lt;dbl&gt; | median &lt;dbl&gt; | Q3 &lt;dbl&gt; | max &lt;dbl&gt; | se &lt;dbl&gt; |\n",
              "|---|---|---|---|---|---|---|---|---|---|\n",
              "| WSL          | 80 | 18.7960 | 6.7516 | 11.7341 | 13.8851 | 16.6420 | 20.4849 | 33.1306 | 0.755 |\n",
              "| UbuntuVM     | 80 | 19.0205 | 6.6817 | 12.1148 | 14.2621 | 16.8860 | 20.8460 | 33.1328 | 0.747 |\n",
              "| UbuntuNative | 80 | 20.1229 | 7.2169 | 12.4394 | 14.9322 | 17.6013 | 21.6024 | 35.1158 | 0.807 |\n",
              "| BSD          | 80 | 20.7426 | 7.3464 | 12.7279 | 15.3378 | 18.4662 | 22.3261 | 35.9026 | 0.821 |\n",
              "| Windows      | 80 | 22.4421 | 8.0969 | 13.1088 | 16.8038 | 20.0335 | 24.5489 | 41.4059 | 0.905 |\n",
              "\n"
            ],
            "text/plain": [
              "  OS           n  mean    sd     min     Q1      median  Q3      max     se   \n",
              "1 WSL          80 18.7960 6.7516 11.7341 13.8851 16.6420 20.4849 33.1306 0.755\n",
              "2 UbuntuVM     80 19.0205 6.6817 12.1148 14.2621 16.8860 20.8460 33.1328 0.747\n",
              "3 UbuntuNative 80 20.1229 7.2169 12.4394 14.9322 17.6013 21.6024 35.1158 0.807\n",
              "4 BSD          80 20.7426 7.3464 12.7279 15.3378 18.4662 22.3261 35.9026 0.821\n",
              "5 Windows      80 22.4421 8.0969 13.1088 16.8038 20.0335 24.5489 41.4059 0.905"
            ]
          },
          "metadata": {},
          "output_type": "display_data"
        },
        {
          "data": {
            "image/png": "[encoded data removed]",
            "text/plain": [
              "plot without title"
            ]
          },
          "metadata": {
            "image/png": {
              "height": 420,
              "width": 420
            }
          },
          "output_type": "display_data"
        }
      ],
      "source": [
        "## datos transformados\n",
        "\n",
        "Sum = Summarize(T_sqrt ~ OS, data=data, digits=4)\n",
        "\n",
        "Sum$se = Sum$sd / sqrt(Sum$n)\n",
        "Sum$se = signif(Sum$se, digits=3)\n",
        "Sum\n",
        "\n",
        "library(ggplot2)\n",
        "\n",
        "pd=position_dodge(.2)\n",
        "\n",
        "q = ggplot ( Sum , aes (x= OS , y=mean , color = OS ) ) +\n",
        "    geom_errorbar ( aes ( ymin = mean - se , ymax = mean + se) , width =.2 , size =0.7 , position = pd ) +\n",
        "    geom_point ( aes ( shape = OS ) , size =5 , position = pd ) + theme_bw () +\n",
        "    theme ( plot.title = element_text ( face =\"bold\", size =20 , hjust =0.5) ,\n",
        "            axis.title = element_text ( face =\"bold\", size =20) ,\n",
        "            axis.text = element_text ( face =\"bold\", size =15) ,\n",
        "            plot.caption = element_text ( hjust =0) ,\n",
        "            legend.text = element_text ( face =\"bold\", size =15) ,\n",
        "            legend.title = element_text ( face =\"bold\", size =20) ,\n",
        "            legend.justification = c(0 ,1) , legend.position =c (0.01 , 0.99) ) +\n",
        "  ylab (expression(\"Average rendering time after data transformation (square root)\")) +\n",
        "  ggtitle(\"Time vs Operating System\")\n",
        "\n",
        "ggsave(plot=q, width=10, height=8, dpi=800, filename=\"principal_sqrt.png\")\n",
        "q"
      ]
    },
    {
      "cell_type": "code",
      "execution_count": 22,
      "metadata": {
        "id": "iHhiKtumCVhn",
        "vscode": {
          "languageId": "r"
        }
      },
      "outputs": [
        {
          "data": {
            "text/html": [
              "<table class=\"dataframe\">\n",
              "<caption>A data.frame: 5 × 10</caption>\n",
              "<thead>\n",
              "\t<tr><th scope=col>OS</th><th scope=col>n</th><th scope=col>mean</th><th scope=col>sd</th><th scope=col>min</th><th scope=col>Q1</th><th scope=col>median</th><th scope=col>Q3</th><th scope=col>max</th><th scope=col>se</th></tr>\n",
              "\t<tr><th scope=col>&lt;fct&gt;</th><th scope=col>&lt;dbl&gt;</th><th scope=col>&lt;dbl&gt;</th><th scope=col>&lt;dbl&gt;</th><th scope=col>&lt;dbl&gt;</th><th scope=col>&lt;dbl&gt;</th><th scope=col>&lt;dbl&gt;</th><th scope=col>&lt;dbl&gt;</th><th scope=col>&lt;dbl&gt;</th><th scope=col>&lt;dbl&gt;</th></tr>\n",
              "</thead>\n",
              "<tbody>\n",
              "\t<tr><td>WSL         </td><td>80</td><td>353.2896</td><td>45.58410</td><td>11.7341</td><td>13.8851</td><td>16.6420</td><td>20.4849</td><td>33.1306</td><td>5.10</td></tr>\n",
              "\t<tr><td>UbuntuVM    </td><td>80</td><td>361.7794</td><td>44.64511</td><td>12.1148</td><td>14.2621</td><td>16.8860</td><td>20.8460</td><td>33.1328</td><td>4.99</td></tr>\n",
              "\t<tr><td>UbuntuNative</td><td>80</td><td>404.9311</td><td>52.08365</td><td>12.4394</td><td>14.9322</td><td>17.6013</td><td>21.6024</td><td>35.1158</td><td>5.82</td></tr>\n",
              "\t<tr><td>BSD         </td><td>80</td><td>430.2555</td><td>53.96959</td><td>12.7279</td><td>15.3378</td><td>18.4662</td><td>22.3261</td><td>35.9026</td><td>6.03</td></tr>\n",
              "\t<tr><td>Windows     </td><td>80</td><td>503.6479</td><td>65.55979</td><td>13.1088</td><td>16.8038</td><td>20.0335</td><td>24.5489</td><td>41.4059</td><td>7.33</td></tr>\n",
              "</tbody>\n",
              "</table>\n"
            ],
            "text/latex": [
              "A data.frame: 5 × 10\n",
              "\\begin{tabular}{llllllllll}\n",
              " OS & n & mean & sd & min & Q1 & median & Q3 & max & se\\\\\n",
              " <fct> & <dbl> & <dbl> & <dbl> & <dbl> & <dbl> & <dbl> & <dbl> & <dbl> & <dbl>\\\\\n",
              "\\hline\n",
              "\t WSL          & 80 & 353.2896 & 45.58410 & 11.7341 & 13.8851 & 16.6420 & 20.4849 & 33.1306 & 5.10\\\\\n",
              "\t UbuntuVM     & 80 & 361.7794 & 44.64511 & 12.1148 & 14.2621 & 16.8860 & 20.8460 & 33.1328 & 4.99\\\\\n",
              "\t UbuntuNative & 80 & 404.9311 & 52.08365 & 12.4394 & 14.9322 & 17.6013 & 21.6024 & 35.1158 & 5.82\\\\\n",
              "\t BSD          & 80 & 430.2555 & 53.96959 & 12.7279 & 15.3378 & 18.4662 & 22.3261 & 35.9026 & 6.03\\\\\n",
              "\t Windows      & 80 & 503.6479 & 65.55979 & 13.1088 & 16.8038 & 20.0335 & 24.5489 & 41.4059 & 7.33\\\\\n",
              "\\end{tabular}\n"
            ],
            "text/markdown": [
              "\n",
              "A data.frame: 5 × 10\n",
              "\n",
              "| OS &lt;fct&gt; | n &lt;dbl&gt; | mean &lt;dbl&gt; | sd &lt;dbl&gt; | min &lt;dbl&gt; | Q1 &lt;dbl&gt; | median &lt;dbl&gt; | Q3 &lt;dbl&gt; | max &lt;dbl&gt; | se &lt;dbl&gt; |\n",
              "|---|---|---|---|---|---|---|---|---|---|\n",
              "| WSL          | 80 | 353.2896 | 45.58410 | 11.7341 | 13.8851 | 16.6420 | 20.4849 | 33.1306 | 5.10 |\n",
              "| UbuntuVM     | 80 | 361.7794 | 44.64511 | 12.1148 | 14.2621 | 16.8860 | 20.8460 | 33.1328 | 4.99 |\n",
              "| UbuntuNative | 80 | 404.9311 | 52.08365 | 12.4394 | 14.9322 | 17.6013 | 21.6024 | 35.1158 | 5.82 |\n",
              "| BSD          | 80 | 430.2555 | 53.96959 | 12.7279 | 15.3378 | 18.4662 | 22.3261 | 35.9026 | 6.03 |\n",
              "| Windows      | 80 | 503.6479 | 65.55979 | 13.1088 | 16.8038 | 20.0335 | 24.5489 | 41.4059 | 7.33 |\n",
              "\n"
            ],
            "text/plain": [
              "  OS           n  mean     sd       min     Q1      median  Q3      max    \n",
              "1 WSL          80 353.2896 45.58410 11.7341 13.8851 16.6420 20.4849 33.1306\n",
              "2 UbuntuVM     80 361.7794 44.64511 12.1148 14.2621 16.8860 20.8460 33.1328\n",
              "3 UbuntuNative 80 404.9311 52.08365 12.4394 14.9322 17.6013 21.6024 35.1158\n",
              "4 BSD          80 430.2555 53.96959 12.7279 15.3378 18.4662 22.3261 35.9026\n",
              "5 Windows      80 503.6479 65.55979 13.1088 16.8038 20.0335 24.5489 41.4059\n",
              "  se  \n",
              "1 5.10\n",
              "2 4.99\n",
              "3 5.82\n",
              "4 6.03\n",
              "5 7.33"
            ]
          },
          "metadata": {},
          "output_type": "display_data"
        },
        {
          "data": {
            "image/png": "[encoded data removed]",
            "text/plain": [
              "plot without title"
            ]
          },
          "metadata": {
            "image/png": {
              "height": 420,
              "width": 420
            }
          },
          "output_type": "display_data"
        }
      ],
      "source": [
        "## datos des-transformados\n",
        "\n",
        "Sum = Summarize(T_sqrt ~ OS, data=data, digits=4)\n",
        "\n",
        "Sum$mean = Sum$mean ^ 2\n",
        "Sum$sd = Sum$sd ^ 2\n",
        "\n",
        "Sum$se = Sum$sd / sqrt(Sum$n)\n",
        "Sum$se = signif(Sum$se, digits=3)\n",
        "Sum\n",
        "\n",
        "library(ggplot2)\n",
        "\n",
        "pd=position_dodge(.2)\n",
        "\n",
        "q = ggplot ( Sum , aes (x= OS , y=mean , color = OS ) ) +\n",
        "    geom_errorbar ( aes ( ymin = mean - se , ymax = mean + se) , width =.2 , size =0.7 , position = pd ) +\n",
        "    geom_point ( aes ( shape = OS ) , size =5 , position = pd ) + theme_bw () +\n",
        "    theme ( plot.title = element_text ( face =\"bold\", size =20 , hjust =0.5) ,\n",
        "            axis.title = element_text ( face =\"bold\", size =20) ,\n",
        "            axis.text = element_text ( face =\"bold\", size =15) ,\n",
        "            plot.caption = element_text ( hjust =0) ,\n",
        "            legend.text = element_text ( face =\"bold\", size =15) ,\n",
        "            legend.title = element_text ( face =\"bold\", size =20) ,\n",
        "            legend.justification = c(0 ,1) , legend.position =c (0.01 , 0.99) ) +\n",
        "  ylab (expression(\"Average rendering time after data de-transformation (seconds)\")) +\n",
        "  ggtitle(\"Time vs Operating System\")\n",
        "\n",
        "ggsave(plot=q, width=10, height=8, dpi=800, filename=\"principal.png\")\n",
        "q"
      ]
    },
    {
      "attachments": {},
      "cell_type": "markdown",
      "metadata": {
        "id": "OVUM4PraDZYG"
      },
      "source": [
        "## Interactions"
      ]
    },
    {
      "cell_type": "code",
      "execution_count": 23,
      "metadata": {
        "id": "XhOcfhsQDcZJ",
        "vscode": {
          "languageId": "r"
        }
      },
      "outputs": [
        {
          "data": {
            "text/html": [
              "<table class=\"dataframe\">\n",
              "<caption>A data.frame: 20 × 11</caption>\n",
              "<thead>\n",
              "\t<tr><th scope=col>OS</th><th scope=col>Configuration</th><th scope=col>n</th><th scope=col>mean</th><th scope=col>sd</th><th scope=col>min</th><th scope=col>Q1</th><th scope=col>median</th><th scope=col>Q3</th><th scope=col>max</th><th scope=col>se</th></tr>\n",
              "\t<tr><th scope=col>&lt;fct&gt;</th><th scope=col>&lt;fct&gt;</th><th scope=col>&lt;dbl&gt;</th><th scope=col>&lt;dbl&gt;</th><th scope=col>&lt;dbl&gt;</th><th scope=col>&lt;dbl&gt;</th><th scope=col>&lt;dbl&gt;</th><th scope=col>&lt;dbl&gt;</th><th scope=col>&lt;dbl&gt;</th><th scope=col>&lt;dbl&gt;</th><th scope=col>&lt;dbl&gt;</th></tr>\n",
              "</thead>\n",
              "<tbody>\n",
              "\t<tr><td>WSL         </td><td>bvh-halton   </td><td>20</td><td>17.876</td><td>6.147</td><td>11.734</td><td>13.476</td><td>16.031</td><td>20.427</td><td>28.242</td><td>1.37</td></tr>\n",
              "\t<tr><td>UbuntuVM    </td><td>bvh-halton   </td><td>20</td><td>18.051</td><td>6.096</td><td>12.115</td><td>13.513</td><td>16.240</td><td>20.869</td><td>28.246</td><td>1.36</td></tr>\n",
              "\t<tr><td>UbuntuNative</td><td>bvh-halton   </td><td>20</td><td>19.085</td><td>6.481</td><td>12.875</td><td>14.566</td><td>16.821</td><td>21.606</td><td>29.965</td><td>1.45</td></tr>\n",
              "\t<tr><td>BSD         </td><td>bvh-halton   </td><td>20</td><td>19.611</td><td>6.713</td><td>12.728</td><td>14.626</td><td>17.429</td><td>22.326</td><td>30.480</td><td>1.50</td></tr>\n",
              "\t<tr><td>Windows     </td><td>bvh-halton   </td><td>20</td><td>21.015</td><td>6.963</td><td>13.109</td><td>16.169</td><td>19.419</td><td>24.522</td><td>33.448</td><td>1.56</td></tr>\n",
              "\t<tr><td>WSL         </td><td>bvh-sobol    </td><td>20</td><td>17.579</td><td>6.140</td><td>11.987</td><td>13.315</td><td>15.435</td><td>19.811</td><td>28.153</td><td>1.37</td></tr>\n",
              "\t<tr><td>UbuntuVM    </td><td>bvh-sobol    </td><td>20</td><td>17.717</td><td>6.083</td><td>12.195</td><td>13.358</td><td>15.651</td><td>20.075</td><td>27.977</td><td>1.36</td></tr>\n",
              "\t<tr><td>UbuntuNative</td><td>bvh-sobol    </td><td>20</td><td>18.863</td><td>6.624</td><td>12.439</td><td>13.977</td><td>16.579</td><td>20.825</td><td>29.879</td><td>1.48</td></tr>\n",
              "\t<tr><td>BSD         </td><td>bvh-sobol    </td><td>20</td><td>19.547</td><td>6.713</td><td>12.845</td><td>15.419</td><td>17.309</td><td>21.838</td><td>30.643</td><td>1.50</td></tr>\n",
              "\t<tr><td>Windows     </td><td>bvh-sobol    </td><td>20</td><td>20.574</td><td>6.975</td><td>13.162</td><td>16.001</td><td>18.597</td><td>23.229</td><td>33.583</td><td>1.56</td></tr>\n",
              "\t<tr><td>WSL         </td><td>kdtree-halton</td><td>20</td><td>20.004</td><td>7.388</td><td>13.487</td><td>15.598</td><td>17.036</td><td>21.651</td><td>33.131</td><td>1.65</td></tr>\n",
              "\t<tr><td>UbuntuVM    </td><td>kdtree-halton</td><td>20</td><td>20.302</td><td>7.237</td><td>14.279</td><td>15.762</td><td>17.343</td><td>21.961</td><td>33.133</td><td>1.62</td></tr>\n",
              "\t<tr><td>UbuntuNative</td><td>kdtree-halton</td><td>20</td><td>21.363</td><td>7.674</td><td>14.349</td><td>16.846</td><td>18.039</td><td>22.837</td><td>35.116</td><td>1.72</td></tr>\n",
              "\t<tr><td>BSD         </td><td>kdtree-halton</td><td>20</td><td>21.911</td><td>7.987</td><td>14.595</td><td>17.441</td><td>18.624</td><td>23.440</td><td>35.833</td><td>1.79</td></tr>\n",
              "\t<tr><td>Windows     </td><td>kdtree-halton</td><td>20</td><td>24.333</td><td>8.981</td><td>15.852</td><td>18.973</td><td>20.968</td><td>26.379</td><td>41.406</td><td>2.01</td></tr>\n",
              "\t<tr><td>WSL         </td><td>kdtree-sobol </td><td>20</td><td>19.725</td><td>7.387</td><td>13.522</td><td>15.473</td><td>16.535</td><td>20.959</td><td>32.674</td><td>1.65</td></tr>\n",
              "\t<tr><td>UbuntuVM    </td><td>kdtree-sobol </td><td>20</td><td>20.011</td><td>7.318</td><td>14.210</td><td>15.564</td><td>16.778</td><td>21.196</td><td>32.905</td><td>1.64</td></tr>\n",
              "\t<tr><td>UbuntuNative</td><td>kdtree-sobol </td><td>20</td><td>21.181</td><td>8.136</td><td>14.384</td><td>16.156</td><td>17.574</td><td>22.542</td><td>34.967</td><td>1.82</td></tr>\n",
              "\t<tr><td>BSD         </td><td>kdtree-sobol </td><td>20</td><td>21.901</td><td>8.049</td><td>14.866</td><td>17.083</td><td>18.493</td><td>23.053</td><td>35.903</td><td>1.80</td></tr>\n",
              "\t<tr><td>Windows     </td><td>kdtree-sobol </td><td>20</td><td>23.846</td><td>9.118</td><td>15.783</td><td>18.950</td><td>20.084</td><td>25.076</td><td>40.984</td><td>2.04</td></tr>\n",
              "</tbody>\n",
              "</table>\n"
            ],
            "text/latex": [
              "A data.frame: 20 × 11\n",
              "\\begin{tabular}{lllllllllll}\n",
              " OS & Configuration & n & mean & sd & min & Q1 & median & Q3 & max & se\\\\\n",
              " <fct> & <fct> & <dbl> & <dbl> & <dbl> & <dbl> & <dbl> & <dbl> & <dbl> & <dbl> & <dbl>\\\\\n",
              "\\hline\n",
              "\t WSL          & bvh-halton    & 20 & 17.876 & 6.147 & 11.734 & 13.476 & 16.031 & 20.427 & 28.242 & 1.37\\\\\n",
              "\t UbuntuVM     & bvh-halton    & 20 & 18.051 & 6.096 & 12.115 & 13.513 & 16.240 & 20.869 & 28.246 & 1.36\\\\\n",
              "\t UbuntuNative & bvh-halton    & 20 & 19.085 & 6.481 & 12.875 & 14.566 & 16.821 & 21.606 & 29.965 & 1.45\\\\\n",
              "\t BSD          & bvh-halton    & 20 & 19.611 & 6.713 & 12.728 & 14.626 & 17.429 & 22.326 & 30.480 & 1.50\\\\\n",
              "\t Windows      & bvh-halton    & 20 & 21.015 & 6.963 & 13.109 & 16.169 & 19.419 & 24.522 & 33.448 & 1.56\\\\\n",
              "\t WSL          & bvh-sobol     & 20 & 17.579 & 6.140 & 11.987 & 13.315 & 15.435 & 19.811 & 28.153 & 1.37\\\\\n",
              "\t UbuntuVM     & bvh-sobol     & 20 & 17.717 & 6.083 & 12.195 & 13.358 & 15.651 & 20.075 & 27.977 & 1.36\\\\\n",
              "\t UbuntuNative & bvh-sobol     & 20 & 18.863 & 6.624 & 12.439 & 13.977 & 16.579 & 20.825 & 29.879 & 1.48\\\\\n",
              "\t BSD          & bvh-sobol     & 20 & 19.547 & 6.713 & 12.845 & 15.419 & 17.309 & 21.838 & 30.643 & 1.50\\\\\n",
              "\t Windows      & bvh-sobol     & 20 & 20.574 & 6.975 & 13.162 & 16.001 & 18.597 & 23.229 & 33.583 & 1.56\\\\\n",
              "\t WSL          & kdtree-halton & 20 & 20.004 & 7.388 & 13.487 & 15.598 & 17.036 & 21.651 & 33.131 & 1.65\\\\\n",
              "\t UbuntuVM     & kdtree-halton & 20 & 20.302 & 7.237 & 14.279 & 15.762 & 17.343 & 21.961 & 33.133 & 1.62\\\\\n",
              "\t UbuntuNative & kdtree-halton & 20 & 21.363 & 7.674 & 14.349 & 16.846 & 18.039 & 22.837 & 35.116 & 1.72\\\\\n",
              "\t BSD          & kdtree-halton & 20 & 21.911 & 7.987 & 14.595 & 17.441 & 18.624 & 23.440 & 35.833 & 1.79\\\\\n",
              "\t Windows      & kdtree-halton & 20 & 24.333 & 8.981 & 15.852 & 18.973 & 20.968 & 26.379 & 41.406 & 2.01\\\\\n",
              "\t WSL          & kdtree-sobol  & 20 & 19.725 & 7.387 & 13.522 & 15.473 & 16.535 & 20.959 & 32.674 & 1.65\\\\\n",
              "\t UbuntuVM     & kdtree-sobol  & 20 & 20.011 & 7.318 & 14.210 & 15.564 & 16.778 & 21.196 & 32.905 & 1.64\\\\\n",
              "\t UbuntuNative & kdtree-sobol  & 20 & 21.181 & 8.136 & 14.384 & 16.156 & 17.574 & 22.542 & 34.967 & 1.82\\\\\n",
              "\t BSD          & kdtree-sobol  & 20 & 21.901 & 8.049 & 14.866 & 17.083 & 18.493 & 23.053 & 35.903 & 1.80\\\\\n",
              "\t Windows      & kdtree-sobol  & 20 & 23.846 & 9.118 & 15.783 & 18.950 & 20.084 & 25.076 & 40.984 & 2.04\\\\\n",
              "\\end{tabular}\n"
            ],
            "text/markdown": [
              "\n",
              "A data.frame: 20 × 11\n",
              "\n",
              "| OS &lt;fct&gt; | Configuration &lt;fct&gt; | n &lt;dbl&gt; | mean &lt;dbl&gt; | sd &lt;dbl&gt; | min &lt;dbl&gt; | Q1 &lt;dbl&gt; | median &lt;dbl&gt; | Q3 &lt;dbl&gt; | max &lt;dbl&gt; | se &lt;dbl&gt; |\n",
              "|---|---|---|---|---|---|---|---|---|---|---|\n",
              "| WSL          | bvh-halton    | 20 | 17.876 | 6.147 | 11.734 | 13.476 | 16.031 | 20.427 | 28.242 | 1.37 |\n",
              "| UbuntuVM     | bvh-halton    | 20 | 18.051 | 6.096 | 12.115 | 13.513 | 16.240 | 20.869 | 28.246 | 1.36 |\n",
              "| UbuntuNative | bvh-halton    | 20 | 19.085 | 6.481 | 12.875 | 14.566 | 16.821 | 21.606 | 29.965 | 1.45 |\n",
              "| BSD          | bvh-halton    | 20 | 19.611 | 6.713 | 12.728 | 14.626 | 17.429 | 22.326 | 30.480 | 1.50 |\n",
              "| Windows      | bvh-halton    | 20 | 21.015 | 6.963 | 13.109 | 16.169 | 19.419 | 24.522 | 33.448 | 1.56 |\n",
              "| WSL          | bvh-sobol     | 20 | 17.579 | 6.140 | 11.987 | 13.315 | 15.435 | 19.811 | 28.153 | 1.37 |\n",
              "| UbuntuVM     | bvh-sobol     | 20 | 17.717 | 6.083 | 12.195 | 13.358 | 15.651 | 20.075 | 27.977 | 1.36 |\n",
              "| UbuntuNative | bvh-sobol     | 20 | 18.863 | 6.624 | 12.439 | 13.977 | 16.579 | 20.825 | 29.879 | 1.48 |\n",
              "| BSD          | bvh-sobol     | 20 | 19.547 | 6.713 | 12.845 | 15.419 | 17.309 | 21.838 | 30.643 | 1.50 |\n",
              "| Windows      | bvh-sobol     | 20 | 20.574 | 6.975 | 13.162 | 16.001 | 18.597 | 23.229 | 33.583 | 1.56 |\n",
              "| WSL          | kdtree-halton | 20 | 20.004 | 7.388 | 13.487 | 15.598 | 17.036 | 21.651 | 33.131 | 1.65 |\n",
              "| UbuntuVM     | kdtree-halton | 20 | 20.302 | 7.237 | 14.279 | 15.762 | 17.343 | 21.961 | 33.133 | 1.62 |\n",
              "| UbuntuNative | kdtree-halton | 20 | 21.363 | 7.674 | 14.349 | 16.846 | 18.039 | 22.837 | 35.116 | 1.72 |\n",
              "| BSD          | kdtree-halton | 20 | 21.911 | 7.987 | 14.595 | 17.441 | 18.624 | 23.440 | 35.833 | 1.79 |\n",
              "| Windows      | kdtree-halton | 20 | 24.333 | 8.981 | 15.852 | 18.973 | 20.968 | 26.379 | 41.406 | 2.01 |\n",
              "| WSL          | kdtree-sobol  | 20 | 19.725 | 7.387 | 13.522 | 15.473 | 16.535 | 20.959 | 32.674 | 1.65 |\n",
              "| UbuntuVM     | kdtree-sobol  | 20 | 20.011 | 7.318 | 14.210 | 15.564 | 16.778 | 21.196 | 32.905 | 1.64 |\n",
              "| UbuntuNative | kdtree-sobol  | 20 | 21.181 | 8.136 | 14.384 | 16.156 | 17.574 | 22.542 | 34.967 | 1.82 |\n",
              "| BSD          | kdtree-sobol  | 20 | 21.901 | 8.049 | 14.866 | 17.083 | 18.493 | 23.053 | 35.903 | 1.80 |\n",
              "| Windows      | kdtree-sobol  | 20 | 23.846 | 9.118 | 15.783 | 18.950 | 20.084 | 25.076 | 40.984 | 2.04 |\n",
              "\n"
            ],
            "text/plain": [
              "   OS           Configuration n  mean   sd    min    Q1     median Q3    \n",
              "1  WSL          bvh-halton    20 17.876 6.147 11.734 13.476 16.031 20.427\n",
              "2  UbuntuVM     bvh-halton    20 18.051 6.096 12.115 13.513 16.240 20.869\n",
              "3  UbuntuNative bvh-halton    20 19.085 6.481 12.875 14.566 16.821 21.606\n",
              "4  BSD          bvh-halton    20 19.611 6.713 12.728 14.626 17.429 22.326\n",
              "5  Windows      bvh-halton    20 21.015 6.963 13.109 16.169 19.419 24.522\n",
              "6  WSL          bvh-sobol     20 17.579 6.140 11.987 13.315 15.435 19.811\n",
              "7  UbuntuVM     bvh-sobol     20 17.717 6.083 12.195 13.358 15.651 20.075\n",
              "8  UbuntuNative bvh-sobol     20 18.863 6.624 12.439 13.977 16.579 20.825\n",
              "9  BSD          bvh-sobol     20 19.547 6.713 12.845 15.419 17.309 21.838\n",
              "10 Windows      bvh-sobol     20 20.574 6.975 13.162 16.001 18.597 23.229\n",
              "11 WSL          kdtree-halton 20 20.004 7.388 13.487 15.598 17.036 21.651\n",
              "12 UbuntuVM     kdtree-halton 20 20.302 7.237 14.279 15.762 17.343 21.961\n",
              "13 UbuntuNative kdtree-halton 20 21.363 7.674 14.349 16.846 18.039 22.837\n",
              "14 BSD          kdtree-halton 20 21.911 7.987 14.595 17.441 18.624 23.440\n",
              "15 Windows      kdtree-halton 20 24.333 8.981 15.852 18.973 20.968 26.379\n",
              "16 WSL          kdtree-sobol  20 19.725 7.387 13.522 15.473 16.535 20.959\n",
              "17 UbuntuVM     kdtree-sobol  20 20.011 7.318 14.210 15.564 16.778 21.196\n",
              "18 UbuntuNative kdtree-sobol  20 21.181 8.136 14.384 16.156 17.574 22.542\n",
              "19 BSD          kdtree-sobol  20 21.901 8.049 14.866 17.083 18.493 23.053\n",
              "20 Windows      kdtree-sobol  20 23.846 9.118 15.783 18.950 20.084 25.076\n",
              "   max    se  \n",
              "1  28.242 1.37\n",
              "2  28.246 1.36\n",
              "3  29.965 1.45\n",
              "4  30.480 1.50\n",
              "5  33.448 1.56\n",
              "6  28.153 1.37\n",
              "7  27.977 1.36\n",
              "8  29.879 1.48\n",
              "9  30.643 1.50\n",
              "10 33.583 1.56\n",
              "11 33.131 1.65\n",
              "12 33.133 1.62\n",
              "13 35.116 1.72\n",
              "14 35.833 1.79\n",
              "15 41.406 2.01\n",
              "16 32.674 1.65\n",
              "17 32.905 1.64\n",
              "18 34.967 1.82\n",
              "19 35.903 1.80\n",
              "20 40.984 2.04"
            ]
          },
          "metadata": {},
          "output_type": "display_data"
        },
        {
          "data": {
            "image/png": "[encoded data removed]",
            "text/plain": [
              "plot without title"
            ]
          },
          "metadata": {
            "image/png": {
              "height": 420,
              "width": 420
            }
          },
          "output_type": "display_data"
        }
      ],
      "source": [
        "Sum = Summarize (T_sqrt ~ OS + Configuration , data = data , digits =3)\n",
        "Sum$se = Sum$sd / sqrt ( Sum$n)\n",
        "Sum$se = signif ( Sum$se , digits =3)\n",
        "Sum\n",
        "\n",
        "pd = position_dodge (.2)\n",
        "ggplot ( Sum , aes (x= Configuration ,y=mean , color = OS ) ) + geom_errorbar( aes ( ymin =  mean - se , ymax = mean + se), width = 0.2 , size =0.7 , position = pd )+\n",
        "   geom_point ( aes ( shape = OS ) , size =5 , position = pd )+ theme_bw () +\n",
        "   theme ( plot.title = element_text ( face =\"bold\", size =20 , hjust =0.5) ,\n",
        "             axis.title = element_text ( face =\"bold\", size =20) ,\n",
        "             axis.text = element_text ( face =\"bold\", size =15) ,\n",
        "             plot.caption = element_text ( hjust =0) ,\n",
        "             legend.text = element_text ( face =\"bold\", size =15) ,\n",
        "             legend.title = element_text ( face =\"bold\", size =20) ,\n",
        "             legend.justification = c(0 ,1) ,\n",
        "             legend.position =c (0.01 , 0.99) ) + xlab (\" Configuration \") +\n",
        "ylab (expression(\"Average rendering time after data transformation (square root)\")) +\n",
        "ggtitle (\"Time vs Configuration \\n w.r.t. Operating System \")\n"
      ]
    },
    {
      "cell_type": "code",
      "execution_count": 24,
      "metadata": {
        "id": "WNUIxUbWENVA",
        "vscode": {
          "languageId": "r"
        }
      },
      "outputs": [
        {
          "data": {
            "text/html": [
              "<table class=\"dataframe\">\n",
              "<caption>A data.frame: 20 × 11</caption>\n",
              "<thead>\n",
              "\t<tr><th scope=col>OS</th><th scope=col>Configuration</th><th scope=col>n</th><th scope=col>mean</th><th scope=col>sd</th><th scope=col>min</th><th scope=col>Q1</th><th scope=col>median</th><th scope=col>Q3</th><th scope=col>max</th><th scope=col>se</th></tr>\n",
              "\t<tr><th scope=col>&lt;fct&gt;</th><th scope=col>&lt;fct&gt;</th><th scope=col>&lt;dbl&gt;</th><th scope=col>&lt;dbl&gt;</th><th scope=col>&lt;dbl&gt;</th><th scope=col>&lt;dbl&gt;</th><th scope=col>&lt;dbl&gt;</th><th scope=col>&lt;dbl&gt;</th><th scope=col>&lt;dbl&gt;</th><th scope=col>&lt;dbl&gt;</th><th scope=col>&lt;dbl&gt;</th></tr>\n",
              "</thead>\n",
              "<tbody>\n",
              "\t<tr><td>WSL         </td><td>bvh-halton   </td><td>20</td><td>319.5514</td><td>37.78561</td><td>11.734</td><td>13.476</td><td>16.031</td><td>20.427</td><td>28.242</td><td> 8.45</td></tr>\n",
              "\t<tr><td>UbuntuVM    </td><td>bvh-halton   </td><td>20</td><td>325.8386</td><td>37.16122</td><td>12.115</td><td>13.513</td><td>16.240</td><td>20.869</td><td>28.246</td><td> 8.31</td></tr>\n",
              "\t<tr><td>UbuntuNative</td><td>bvh-halton   </td><td>20</td><td>364.2372</td><td>42.00336</td><td>12.875</td><td>14.566</td><td>16.821</td><td>21.606</td><td>29.965</td><td> 9.39</td></tr>\n",
              "\t<tr><td>BSD         </td><td>bvh-halton   </td><td>20</td><td>384.5913</td><td>45.06437</td><td>12.728</td><td>14.626</td><td>17.429</td><td>22.326</td><td>30.480</td><td>10.10</td></tr>\n",
              "\t<tr><td>Windows     </td><td>bvh-halton   </td><td>20</td><td>441.6302</td><td>48.48337</td><td>13.109</td><td>16.169</td><td>19.419</td><td>24.522</td><td>33.448</td><td>10.80</td></tr>\n",
              "\t<tr><td>WSL         </td><td>bvh-sobol    </td><td>20</td><td>309.0212</td><td>37.69960</td><td>11.987</td><td>13.315</td><td>15.435</td><td>19.811</td><td>28.153</td><td> 8.43</td></tr>\n",
              "\t<tr><td>UbuntuVM    </td><td>bvh-sobol    </td><td>20</td><td>313.8921</td><td>37.00289</td><td>12.195</td><td>13.358</td><td>15.651</td><td>20.075</td><td>27.977</td><td> 8.27</td></tr>\n",
              "\t<tr><td>UbuntuNative</td><td>bvh-sobol    </td><td>20</td><td>355.8128</td><td>43.87738</td><td>12.439</td><td>13.977</td><td>16.579</td><td>20.825</td><td>29.879</td><td> 9.81</td></tr>\n",
              "\t<tr><td>BSD         </td><td>bvh-sobol    </td><td>20</td><td>382.0852</td><td>45.06437</td><td>12.845</td><td>15.419</td><td>17.309</td><td>21.838</td><td>30.643</td><td>10.10</td></tr>\n",
              "\t<tr><td>Windows     </td><td>bvh-sobol    </td><td>20</td><td>423.2895</td><td>48.65062</td><td>13.162</td><td>16.001</td><td>18.597</td><td>23.229</td><td>33.583</td><td>10.90</td></tr>\n",
              "\t<tr><td>WSL         </td><td>kdtree-halton</td><td>20</td><td>400.1600</td><td>54.58254</td><td>13.487</td><td>15.598</td><td>17.036</td><td>21.651</td><td>33.131</td><td>12.20</td></tr>\n",
              "\t<tr><td>UbuntuVM    </td><td>kdtree-halton</td><td>20</td><td>412.1712</td><td>52.37417</td><td>14.279</td><td>15.762</td><td>17.343</td><td>21.961</td><td>33.133</td><td>11.70</td></tr>\n",
              "\t<tr><td>UbuntuNative</td><td>kdtree-halton</td><td>20</td><td>456.3778</td><td>58.89028</td><td>14.349</td><td>16.846</td><td>18.039</td><td>22.837</td><td>35.116</td><td>13.20</td></tr>\n",
              "\t<tr><td>BSD         </td><td>kdtree-halton</td><td>20</td><td>480.0919</td><td>63.79217</td><td>14.595</td><td>17.441</td><td>18.624</td><td>23.440</td><td>35.833</td><td>14.30</td></tr>\n",
              "\t<tr><td>Windows     </td><td>kdtree-halton</td><td>20</td><td>592.0949</td><td>80.65836</td><td>15.852</td><td>18.973</td><td>20.968</td><td>26.379</td><td>41.406</td><td>18.00</td></tr>\n",
              "\t<tr><td>WSL         </td><td>kdtree-sobol </td><td>20</td><td>389.0756</td><td>54.56777</td><td>13.522</td><td>15.473</td><td>16.535</td><td>20.959</td><td>32.674</td><td>12.20</td></tr>\n",
              "\t<tr><td>UbuntuVM    </td><td>kdtree-sobol </td><td>20</td><td>400.4401</td><td>53.55312</td><td>14.210</td><td>15.564</td><td>16.778</td><td>21.196</td><td>32.905</td><td>12.00</td></tr>\n",
              "\t<tr><td>UbuntuNative</td><td>kdtree-sobol </td><td>20</td><td>448.6348</td><td>66.19450</td><td>14.384</td><td>16.156</td><td>17.574</td><td>22.542</td><td>34.967</td><td>14.80</td></tr>\n",
              "\t<tr><td>BSD         </td><td>kdtree-sobol </td><td>20</td><td>479.6538</td><td>64.78640</td><td>14.866</td><td>17.083</td><td>18.493</td><td>23.053</td><td>35.903</td><td>14.50</td></tr>\n",
              "\t<tr><td>Windows     </td><td>kdtree-sobol </td><td>20</td><td>568.6317</td><td>83.13792</td><td>15.783</td><td>18.950</td><td>20.084</td><td>25.076</td><td>40.984</td><td>18.60</td></tr>\n",
              "</tbody>\n",
              "</table>\n"
            ],
            "text/latex": [
              "A data.frame: 20 × 11\n",
              "\\begin{tabular}{lllllllllll}\n",
              " OS & Configuration & n & mean & sd & min & Q1 & median & Q3 & max & se\\\\\n",
              " <fct> & <fct> & <dbl> & <dbl> & <dbl> & <dbl> & <dbl> & <dbl> & <dbl> & <dbl> & <dbl>\\\\\n",
              "\\hline\n",
              "\t WSL          & bvh-halton    & 20 & 319.5514 & 37.78561 & 11.734 & 13.476 & 16.031 & 20.427 & 28.242 &  8.45\\\\\n",
              "\t UbuntuVM     & bvh-halton    & 20 & 325.8386 & 37.16122 & 12.115 & 13.513 & 16.240 & 20.869 & 28.246 &  8.31\\\\\n",
              "\t UbuntuNative & bvh-halton    & 20 & 364.2372 & 42.00336 & 12.875 & 14.566 & 16.821 & 21.606 & 29.965 &  9.39\\\\\n",
              "\t BSD          & bvh-halton    & 20 & 384.5913 & 45.06437 & 12.728 & 14.626 & 17.429 & 22.326 & 30.480 & 10.10\\\\\n",
              "\t Windows      & bvh-halton    & 20 & 441.6302 & 48.48337 & 13.109 & 16.169 & 19.419 & 24.522 & 33.448 & 10.80\\\\\n",
              "\t WSL          & bvh-sobol     & 20 & 309.0212 & 37.69960 & 11.987 & 13.315 & 15.435 & 19.811 & 28.153 &  8.43\\\\\n",
              "\t UbuntuVM     & bvh-sobol     & 20 & 313.8921 & 37.00289 & 12.195 & 13.358 & 15.651 & 20.075 & 27.977 &  8.27\\\\\n",
              "\t UbuntuNative & bvh-sobol     & 20 & 355.8128 & 43.87738 & 12.439 & 13.977 & 16.579 & 20.825 & 29.879 &  9.81\\\\\n",
              "\t BSD          & bvh-sobol     & 20 & 382.0852 & 45.06437 & 12.845 & 15.419 & 17.309 & 21.838 & 30.643 & 10.10\\\\\n",
              "\t Windows      & bvh-sobol     & 20 & 423.2895 & 48.65062 & 13.162 & 16.001 & 18.597 & 23.229 & 33.583 & 10.90\\\\\n",
              "\t WSL          & kdtree-halton & 20 & 400.1600 & 54.58254 & 13.487 & 15.598 & 17.036 & 21.651 & 33.131 & 12.20\\\\\n",
              "\t UbuntuVM     & kdtree-halton & 20 & 412.1712 & 52.37417 & 14.279 & 15.762 & 17.343 & 21.961 & 33.133 & 11.70\\\\\n",
              "\t UbuntuNative & kdtree-halton & 20 & 456.3778 & 58.89028 & 14.349 & 16.846 & 18.039 & 22.837 & 35.116 & 13.20\\\\\n",
              "\t BSD          & kdtree-halton & 20 & 480.0919 & 63.79217 & 14.595 & 17.441 & 18.624 & 23.440 & 35.833 & 14.30\\\\\n",
              "\t Windows      & kdtree-halton & 20 & 592.0949 & 80.65836 & 15.852 & 18.973 & 20.968 & 26.379 & 41.406 & 18.00\\\\\n",
              "\t WSL          & kdtree-sobol  & 20 & 389.0756 & 54.56777 & 13.522 & 15.473 & 16.535 & 20.959 & 32.674 & 12.20\\\\\n",
              "\t UbuntuVM     & kdtree-sobol  & 20 & 400.4401 & 53.55312 & 14.210 & 15.564 & 16.778 & 21.196 & 32.905 & 12.00\\\\\n",
              "\t UbuntuNative & kdtree-sobol  & 20 & 448.6348 & 66.19450 & 14.384 & 16.156 & 17.574 & 22.542 & 34.967 & 14.80\\\\\n",
              "\t BSD          & kdtree-sobol  & 20 & 479.6538 & 64.78640 & 14.866 & 17.083 & 18.493 & 23.053 & 35.903 & 14.50\\\\\n",
              "\t Windows      & kdtree-sobol  & 20 & 568.6317 & 83.13792 & 15.783 & 18.950 & 20.084 & 25.076 & 40.984 & 18.60\\\\\n",
              "\\end{tabular}\n"
            ],
            "text/markdown": [
              "\n",
              "A data.frame: 20 × 11\n",
              "\n",
              "| OS &lt;fct&gt; | Configuration &lt;fct&gt; | n &lt;dbl&gt; | mean &lt;dbl&gt; | sd &lt;dbl&gt; | min &lt;dbl&gt; | Q1 &lt;dbl&gt; | median &lt;dbl&gt; | Q3 &lt;dbl&gt; | max &lt;dbl&gt; | se &lt;dbl&gt; |\n",
              "|---|---|---|---|---|---|---|---|---|---|---|\n",
              "| WSL          | bvh-halton    | 20 | 319.5514 | 37.78561 | 11.734 | 13.476 | 16.031 | 20.427 | 28.242 |  8.45 |\n",
              "| UbuntuVM     | bvh-halton    | 20 | 325.8386 | 37.16122 | 12.115 | 13.513 | 16.240 | 20.869 | 28.246 |  8.31 |\n",
              "| UbuntuNative | bvh-halton    | 20 | 364.2372 | 42.00336 | 12.875 | 14.566 | 16.821 | 21.606 | 29.965 |  9.39 |\n",
              "| BSD          | bvh-halton    | 20 | 384.5913 | 45.06437 | 12.728 | 14.626 | 17.429 | 22.326 | 30.480 | 10.10 |\n",
              "| Windows      | bvh-halton    | 20 | 441.6302 | 48.48337 | 13.109 | 16.169 | 19.419 | 24.522 | 33.448 | 10.80 |\n",
              "| WSL          | bvh-sobol     | 20 | 309.0212 | 37.69960 | 11.987 | 13.315 | 15.435 | 19.811 | 28.153 |  8.43 |\n",
              "| UbuntuVM     | bvh-sobol     | 20 | 313.8921 | 37.00289 | 12.195 | 13.358 | 15.651 | 20.075 | 27.977 |  8.27 |\n",
              "| UbuntuNative | bvh-sobol     | 20 | 355.8128 | 43.87738 | 12.439 | 13.977 | 16.579 | 20.825 | 29.879 |  9.81 |\n",
              "| BSD          | bvh-sobol     | 20 | 382.0852 | 45.06437 | 12.845 | 15.419 | 17.309 | 21.838 | 30.643 | 10.10 |\n",
              "| Windows      | bvh-sobol     | 20 | 423.2895 | 48.65062 | 13.162 | 16.001 | 18.597 | 23.229 | 33.583 | 10.90 |\n",
              "| WSL          | kdtree-halton | 20 | 400.1600 | 54.58254 | 13.487 | 15.598 | 17.036 | 21.651 | 33.131 | 12.20 |\n",
              "| UbuntuVM     | kdtree-halton | 20 | 412.1712 | 52.37417 | 14.279 | 15.762 | 17.343 | 21.961 | 33.133 | 11.70 |\n",
              "| UbuntuNative | kdtree-halton | 20 | 456.3778 | 58.89028 | 14.349 | 16.846 | 18.039 | 22.837 | 35.116 | 13.20 |\n",
              "| BSD          | kdtree-halton | 20 | 480.0919 | 63.79217 | 14.595 | 17.441 | 18.624 | 23.440 | 35.833 | 14.30 |\n",
              "| Windows      | kdtree-halton | 20 | 592.0949 | 80.65836 | 15.852 | 18.973 | 20.968 | 26.379 | 41.406 | 18.00 |\n",
              "| WSL          | kdtree-sobol  | 20 | 389.0756 | 54.56777 | 13.522 | 15.473 | 16.535 | 20.959 | 32.674 | 12.20 |\n",
              "| UbuntuVM     | kdtree-sobol  | 20 | 400.4401 | 53.55312 | 14.210 | 15.564 | 16.778 | 21.196 | 32.905 | 12.00 |\n",
              "| UbuntuNative | kdtree-sobol  | 20 | 448.6348 | 66.19450 | 14.384 | 16.156 | 17.574 | 22.542 | 34.967 | 14.80 |\n",
              "| BSD          | kdtree-sobol  | 20 | 479.6538 | 64.78640 | 14.866 | 17.083 | 18.493 | 23.053 | 35.903 | 14.50 |\n",
              "| Windows      | kdtree-sobol  | 20 | 568.6317 | 83.13792 | 15.783 | 18.950 | 20.084 | 25.076 | 40.984 | 18.60 |\n",
              "\n"
            ],
            "text/plain": [
              "   OS           Configuration n  mean     sd       min    Q1     median Q3    \n",
              "1  WSL          bvh-halton    20 319.5514 37.78561 11.734 13.476 16.031 20.427\n",
              "2  UbuntuVM     bvh-halton    20 325.8386 37.16122 12.115 13.513 16.240 20.869\n",
              "3  UbuntuNative bvh-halton    20 364.2372 42.00336 12.875 14.566 16.821 21.606\n",
              "4  BSD          bvh-halton    20 384.5913 45.06437 12.728 14.626 17.429 22.326\n",
              "5  Windows      bvh-halton    20 441.6302 48.48337 13.109 16.169 19.419 24.522\n",
              "6  WSL          bvh-sobol     20 309.0212 37.69960 11.987 13.315 15.435 19.811\n",
              "7  UbuntuVM     bvh-sobol     20 313.8921 37.00289 12.195 13.358 15.651 20.075\n",
              "8  UbuntuNative bvh-sobol     20 355.8128 43.87738 12.439 13.977 16.579 20.825\n",
              "9  BSD          bvh-sobol     20 382.0852 45.06437 12.845 15.419 17.309 21.838\n",
              "10 Windows      bvh-sobol     20 423.2895 48.65062 13.162 16.001 18.597 23.229\n",
              "11 WSL          kdtree-halton 20 400.1600 54.58254 13.487 15.598 17.036 21.651\n",
              "12 UbuntuVM     kdtree-halton 20 412.1712 52.37417 14.279 15.762 17.343 21.961\n",
              "13 UbuntuNative kdtree-halton 20 456.3778 58.89028 14.349 16.846 18.039 22.837\n",
              "14 BSD          kdtree-halton 20 480.0919 63.79217 14.595 17.441 18.624 23.440\n",
              "15 Windows      kdtree-halton 20 592.0949 80.65836 15.852 18.973 20.968 26.379\n",
              "16 WSL          kdtree-sobol  20 389.0756 54.56777 13.522 15.473 16.535 20.959\n",
              "17 UbuntuVM     kdtree-sobol  20 400.4401 53.55312 14.210 15.564 16.778 21.196\n",
              "18 UbuntuNative kdtree-sobol  20 448.6348 66.19450 14.384 16.156 17.574 22.542\n",
              "19 BSD          kdtree-sobol  20 479.6538 64.78640 14.866 17.083 18.493 23.053\n",
              "20 Windows      kdtree-sobol  20 568.6317 83.13792 15.783 18.950 20.084 25.076\n",
              "   max    se   \n",
              "1  28.242  8.45\n",
              "2  28.246  8.31\n",
              "3  29.965  9.39\n",
              "4  30.480 10.10\n",
              "5  33.448 10.80\n",
              "6  28.153  8.43\n",
              "7  27.977  8.27\n",
              "8  29.879  9.81\n",
              "9  30.643 10.10\n",
              "10 33.583 10.90\n",
              "11 33.131 12.20\n",
              "12 33.133 11.70\n",
              "13 35.116 13.20\n",
              "14 35.833 14.30\n",
              "15 41.406 18.00\n",
              "16 32.674 12.20\n",
              "17 32.905 12.00\n",
              "18 34.967 14.80\n",
              "19 35.903 14.50\n",
              "20 40.984 18.60"
            ]
          },
          "metadata": {},
          "output_type": "display_data"
        },
        {
          "data": {
            "image/png": "[encoded data removed]",
            "text/plain": [
              "plot without title"
            ]
          },
          "metadata": {
            "image/png": {
              "height": 420,
              "width": 420
            }
          },
          "output_type": "display_data"
        }
      ],
      "source": [
        "## datos des-transformados\n",
        "\n",
        "Sum = Summarize (T_sqrt ~ OS + Configuration , data = data , digits =3)\n",
        "\n",
        "Sum$mean = Sum$mean ^ 2\n",
        "Sum$sd = Sum$sd ^ 2\n",
        "\n",
        "Sum$se = Sum$sd / sqrt(Sum$n)\n",
        "Sum$se = signif(Sum$se, digits=3)\n",
        "Sum\n",
        "\n",
        "pd = position_dodge (.2)\n",
        "ggplot ( Sum , aes (x= Configuration ,y=mean , color = OS ) ) + geom_errorbar( aes ( ymin =  mean - se , ymax = mean + se), width = 0.2 , size =0.7 , position = pd )+\n",
        "   geom_point ( aes ( shape = OS ) , size =5 , position = pd )+ theme_bw () +\n",
        "   theme ( plot.title = element_text ( face =\"bold\", size =20 , hjust =0.5) ,\n",
        "             axis.title = element_text ( face =\"bold\", size =20) ,\n",
        "             axis.text = element_text ( face =\"bold\", size =15) ,\n",
        "             plot.caption = element_text ( hjust =0) ,\n",
        "             legend.text = element_text ( face =\"bold\", size =15) ,\n",
        "             legend.title = element_text ( face =\"bold\", size =20) ,\n",
        "             legend.justification = c(0 ,1) ,\n",
        "             legend.position =c (0.01 , 0.99) ) + xlab (\" Configuration \") +\n",
        "ylab (expression(\"Average rendering time after data de-transformation (Seconds)\")) +\n",
        "ggtitle (\"Time vs Configuration \\n w.r.t. Operating System \")"
      ]
    },
    {
      "attachments": {},
      "cell_type": "markdown",
      "metadata": {
        "id": "mGMxk3krEmeE"
      },
      "source": [
        "## T Tests"
      ]
    },
    {
      "cell_type": "code",
      "execution_count": 25,
      "metadata": {
        "id": "iS9GXqDJEpj4",
        "vscode": {
          "languageId": "r"
        }
      },
      "outputs": [
        {
          "data": {
            "text/plain": [
              "\n",
              "\tPairwise comparisons using t tests with pooled SD \n",
              "\n",
              "data:  T_sqrt and data$OS \n",
              "\n",
              "             WSL   UbuntuVM UbuntuNative BSD  \n",
              "UbuntuVM     0.845 -        -            -    \n",
              "UbuntuNative 0.353 0.420    -            -    \n",
              "BSD          0.224 0.230    0.654        -    \n",
              "Windows      0.015 0.015    0.144        0.230\n",
              "\n",
              "P value adjustment method: BH "
            ]
          },
          "metadata": {},
          "output_type": "display_data"
        }
      ],
      "source": [
        "output <- pairwise.t.test (T_sqrt, data$OS , p.adjust.method = \"BH\")\n",
        "write.csv(output[3], file=\"pairwise_t_test_os.csv\")\n",
        "output"
      ]
    },
    {
      "cell_type": "code",
      "execution_count": 26,
      "metadata": {
        "id": "2t7oTlcvE0Fh",
        "vscode": {
          "languageId": "r"
        }
      },
      "outputs": [
        {
          "data": {
            "text/html": [
              "'list'"
            ],
            "text/latex": [
              "'list'"
            ],
            "text/markdown": [
              "'list'"
            ],
            "text/plain": [
              "[1] \"list\""
            ]
          },
          "metadata": {},
          "output_type": "display_data"
        },
        {
          "data": {
            "text/html": [
              "<strong>$p.value</strong> = <table class=\"dataframe\">\n",
              "<caption>A matrix: 19 × 19 of type dbl</caption>\n",
              "<thead>\n",
              "\t<tr><th></th><th scope=col>WSL:bvh-halton</th><th scope=col>WSL:bvh-sobol</th><th scope=col>WSL:kdtree-halton</th><th scope=col>WSL:kdtree-sobol</th><th scope=col>UbuntuVM:bvh-halton</th><th scope=col>UbuntuVM:bvh-sobol</th><th scope=col>UbuntuVM:kdtree-halton</th><th scope=col>UbuntuVM:kdtree-sobol</th><th scope=col>UbuntuNative:bvh-halton</th><th scope=col>UbuntuNative:bvh-sobol</th><th scope=col>UbuntuNative:kdtree-halton</th><th scope=col>UbuntuNative:kdtree-sobol</th><th scope=col>BSD:bvh-halton</th><th scope=col>BSD:bvh-sobol</th><th scope=col>BSD:kdtree-halton</th><th scope=col>BSD:kdtree-sobol</th><th scope=col>Windows:bvh-halton</th><th scope=col>Windows:bvh-sobol</th><th scope=col>Windows:kdtree-halton</th></tr>\n",
              "</thead>\n",
              "<tbody>\n",
              "\t<tr><th scope=row>WSL:bvh-sobol</th><td>0.9615274</td><td>       NA</td><td>       NA</td><td>       NA</td><td>       NA</td><td>       NA</td><td>       NA</td><td>       NA</td><td>       NA</td><td>       NA</td><td>       NA</td><td>       NA</td><td>       NA</td><td>       NA</td><td>       NA</td><td>       NA</td><td>       NA</td><td>       NA</td><td>       NA</td></tr>\n",
              "\t<tr><th scope=row>WSL:kdtree-halton</th><td>0.8055545</td><td>0.8048228</td><td>       NA</td><td>       NA</td><td>       NA</td><td>       NA</td><td>       NA</td><td>       NA</td><td>       NA</td><td>       NA</td><td>       NA</td><td>       NA</td><td>       NA</td><td>       NA</td><td>       NA</td><td>       NA</td><td>       NA</td><td>       NA</td><td>       NA</td></tr>\n",
              "\t<tr><th scope=row>WSL:kdtree-sobol</th><td>0.8165476</td><td>0.8055545</td><td>0.9615274</td><td>       NA</td><td>       NA</td><td>       NA</td><td>       NA</td><td>       NA</td><td>       NA</td><td>       NA</td><td>       NA</td><td>       NA</td><td>       NA</td><td>       NA</td><td>       NA</td><td>       NA</td><td>       NA</td><td>       NA</td><td>       NA</td></tr>\n",
              "\t<tr><th scope=row>UbuntuVM:bvh-halton</th><td>0.9706519</td><td>0.9526742</td><td>0.8055545</td><td>0.8455029</td><td>       NA</td><td>       NA</td><td>       NA</td><td>       NA</td><td>       NA</td><td>       NA</td><td>       NA</td><td>       NA</td><td>       NA</td><td>       NA</td><td>       NA</td><td>       NA</td><td>       NA</td><td>       NA</td><td>       NA</td></tr>\n",
              "\t<tr><th scope=row>UbuntuVM:bvh-sobol</th><td>0.9706519</td><td>0.9725686</td><td>0.8048228</td><td>0.8055545</td><td>0.9615274</td><td>       NA</td><td>       NA</td><td>       NA</td><td>       NA</td><td>       NA</td><td>       NA</td><td>       NA</td><td>       NA</td><td>       NA</td><td>       NA</td><td>       NA</td><td>       NA</td><td>       NA</td><td>       NA</td></tr>\n",
              "\t<tr><th scope=row>UbuntuVM:kdtree-halton</th><td>0.8048228</td><td>0.7887256</td><td>0.9615274</td><td>0.9526742</td><td>0.8055545</td><td>0.8048228</td><td>       NA</td><td>       NA</td><td>       NA</td><td>       NA</td><td>       NA</td><td>       NA</td><td>       NA</td><td>       NA</td><td>       NA</td><td>       NA</td><td>       NA</td><td>       NA</td><td>       NA</td></tr>\n",
              "\t<tr><th scope=row>UbuntuVM:kdtree-sobol</th><td>0.8055545</td><td>0.8048228</td><td>0.9975545</td><td>0.9615274</td><td>0.8055545</td><td>0.8048228</td><td>0.9615274</td><td>       NA</td><td>       NA</td><td>       NA</td><td>       NA</td><td>       NA</td><td>       NA</td><td>       NA</td><td>       NA</td><td>       NA</td><td>       NA</td><td>       NA</td><td>       NA</td></tr>\n",
              "\t<tr><th scope=row>UbuntuNative:bvh-halton</th><td>0.8915935</td><td>0.8619243</td><td>0.9262794</td><td>0.9508657</td><td>0.9185547</td><td>0.8709546</td><td>0.8915935</td><td>0.9262794</td><td>       NA</td><td>       NA</td><td>       NA</td><td>       NA</td><td>       NA</td><td>       NA</td><td>       NA</td><td>       NA</td><td>       NA</td><td>       NA</td><td>       NA</td></tr>\n",
              "\t<tr><th scope=row>UbuntuNative:bvh-sobol</th><td>0.9193189</td><td>0.8766460</td><td>0.8915935</td><td>0.9262794</td><td>0.9358772</td><td>0.8915935</td><td>0.8626617</td><td>0.8915935</td><td>0.9706519</td><td>       NA</td><td>       NA</td><td>       NA</td><td>       NA</td><td>       NA</td><td>       NA</td><td>       NA</td><td>       NA</td><td>       NA</td><td>       NA</td></tr>\n",
              "\t<tr><th scope=row>UbuntuNative:kdtree-halton</th><td>0.6602738</td><td>0.5904399</td><td>0.8709546</td><td>0.8475087</td><td>0.6702260</td><td>0.6333577</td><td>0.9185547</td><td>0.8709546</td><td>0.8048228</td><td>0.8048228</td><td>       NA</td><td>       NA</td><td>       NA</td><td>       NA</td><td>       NA</td><td>       NA</td><td>       NA</td><td>       NA</td><td>       NA</td></tr>\n",
              "\t<tr><th scope=row>UbuntuNative:kdtree-sobol</th><td>0.6702260</td><td>0.6389014</td><td>0.8915935</td><td>0.8621521</td><td>0.7024830</td><td>0.6602738</td><td>0.9262794</td><td>0.8915935</td><td>0.8055545</td><td>0.8048228</td><td>0.9706519</td><td>       NA</td><td>       NA</td><td>       NA</td><td>       NA</td><td>       NA</td><td>       NA</td><td>       NA</td><td>       NA</td></tr>\n",
              "\t<tr><th scope=row>BSD:bvh-halton</th><td>0.8391514</td><td>0.8055545</td><td>0.9600699</td><td>0.9759128</td><td>0.8516242</td><td>0.8055545</td><td>0.9387380</td><td>0.9600699</td><td>0.9526742</td><td>0.9387380</td><td>0.8391514</td><td>0.8516242</td><td>       NA</td><td>       NA</td><td>       NA</td><td>       NA</td><td>       NA</td><td>       NA</td><td>       NA</td></tr>\n",
              "\t<tr><th scope=row>BSD:bvh-sobol</th><td>0.8455029</td><td>0.8055545</td><td>0.9526742</td><td>0.9706519</td><td>0.8619243</td><td>0.8165476</td><td>0.9387380</td><td>0.9526742</td><td>0.9526742</td><td>0.9387380</td><td>0.8165476</td><td>0.8475087</td><td>0.9883310</td><td>       NA</td><td>       NA</td><td>       NA</td><td>       NA</td><td>       NA</td><td>       NA</td></tr>\n",
              "\t<tr><th scope=row>BSD:kdtree-halton</th><td>0.5666195</td><td>0.5666195</td><td>0.8055545</td><td>0.8055545</td><td>0.5878842</td><td>0.5666195</td><td>0.8486322</td><td>0.8055545</td><td>0.7496606</td><td>0.7222632</td><td>0.9526742</td><td>0.9387380</td><td>0.8048228</td><td>0.8048228</td><td>       NA</td><td>       NA</td><td>       NA</td><td>       NA</td><td>       NA</td></tr>\n",
              "\t<tr><th scope=row>BSD:kdtree-sobol</th><td>0.5666195</td><td>0.5666195</td><td>0.8055545</td><td>0.8055545</td><td>0.5878842</td><td>0.5666195</td><td>0.8486322</td><td>0.8055545</td><td>0.7496606</td><td>0.7222632</td><td>0.9526742</td><td>0.9387380</td><td>0.8048228</td><td>0.8048228</td><td>0.9975545</td><td>       NA</td><td>       NA</td><td>       NA</td><td>       NA</td></tr>\n",
              "\t<tr><th scope=row>Windows:bvh-halton</th><td>0.7024830</td><td>0.6602738</td><td>0.9185547</td><td>0.8766460</td><td>0.7222632</td><td>0.6702260</td><td>0.9387380</td><td>0.9185547</td><td>0.8055545</td><td>0.8055545</td><td>0.9615274</td><td>0.9706519</td><td>0.8709546</td><td>0.8621521</td><td>0.9262794</td><td>0.9262794</td><td>       NA</td><td>       NA</td><td>       NA</td></tr>\n",
              "\t<tr><th scope=row>Windows:bvh-sobol</th><td>0.7890156</td><td>0.7222632</td><td>0.9526742</td><td>0.9262794</td><td>0.8048228</td><td>0.7496606</td><td>0.9615274</td><td>0.9526742</td><td>0.8619243</td><td>0.8424459</td><td>0.9387380</td><td>0.9526742</td><td>0.9229744</td><td>0.9185547</td><td>0.8709546</td><td>0.8709546</td><td>0.9530871</td><td>       NA</td><td>       NA</td></tr>\n",
              "\t<tr><th scope=row>Windows:kdtree-halton</th><td>0.2521387</td><td>0.2521387</td><td>0.5666195</td><td>0.5666195</td><td>0.2521387</td><td>0.2521387</td><td>0.5666195</td><td>0.5666195</td><td>0.4345085</td><td>0.3742597</td><td>0.7222632</td><td>0.7024830</td><td>0.5493429</td><td>0.5493429</td><td>0.8048228</td><td>0.8048228</td><td>0.6702260</td><td>0.5904399</td><td>       NA</td></tr>\n",
              "\t<tr><th scope=row>Windows:kdtree-sobol</th><td>0.2637467</td><td>0.2521387</td><td>0.5878842</td><td>0.5666195</td><td>0.2863913</td><td>0.2521387</td><td>0.6532588</td><td>0.5878842</td><td>0.5493429</td><td>0.5299689</td><td>0.8048228</td><td>0.7949644</td><td>0.5666195</td><td>0.5666195</td><td>0.8055545</td><td>0.8055545</td><td>0.7496606</td><td>0.6702260</td><td>0.9526742</td></tr>\n",
              "</tbody>\n",
              "</table>\n"
            ],
            "text/latex": [
              "\\textbf{\\$p.value} = A matrix: 19 × 19 of type dbl\n",
              "\\begin{tabular}{r|lllllllllllllllllll}\n",
              "  & WSL:bvh-halton & WSL:bvh-sobol & WSL:kdtree-halton & WSL:kdtree-sobol & UbuntuVM:bvh-halton & UbuntuVM:bvh-sobol & UbuntuVM:kdtree-halton & UbuntuVM:kdtree-sobol & UbuntuNative:bvh-halton & UbuntuNative:bvh-sobol & UbuntuNative:kdtree-halton & UbuntuNative:kdtree-sobol & BSD:bvh-halton & BSD:bvh-sobol & BSD:kdtree-halton & BSD:kdtree-sobol & Windows:bvh-halton & Windows:bvh-sobol & Windows:kdtree-halton\\\\\n",
              "\\hline\n",
              "\tWSL:bvh-sobol & 0.9615274 &        NA &        NA &        NA &        NA &        NA &        NA &        NA &        NA &        NA &        NA &        NA &        NA &        NA &        NA &        NA &        NA &        NA &        NA\\\\\n",
              "\tWSL:kdtree-halton & 0.8055545 & 0.8048228 &        NA &        NA &        NA &        NA &        NA &        NA &        NA &        NA &        NA &        NA &        NA &        NA &        NA &        NA &        NA &        NA &        NA\\\\\n",
              "\tWSL:kdtree-sobol & 0.8165476 & 0.8055545 & 0.9615274 &        NA &        NA &        NA &        NA &        NA &        NA &        NA &        NA &        NA &        NA &        NA &        NA &        NA &        NA &        NA &        NA\\\\\n",
              "\tUbuntuVM:bvh-halton & 0.9706519 & 0.9526742 & 0.8055545 & 0.8455029 &        NA &        NA &        NA &        NA &        NA &        NA &        NA &        NA &        NA &        NA &        NA &        NA &        NA &        NA &        NA\\\\\n",
              "\tUbuntuVM:bvh-sobol & 0.9706519 & 0.9725686 & 0.8048228 & 0.8055545 & 0.9615274 &        NA &        NA &        NA &        NA &        NA &        NA &        NA &        NA &        NA &        NA &        NA &        NA &        NA &        NA\\\\\n",
              "\tUbuntuVM:kdtree-halton & 0.8048228 & 0.7887256 & 0.9615274 & 0.9526742 & 0.8055545 & 0.8048228 &        NA &        NA &        NA &        NA &        NA &        NA &        NA &        NA &        NA &        NA &        NA &        NA &        NA\\\\\n",
              "\tUbuntuVM:kdtree-sobol & 0.8055545 & 0.8048228 & 0.9975545 & 0.9615274 & 0.8055545 & 0.8048228 & 0.9615274 &        NA &        NA &        NA &        NA &        NA &        NA &        NA &        NA &        NA &        NA &        NA &        NA\\\\\n",
              "\tUbuntuNative:bvh-halton & 0.8915935 & 0.8619243 & 0.9262794 & 0.9508657 & 0.9185547 & 0.8709546 & 0.8915935 & 0.9262794 &        NA &        NA &        NA &        NA &        NA &        NA &        NA &        NA &        NA &        NA &        NA\\\\\n",
              "\tUbuntuNative:bvh-sobol & 0.9193189 & 0.8766460 & 0.8915935 & 0.9262794 & 0.9358772 & 0.8915935 & 0.8626617 & 0.8915935 & 0.9706519 &        NA &        NA &        NA &        NA &        NA &        NA &        NA &        NA &        NA &        NA\\\\\n",
              "\tUbuntuNative:kdtree-halton & 0.6602738 & 0.5904399 & 0.8709546 & 0.8475087 & 0.6702260 & 0.6333577 & 0.9185547 & 0.8709546 & 0.8048228 & 0.8048228 &        NA &        NA &        NA &        NA &        NA &        NA &        NA &        NA &        NA\\\\\n",
              "\tUbuntuNative:kdtree-sobol & 0.6702260 & 0.6389014 & 0.8915935 & 0.8621521 & 0.7024830 & 0.6602738 & 0.9262794 & 0.8915935 & 0.8055545 & 0.8048228 & 0.9706519 &        NA &        NA &        NA &        NA &        NA &        NA &        NA &        NA\\\\\n",
              "\tBSD:bvh-halton & 0.8391514 & 0.8055545 & 0.9600699 & 0.9759128 & 0.8516242 & 0.8055545 & 0.9387380 & 0.9600699 & 0.9526742 & 0.9387380 & 0.8391514 & 0.8516242 &        NA &        NA &        NA &        NA &        NA &        NA &        NA\\\\\n",
              "\tBSD:bvh-sobol & 0.8455029 & 0.8055545 & 0.9526742 & 0.9706519 & 0.8619243 & 0.8165476 & 0.9387380 & 0.9526742 & 0.9526742 & 0.9387380 & 0.8165476 & 0.8475087 & 0.9883310 &        NA &        NA &        NA &        NA &        NA &        NA\\\\\n",
              "\tBSD:kdtree-halton & 0.5666195 & 0.5666195 & 0.8055545 & 0.8055545 & 0.5878842 & 0.5666195 & 0.8486322 & 0.8055545 & 0.7496606 & 0.7222632 & 0.9526742 & 0.9387380 & 0.8048228 & 0.8048228 &        NA &        NA &        NA &        NA &        NA\\\\\n",
              "\tBSD:kdtree-sobol & 0.5666195 & 0.5666195 & 0.8055545 & 0.8055545 & 0.5878842 & 0.5666195 & 0.8486322 & 0.8055545 & 0.7496606 & 0.7222632 & 0.9526742 & 0.9387380 & 0.8048228 & 0.8048228 & 0.9975545 &        NA &        NA &        NA &        NA\\\\\n",
              "\tWindows:bvh-halton & 0.7024830 & 0.6602738 & 0.9185547 & 0.8766460 & 0.7222632 & 0.6702260 & 0.9387380 & 0.9185547 & 0.8055545 & 0.8055545 & 0.9615274 & 0.9706519 & 0.8709546 & 0.8621521 & 0.9262794 & 0.9262794 &        NA &        NA &        NA\\\\\n",
              "\tWindows:bvh-sobol & 0.7890156 & 0.7222632 & 0.9526742 & 0.9262794 & 0.8048228 & 0.7496606 & 0.9615274 & 0.9526742 & 0.8619243 & 0.8424459 & 0.9387380 & 0.9526742 & 0.9229744 & 0.9185547 & 0.8709546 & 0.8709546 & 0.9530871 &        NA &        NA\\\\\n",
              "\tWindows:kdtree-halton & 0.2521387 & 0.2521387 & 0.5666195 & 0.5666195 & 0.2521387 & 0.2521387 & 0.5666195 & 0.5666195 & 0.4345085 & 0.3742597 & 0.7222632 & 0.7024830 & 0.5493429 & 0.5493429 & 0.8048228 & 0.8048228 & 0.6702260 & 0.5904399 &        NA\\\\\n",
              "\tWindows:kdtree-sobol & 0.2637467 & 0.2521387 & 0.5878842 & 0.5666195 & 0.2863913 & 0.2521387 & 0.6532588 & 0.5878842 & 0.5493429 & 0.5299689 & 0.8048228 & 0.7949644 & 0.5666195 & 0.5666195 & 0.8055545 & 0.8055545 & 0.7496606 & 0.6702260 & 0.9526742\\\\\n",
              "\\end{tabular}\n"
            ],
            "text/markdown": [
              "**$p.value** = \n",
              "A matrix: 19 × 19 of type dbl\n",
              "\n",
              "| <!--/--> | WSL:bvh-halton | WSL:bvh-sobol | WSL:kdtree-halton | WSL:kdtree-sobol | UbuntuVM:bvh-halton | UbuntuVM:bvh-sobol | UbuntuVM:kdtree-halton | UbuntuVM:kdtree-sobol | UbuntuNative:bvh-halton | UbuntuNative:bvh-sobol | UbuntuNative:kdtree-halton | UbuntuNative:kdtree-sobol | BSD:bvh-halton | BSD:bvh-sobol | BSD:kdtree-halton | BSD:kdtree-sobol | Windows:bvh-halton | Windows:bvh-sobol | Windows:kdtree-halton |\n",
              "|---|---|---|---|---|---|---|---|---|---|---|---|---|---|---|---|---|---|---|---|\n",
              "| WSL:bvh-sobol | 0.9615274 |        NA |        NA |        NA |        NA |        NA |        NA |        NA |        NA |        NA |        NA |        NA |        NA |        NA |        NA |        NA |        NA |        NA |        NA |\n",
              "| WSL:kdtree-halton | 0.8055545 | 0.8048228 |        NA |        NA |        NA |        NA |        NA |        NA |        NA |        NA |        NA |        NA |        NA |        NA |        NA |        NA |        NA |        NA |        NA |\n",
              "| WSL:kdtree-sobol | 0.8165476 | 0.8055545 | 0.9615274 |        NA |        NA |        NA |        NA |        NA |        NA |        NA |        NA |        NA |        NA |        NA |        NA |        NA |        NA |        NA |        NA |\n",
              "| UbuntuVM:bvh-halton | 0.9706519 | 0.9526742 | 0.8055545 | 0.8455029 |        NA |        NA |        NA |        NA |        NA |        NA |        NA |        NA |        NA |        NA |        NA |        NA |        NA |        NA |        NA |\n",
              "| UbuntuVM:bvh-sobol | 0.9706519 | 0.9725686 | 0.8048228 | 0.8055545 | 0.9615274 |        NA |        NA |        NA |        NA |        NA |        NA |        NA |        NA |        NA |        NA |        NA |        NA |        NA |        NA |\n",
              "| UbuntuVM:kdtree-halton | 0.8048228 | 0.7887256 | 0.9615274 | 0.9526742 | 0.8055545 | 0.8048228 |        NA |        NA |        NA |        NA |        NA |        NA |        NA |        NA |        NA |        NA |        NA |        NA |        NA |\n",
              "| UbuntuVM:kdtree-sobol | 0.8055545 | 0.8048228 | 0.9975545 | 0.9615274 | 0.8055545 | 0.8048228 | 0.9615274 |        NA |        NA |        NA |        NA |        NA |        NA |        NA |        NA |        NA |        NA |        NA |        NA |\n",
              "| UbuntuNative:bvh-halton | 0.8915935 | 0.8619243 | 0.9262794 | 0.9508657 | 0.9185547 | 0.8709546 | 0.8915935 | 0.9262794 |        NA |        NA |        NA |        NA |        NA |        NA |        NA |        NA |        NA |        NA |        NA |\n",
              "| UbuntuNative:bvh-sobol | 0.9193189 | 0.8766460 | 0.8915935 | 0.9262794 | 0.9358772 | 0.8915935 | 0.8626617 | 0.8915935 | 0.9706519 |        NA |        NA |        NA |        NA |        NA |        NA |        NA |        NA |        NA |        NA |\n",
              "| UbuntuNative:kdtree-halton | 0.6602738 | 0.5904399 | 0.8709546 | 0.8475087 | 0.6702260 | 0.6333577 | 0.9185547 | 0.8709546 | 0.8048228 | 0.8048228 |        NA |        NA |        NA |        NA |        NA |        NA |        NA |        NA |        NA |\n",
              "| UbuntuNative:kdtree-sobol | 0.6702260 | 0.6389014 | 0.8915935 | 0.8621521 | 0.7024830 | 0.6602738 | 0.9262794 | 0.8915935 | 0.8055545 | 0.8048228 | 0.9706519 |        NA |        NA |        NA |        NA |        NA |        NA |        NA |        NA |\n",
              "| BSD:bvh-halton | 0.8391514 | 0.8055545 | 0.9600699 | 0.9759128 | 0.8516242 | 0.8055545 | 0.9387380 | 0.9600699 | 0.9526742 | 0.9387380 | 0.8391514 | 0.8516242 |        NA |        NA |        NA |        NA |        NA |        NA |        NA |\n",
              "| BSD:bvh-sobol | 0.8455029 | 0.8055545 | 0.9526742 | 0.9706519 | 0.8619243 | 0.8165476 | 0.9387380 | 0.9526742 | 0.9526742 | 0.9387380 | 0.8165476 | 0.8475087 | 0.9883310 |        NA |        NA |        NA |        NA |        NA |        NA |\n",
              "| BSD:kdtree-halton | 0.5666195 | 0.5666195 | 0.8055545 | 0.8055545 | 0.5878842 | 0.5666195 | 0.8486322 | 0.8055545 | 0.7496606 | 0.7222632 | 0.9526742 | 0.9387380 | 0.8048228 | 0.8048228 |        NA |        NA |        NA |        NA |        NA |\n",
              "| BSD:kdtree-sobol | 0.5666195 | 0.5666195 | 0.8055545 | 0.8055545 | 0.5878842 | 0.5666195 | 0.8486322 | 0.8055545 | 0.7496606 | 0.7222632 | 0.9526742 | 0.9387380 | 0.8048228 | 0.8048228 | 0.9975545 |        NA |        NA |        NA |        NA |\n",
              "| Windows:bvh-halton | 0.7024830 | 0.6602738 | 0.9185547 | 0.8766460 | 0.7222632 | 0.6702260 | 0.9387380 | 0.9185547 | 0.8055545 | 0.8055545 | 0.9615274 | 0.9706519 | 0.8709546 | 0.8621521 | 0.9262794 | 0.9262794 |        NA |        NA |        NA |\n",
              "| Windows:bvh-sobol | 0.7890156 | 0.7222632 | 0.9526742 | 0.9262794 | 0.8048228 | 0.7496606 | 0.9615274 | 0.9526742 | 0.8619243 | 0.8424459 | 0.9387380 | 0.9526742 | 0.9229744 | 0.9185547 | 0.8709546 | 0.8709546 | 0.9530871 |        NA |        NA |\n",
              "| Windows:kdtree-halton | 0.2521387 | 0.2521387 | 0.5666195 | 0.5666195 | 0.2521387 | 0.2521387 | 0.5666195 | 0.5666195 | 0.4345085 | 0.3742597 | 0.7222632 | 0.7024830 | 0.5493429 | 0.5493429 | 0.8048228 | 0.8048228 | 0.6702260 | 0.5904399 |        NA |\n",
              "| Windows:kdtree-sobol | 0.2637467 | 0.2521387 | 0.5878842 | 0.5666195 | 0.2863913 | 0.2521387 | 0.6532588 | 0.5878842 | 0.5493429 | 0.5299689 | 0.8048228 | 0.7949644 | 0.5666195 | 0.5666195 | 0.8055545 | 0.8055545 | 0.7496606 | 0.6702260 | 0.9526742 |\n",
              "\n"
            ],
            "text/plain": [
              "$p.value\n",
              "                           WSL:bvh-halton WSL:bvh-sobol WSL:kdtree-halton\n",
              "WSL:bvh-sobol                   0.9615274            NA                NA\n",
              "WSL:kdtree-halton               0.8055545     0.8048228                NA\n",
              "WSL:kdtree-sobol                0.8165476     0.8055545         0.9615274\n",
              "UbuntuVM:bvh-halton             0.9706519     0.9526742         0.8055545\n",
              "UbuntuVM:bvh-sobol              0.9706519     0.9725686         0.8048228\n",
              "UbuntuVM:kdtree-halton          0.8048228     0.7887256         0.9615274\n",
              "UbuntuVM:kdtree-sobol           0.8055545     0.8048228         0.9975545\n",
              "UbuntuNative:bvh-halton         0.8915935     0.8619243         0.9262794\n",
              "UbuntuNative:bvh-sobol          0.9193189     0.8766460         0.8915935\n",
              "UbuntuNative:kdtree-halton      0.6602738     0.5904399         0.8709546\n",
              "UbuntuNative:kdtree-sobol       0.6702260     0.6389014         0.8915935\n",
              "BSD:bvh-halton                  0.8391514     0.8055545         0.9600699\n",
              "BSD:bvh-sobol                   0.8455029     0.8055545         0.9526742\n",
              "BSD:kdtree-halton               0.5666195     0.5666195         0.8055545\n",
              "BSD:kdtree-sobol                0.5666195     0.5666195         0.8055545\n",
              "Windows:bvh-halton              0.7024830     0.6602738         0.9185547\n",
              "Windows:bvh-sobol               0.7890156     0.7222632         0.9526742\n",
              "Windows:kdtree-halton           0.2521387     0.2521387         0.5666195\n",
              "Windows:kdtree-sobol            0.2637467     0.2521387         0.5878842\n",
              "                           WSL:kdtree-sobol UbuntuVM:bvh-halton\n",
              "WSL:bvh-sobol                            NA                  NA\n",
              "WSL:kdtree-halton                        NA                  NA\n",
              "WSL:kdtree-sobol                         NA                  NA\n",
              "UbuntuVM:bvh-halton               0.8455029                  NA\n",
              "UbuntuVM:bvh-sobol                0.8055545           0.9615274\n",
              "UbuntuVM:kdtree-halton            0.9526742           0.8055545\n",
              "UbuntuVM:kdtree-sobol             0.9615274           0.8055545\n",
              "UbuntuNative:bvh-halton           0.9508657           0.9185547\n",
              "UbuntuNative:bvh-sobol            0.9262794           0.9358772\n",
              "UbuntuNative:kdtree-halton        0.8475087           0.6702260\n",
              "UbuntuNative:kdtree-sobol         0.8621521           0.7024830\n",
              "BSD:bvh-halton                    0.9759128           0.8516242\n",
              "BSD:bvh-sobol                     0.9706519           0.8619243\n",
              "BSD:kdtree-halton                 0.8055545           0.5878842\n",
              "BSD:kdtree-sobol                  0.8055545           0.5878842\n",
              "Windows:bvh-halton                0.8766460           0.7222632\n",
              "Windows:bvh-sobol                 0.9262794           0.8048228\n",
              "Windows:kdtree-halton             0.5666195           0.2521387\n",
              "Windows:kdtree-sobol              0.5666195           0.2863913\n",
              "                           UbuntuVM:bvh-sobol UbuntuVM:kdtree-halton\n",
              "WSL:bvh-sobol                              NA                     NA\n",
              "WSL:kdtree-halton                          NA                     NA\n",
              "WSL:kdtree-sobol                           NA                     NA\n",
              "UbuntuVM:bvh-halton                        NA                     NA\n",
              "UbuntuVM:bvh-sobol                         NA                     NA\n",
              "UbuntuVM:kdtree-halton              0.8048228                     NA\n",
              "UbuntuVM:kdtree-sobol               0.8048228              0.9615274\n",
              "UbuntuNative:bvh-halton             0.8709546              0.8915935\n",
              "UbuntuNative:bvh-sobol              0.8915935              0.8626617\n",
              "UbuntuNative:kdtree-halton          0.6333577              0.9185547\n",
              "UbuntuNative:kdtree-sobol           0.6602738              0.9262794\n",
              "BSD:bvh-halton                      0.8055545              0.9387380\n",
              "BSD:bvh-sobol                       0.8165476              0.9387380\n",
              "BSD:kdtree-halton                   0.5666195              0.8486322\n",
              "BSD:kdtree-sobol                    0.5666195              0.8486322\n",
              "Windows:bvh-halton                  0.6702260              0.9387380\n",
              "Windows:bvh-sobol                   0.7496606              0.9615274\n",
              "Windows:kdtree-halton               0.2521387              0.5666195\n",
              "Windows:kdtree-sobol                0.2521387              0.6532588\n",
              "                           UbuntuVM:kdtree-sobol UbuntuNative:bvh-halton\n",
              "WSL:bvh-sobol                                 NA                      NA\n",
              "WSL:kdtree-halton                             NA                      NA\n",
              "WSL:kdtree-sobol                              NA                      NA\n",
              "UbuntuVM:bvh-halton                           NA                      NA\n",
              "UbuntuVM:bvh-sobol                            NA                      NA\n",
              "UbuntuVM:kdtree-halton                        NA                      NA\n",
              "UbuntuVM:kdtree-sobol                         NA                      NA\n",
              "UbuntuNative:bvh-halton                0.9262794                      NA\n",
              "UbuntuNative:bvh-sobol                 0.8915935               0.9706519\n",
              "UbuntuNative:kdtree-halton             0.8709546               0.8048228\n",
              "UbuntuNative:kdtree-sobol              0.8915935               0.8055545\n",
              "BSD:bvh-halton                         0.9600699               0.9526742\n",
              "BSD:bvh-sobol                          0.9526742               0.9526742\n",
              "BSD:kdtree-halton                      0.8055545               0.7496606\n",
              "BSD:kdtree-sobol                       0.8055545               0.7496606\n",
              "Windows:bvh-halton                     0.9185547               0.8055545\n",
              "Windows:bvh-sobol                      0.9526742               0.8619243\n",
              "Windows:kdtree-halton                  0.5666195               0.4345085\n",
              "Windows:kdtree-sobol                   0.5878842               0.5493429\n",
              "                           UbuntuNative:bvh-sobol UbuntuNative:kdtree-halton\n",
              "WSL:bvh-sobol                                  NA                         NA\n",
              "WSL:kdtree-halton                              NA                         NA\n",
              "WSL:kdtree-sobol                               NA                         NA\n",
              "UbuntuVM:bvh-halton                            NA                         NA\n",
              "UbuntuVM:bvh-sobol                             NA                         NA\n",
              "UbuntuVM:kdtree-halton                         NA                         NA\n",
              "UbuntuVM:kdtree-sobol                          NA                         NA\n",
              "UbuntuNative:bvh-halton                        NA                         NA\n",
              "UbuntuNative:bvh-sobol                         NA                         NA\n",
              "UbuntuNative:kdtree-halton              0.8048228                         NA\n",
              "UbuntuNative:kdtree-sobol               0.8048228                  0.9706519\n",
              "BSD:bvh-halton                          0.9387380                  0.8391514\n",
              "BSD:bvh-sobol                           0.9387380                  0.8165476\n",
              "BSD:kdtree-halton                       0.7222632                  0.9526742\n",
              "BSD:kdtree-sobol                        0.7222632                  0.9526742\n",
              "Windows:bvh-halton                      0.8055545                  0.9615274\n",
              "Windows:bvh-sobol                       0.8424459                  0.9387380\n",
              "Windows:kdtree-halton                   0.3742597                  0.7222632\n",
              "Windows:kdtree-sobol                    0.5299689                  0.8048228\n",
              "                           UbuntuNative:kdtree-sobol BSD:bvh-halton\n",
              "WSL:bvh-sobol                                     NA             NA\n",
              "WSL:kdtree-halton                                 NA             NA\n",
              "WSL:kdtree-sobol                                  NA             NA\n",
              "UbuntuVM:bvh-halton                               NA             NA\n",
              "UbuntuVM:bvh-sobol                                NA             NA\n",
              "UbuntuVM:kdtree-halton                            NA             NA\n",
              "UbuntuVM:kdtree-sobol                             NA             NA\n",
              "UbuntuNative:bvh-halton                           NA             NA\n",
              "UbuntuNative:bvh-sobol                            NA             NA\n",
              "UbuntuNative:kdtree-halton                        NA             NA\n",
              "UbuntuNative:kdtree-sobol                         NA             NA\n",
              "BSD:bvh-halton                             0.8516242             NA\n",
              "BSD:bvh-sobol                              0.8475087      0.9883310\n",
              "BSD:kdtree-halton                          0.9387380      0.8048228\n",
              "BSD:kdtree-sobol                           0.9387380      0.8048228\n",
              "Windows:bvh-halton                         0.9706519      0.8709546\n",
              "Windows:bvh-sobol                          0.9526742      0.9229744\n",
              "Windows:kdtree-halton                      0.7024830      0.5493429\n",
              "Windows:kdtree-sobol                       0.7949644      0.5666195\n",
              "                           BSD:bvh-sobol BSD:kdtree-halton BSD:kdtree-sobol\n",
              "WSL:bvh-sobol                         NA                NA               NA\n",
              "WSL:kdtree-halton                     NA                NA               NA\n",
              "WSL:kdtree-sobol                      NA                NA               NA\n",
              "UbuntuVM:bvh-halton                   NA                NA               NA\n",
              "UbuntuVM:bvh-sobol                    NA                NA               NA\n",
              "UbuntuVM:kdtree-halton                NA                NA               NA\n",
              "UbuntuVM:kdtree-sobol                 NA                NA               NA\n",
              "UbuntuNative:bvh-halton               NA                NA               NA\n",
              "UbuntuNative:bvh-sobol                NA                NA               NA\n",
              "UbuntuNative:kdtree-halton            NA                NA               NA\n",
              "UbuntuNative:kdtree-sobol             NA                NA               NA\n",
              "BSD:bvh-halton                        NA                NA               NA\n",
              "BSD:bvh-sobol                         NA                NA               NA\n",
              "BSD:kdtree-halton              0.8048228                NA               NA\n",
              "BSD:kdtree-sobol               0.8048228         0.9975545               NA\n",
              "Windows:bvh-halton             0.8621521         0.9262794        0.9262794\n",
              "Windows:bvh-sobol              0.9185547         0.8709546        0.8709546\n",
              "Windows:kdtree-halton          0.5493429         0.8048228        0.8048228\n",
              "Windows:kdtree-sobol           0.5666195         0.8055545        0.8055545\n",
              "                           Windows:bvh-halton Windows:bvh-sobol\n",
              "WSL:bvh-sobol                              NA                NA\n",
              "WSL:kdtree-halton                          NA                NA\n",
              "WSL:kdtree-sobol                           NA                NA\n",
              "UbuntuVM:bvh-halton                        NA                NA\n",
              "UbuntuVM:bvh-sobol                         NA                NA\n",
              "UbuntuVM:kdtree-halton                     NA                NA\n",
              "UbuntuVM:kdtree-sobol                      NA                NA\n",
              "UbuntuNative:bvh-halton                    NA                NA\n",
              "UbuntuNative:bvh-sobol                     NA                NA\n",
              "UbuntuNative:kdtree-halton                 NA                NA\n",
              "UbuntuNative:kdtree-sobol                  NA                NA\n",
              "BSD:bvh-halton                             NA                NA\n",
              "BSD:bvh-sobol                              NA                NA\n",
              "BSD:kdtree-halton                          NA                NA\n",
              "BSD:kdtree-sobol                           NA                NA\n",
              "Windows:bvh-halton                         NA                NA\n",
              "Windows:bvh-sobol                   0.9530871                NA\n",
              "Windows:kdtree-halton               0.6702260         0.5904399\n",
              "Windows:kdtree-sobol                0.7496606         0.6702260\n",
              "                           Windows:kdtree-halton\n",
              "WSL:bvh-sobol                                 NA\n",
              "WSL:kdtree-halton                             NA\n",
              "WSL:kdtree-sobol                              NA\n",
              "UbuntuVM:bvh-halton                           NA\n",
              "UbuntuVM:bvh-sobol                            NA\n",
              "UbuntuVM:kdtree-halton                        NA\n",
              "UbuntuVM:kdtree-sobol                         NA\n",
              "UbuntuNative:bvh-halton                       NA\n",
              "UbuntuNative:bvh-sobol                        NA\n",
              "UbuntuNative:kdtree-halton                    NA\n",
              "UbuntuNative:kdtree-sobol                     NA\n",
              "BSD:bvh-halton                                NA\n",
              "BSD:bvh-sobol                                 NA\n",
              "BSD:kdtree-halton                             NA\n",
              "BSD:kdtree-sobol                              NA\n",
              "Windows:bvh-halton                            NA\n",
              "Windows:bvh-sobol                             NA\n",
              "Windows:kdtree-halton                         NA\n",
              "Windows:kdtree-sobol                   0.9526742\n"
            ]
          },
          "metadata": {},
          "output_type": "display_data"
        }
      ],
      "source": [
        "output <- pairwise.t.test(T_sqrt, data$OS:data$Configuration, p.adjust.method = \"BH\")\n",
        "typeof(output)\n",
        "write.csv(output[3], file=\"pairwise_t_test_os+configuration.csv\")\n",
        "output[3]"
      ]
    },
    {
      "cell_type": "code",
      "execution_count": 27,
      "metadata": {
        "id": "3c-mniBFE1ba",
        "vscode": {
          "languageId": "r"
        }
      },
      "outputs": [
        {
          "data": {
            "text/html": [
              "'list'"
            ],
            "text/latex": [
              "'list'"
            ],
            "text/markdown": [
              "'list'"
            ],
            "text/plain": [
              "[1] \"list\""
            ]
          },
          "metadata": {},
          "output_type": "display_data"
        },
        {
          "data": {
            "text/html": [
              "<strong>$p.value</strong> = <table class=\"dataframe\">\n",
              "<caption>A matrix: 19 × 19 of type dbl</caption>\n",
              "<thead>\n",
              "\t<tr><th></th><th scope=col>WSL:bidir</th><th scope=col>WSL:buddha-fractal</th><th scope=col>WSL:spotfog</th><th scope=col>WSL:teapot-metal</th><th scope=col>UbuntuVM:bidir</th><th scope=col>UbuntuVM:buddha-fractal</th><th scope=col>UbuntuVM:spotfog</th><th scope=col>UbuntuVM:teapot-metal</th><th scope=col>UbuntuNative:bidir</th><th scope=col>UbuntuNative:buddha-fractal</th><th scope=col>UbuntuNative:spotfog</th><th scope=col>UbuntuNative:teapot-metal</th><th scope=col>BSD:bidir</th><th scope=col>BSD:buddha-fractal</th><th scope=col>BSD:spotfog</th><th scope=col>BSD:teapot-metal</th><th scope=col>Windows:bidir</th><th scope=col>Windows:buddha-fractal</th><th scope=col>Windows:spotfog</th></tr>\n",
              "</thead>\n",
              "<tbody>\n",
              "\t<tr><th scope=row>WSL:buddha-fractal</th><td>1.138685e-106</td><td>           NA</td><td>           NA</td><td>           NA</td><td>           NA</td><td>           NA</td><td>           NA</td><td>           NA</td><td>           NA</td><td>           NA</td><td>           NA</td><td>           NA</td><td>           NA</td><td>           NA</td><td>           NA</td><td>           NA</td><td>           NA</td><td>          NA</td><td>          NA</td></tr>\n",
              "\t<tr><th scope=row>WSL:spotfog</th><td> 3.594611e-92</td><td> 2.415136e-04</td><td>           NA</td><td>           NA</td><td>           NA</td><td>           NA</td><td>           NA</td><td>           NA</td><td>           NA</td><td>           NA</td><td>           NA</td><td>           NA</td><td>           NA</td><td>           NA</td><td>           NA</td><td>           NA</td><td>           NA</td><td>          NA</td><td>          NA</td></tr>\n",
              "\t<tr><th scope=row>WSL:teapot-metal</th><td> 5.688800e-74</td><td> 4.733385e-15</td><td> 1.409253e-05</td><td>           NA</td><td>           NA</td><td>           NA</td><td>           NA</td><td>           NA</td><td>           NA</td><td>           NA</td><td>           NA</td><td>           NA</td><td>           NA</td><td>           NA</td><td>           NA</td><td>           NA</td><td>           NA</td><td>          NA</td><td>          NA</td></tr>\n",
              "\t<tr><th scope=row>UbuntuVM:bidir</th><td> 9.237091e-01</td><td>4.668696e-107</td><td> 1.334044e-92</td><td> 1.815937e-74</td><td>           NA</td><td>           NA</td><td>           NA</td><td>           NA</td><td>           NA</td><td>           NA</td><td>           NA</td><td>           NA</td><td>           NA</td><td>           NA</td><td>           NA</td><td>           NA</td><td>           NA</td><td>          NA</td><td>          NA</td></tr>\n",
              "\t<tr><th scope=row>UbuntuVM:buddha-fractal</th><td>7.072743e-104</td><td> 4.706399e-01</td><td> 3.224777e-03</td><td> 7.877815e-13</td><td>2.521645e-104</td><td>           NA</td><td>           NA</td><td>           NA</td><td>           NA</td><td>           NA</td><td>           NA</td><td>           NA</td><td>           NA</td><td>           NA</td><td>           NA</td><td>           NA</td><td>           NA</td><td>          NA</td><td>          NA</td></tr>\n",
              "\t<tr><th scope=row>UbuntuVM:spotfog</th><td> 4.865720e-92</td><td> 2.116874e-04</td><td> 9.856410e-01</td><td> 1.639903e-05</td><td> 1.715929e-92</td><td> 2.892171e-03</td><td>           NA</td><td>           NA</td><td>           NA</td><td>           NA</td><td>           NA</td><td>           NA</td><td>           NA</td><td>           NA</td><td>           NA</td><td>           NA</td><td>           NA</td><td>          NA</td><td>          NA</td></tr>\n",
              "\t<tr><th scope=row>UbuntuVM:teapot-metal</th><td> 8.554397e-71</td><td> 1.945481e-17</td><td> 4.019892e-07</td><td> 4.666047e-01</td><td> 2.712557e-71</td><td> 4.434685e-15</td><td> 4.743844e-07</td><td>           NA</td><td>           NA</td><td>           NA</td><td>           NA</td><td>           NA</td><td>           NA</td><td>           NA</td><td>           NA</td><td>           NA</td><td>           NA</td><td>          NA</td><td>          NA</td></tr>\n",
              "\t<tr><th scope=row>UbuntuNative:bidir</th><td> 1.758753e-04</td><td>1.473876e-120</td><td>6.008176e-107</td><td> 9.551258e-90</td><td> 2.713000e-04</td><td>5.930969e-118</td><td>7.699019e-107</td><td> 1.118333e-86</td><td>           NA</td><td>           NA</td><td>           NA</td><td>           NA</td><td>           NA</td><td>           NA</td><td>           NA</td><td>           NA</td><td>           NA</td><td>          NA</td><td>          NA</td></tr>\n",
              "\t<tr><th scope=row>UbuntuNative:buddha-fractal</th><td>2.511320e-100</td><td> 1.036726e-01</td><td> 4.200786e-02</td><td> 2.593068e-10</td><td>8.808062e-101</td><td> 3.710900e-01</td><td> 3.902982e-02</td><td> 2.357976e-12</td><td>1.289189e-114</td><td>           NA</td><td>           NA</td><td>           NA</td><td>           NA</td><td>           NA</td><td>           NA</td><td>           NA</td><td>           NA</td><td>          NA</td><td>          NA</td></tr>\n",
              "\t<tr><th scope=row>UbuntuNative:spotfog</th><td> 6.118487e-84</td><td> 1.824251e-08</td><td> 4.642440e-02</td><td> 1.890790e-02</td><td> 2.007900e-84</td><td> 8.542046e-07</td><td> 5.015495e-02</td><td> 1.970884e-03</td><td> 3.256192e-99</td><td> 5.601280e-05</td><td>           NA</td><td>           NA</td><td>           NA</td><td>           NA</td><td>           NA</td><td>           NA</td><td>           NA</td><td>          NA</td><td>          NA</td></tr>\n",
              "\t<tr><th scope=row>UbuntuNative:teapot-metal</th><td> 1.836188e-64</td><td> 1.458743e-22</td><td> 9.660309e-11</td><td> 2.824625e-02</td><td> 5.849566e-65</td><td> 5.846523e-20</td><td> 1.184115e-10</td><td> 1.444473e-01</td><td> 1.462902e-80</td><td> 6.919553e-17</td><td> 5.403909e-06</td><td>           NA</td><td>           NA</td><td>           NA</td><td>           NA</td><td>           NA</td><td>           NA</td><td>          NA</td><td>          NA</td></tr>\n",
              "\t<tr><th scope=row>BSD:bidir</th><td> 2.275977e-07</td><td>1.061846e-125</td><td>1.966953e-112</td><td> 1.386591e-95</td><td> 4.135688e-07</td><td>4.205578e-123</td><td>2.453315e-112</td><td> 1.391169e-92</td><td> 1.484851e-01</td><td>6.590215e-120</td><td>6.940261e-105</td><td> 1.300549e-86</td><td>           NA</td><td>           NA</td><td>           NA</td><td>           NA</td><td>           NA</td><td>          NA</td><td>          NA</td></tr>\n",
              "\t<tr><th scope=row>BSD:buddha-fractal</th><td> 1.167489e-98</td><td> 4.050792e-02</td><td> 1.068510e-01</td><td> 3.299205e-09</td><td> 4.059588e-99</td><td> 1.845085e-01</td><td> 1.005803e-01</td><td> 3.788083e-11</td><td>4.694511e-113</td><td> 6.804707e-01</td><td> 2.954431e-04</td><td> 1.631686e-15</td><td>2.296963e-118</td><td>           NA</td><td>           NA</td><td>           NA</td><td>           NA</td><td>          NA</td><td>          NA</td></tr>\n",
              "\t<tr><th scope=row>BSD:spotfog</th><td> 5.965038e-77</td><td> 6.477686e-13</td><td> 2.586823e-04</td><td> 4.874405e-01</td><td> 1.918460e-77</td><td> 7.696852e-11</td><td> 2.926918e-04</td><td> 1.496315e-01</td><td> 1.448806e-92</td><td> 1.608431e-08</td><td> 1.002863e-01</td><td> 3.624137e-03</td><td> 2.097372e-98</td><td> 1.615435e-07</td><td>           NA</td><td>           NA</td><td>           NA</td><td>          NA</td><td>          NA</td></tr>\n",
              "\t<tr><th scope=row>BSD:teapot-metal</th><td> 2.521066e-60</td><td> 4.047817e-26</td><td> 1.839959e-13</td><td> 1.591370e-03</td><td> 7.887726e-61</td><td> 2.207929e-23</td><td> 2.326689e-13</td><td> 1.592488e-02</td><td> 1.600538e-76</td><td> 3.934734e-20</td><td> 4.313500e-08</td><td> 3.456787e-01</td><td> 1.236757e-82</td><td> 1.153886e-18</td><td> 1.166483e-04</td><td>           NA</td><td>           NA</td><td>          NA</td><td>          NA</td></tr>\n",
              "\t<tr><th scope=row>Windows:bidir</th><td> 1.543865e-21</td><td>2.684940e-141</td><td>2.373395e-129</td><td>7.079990e-114</td><td> 4.032436e-21</td><td>3.846569e-139</td><td>2.373395e-129</td><td>3.665961e-111</td><td> 8.878211e-10</td><td>3.084792e-136</td><td>1.961854e-122</td><td>1.370212e-105</td><td> 2.248309e-06</td><td>6.725543e-135</td><td>1.824183e-116</td><td>7.021445e-102</td><td>           NA</td><td>          NA</td><td>          NA</td></tr>\n",
              "\t<tr><th scope=row>Windows:buddha-fractal</th><td> 4.625617e-92</td><td> 2.166838e-04</td><td> 9.866699e-01</td><td> 1.596145e-05</td><td> 1.633745e-92</td><td> 2.947243e-03</td><td> 9.937909e-01</td><td> 4.597366e-07</td><td>7.480115e-107</td><td> 3.954080e-02</td><td> 4.953435e-02</td><td> 1.139001e-10</td><td>2.409965e-112</td><td> 1.016327e-01</td><td> 2.860375e-04</td><td> 2.228911e-13</td><td>2.373395e-129</td><td>          NA</td><td>          NA</td></tr>\n",
              "\t<tr><th scope=row>Windows:spotfog</th><td> 1.588608e-64</td><td> 1.648951e-22</td><td> 1.058455e-10</td><td> 2.927489e-02</td><td> 5.063352e-65</td><td> 6.577448e-20</td><td> 1.285893e-10</td><td> 1.482133e-01</td><td> 1.274722e-80</td><td> 7.729382e-17</td><td> 5.783269e-06</td><td> 9.921971e-01</td><td> 1.137827e-86</td><td> 1.816119e-15</td><td> 3.793692e-03</td><td> 3.391342e-01</td><td>1.229475e-105</td><td>1.236816e-10</td><td>          NA</td></tr>\n",
              "\t<tr><th scope=row>Windows:teapot-metal</th><td> 3.041423e-47</td><td> 3.022108e-38</td><td> 1.321963e-23</td><td> 1.025804e-09</td><td> 9.618656e-48</td><td> 3.275385e-35</td><td> 1.763957e-23</td><td> 6.972581e-08</td><td> 1.390661e-63</td><td> 1.580874e-31</td><td> 1.222369e-16</td><td> 7.683384e-05</td><td> 7.762746e-70</td><td> 7.848040e-30</td><td> 1.380267e-11</td><td> 2.652531e-03</td><td> 7.659086e-90</td><td>1.673346e-23</td><td>7.235035e-05</td></tr>\n",
              "</tbody>\n",
              "</table>\n"
            ],
            "text/latex": [
              "\\textbf{\\$p.value} = A matrix: 19 × 19 of type dbl\n",
              "\\begin{tabular}{r|lllllllllllllllllll}\n",
              "  & WSL:bidir & WSL:buddha-fractal & WSL:spotfog & WSL:teapot-metal & UbuntuVM:bidir & UbuntuVM:buddha-fractal & UbuntuVM:spotfog & UbuntuVM:teapot-metal & UbuntuNative:bidir & UbuntuNative:buddha-fractal & UbuntuNative:spotfog & UbuntuNative:teapot-metal & BSD:bidir & BSD:buddha-fractal & BSD:spotfog & BSD:teapot-metal & Windows:bidir & Windows:buddha-fractal & Windows:spotfog\\\\\n",
              "\\hline\n",
              "\tWSL:buddha-fractal & 1.138685e-106 &            NA &            NA &            NA &            NA &            NA &            NA &            NA &            NA &            NA &            NA &            NA &            NA &            NA &            NA &            NA &            NA &           NA &           NA\\\\\n",
              "\tWSL:spotfog &  3.594611e-92 &  2.415136e-04 &            NA &            NA &            NA &            NA &            NA &            NA &            NA &            NA &            NA &            NA &            NA &            NA &            NA &            NA &            NA &           NA &           NA\\\\\n",
              "\tWSL:teapot-metal &  5.688800e-74 &  4.733385e-15 &  1.409253e-05 &            NA &            NA &            NA &            NA &            NA &            NA &            NA &            NA &            NA &            NA &            NA &            NA &            NA &            NA &           NA &           NA\\\\\n",
              "\tUbuntuVM:bidir &  9.237091e-01 & 4.668696e-107 &  1.334044e-92 &  1.815937e-74 &            NA &            NA &            NA &            NA &            NA &            NA &            NA &            NA &            NA &            NA &            NA &            NA &            NA &           NA &           NA\\\\\n",
              "\tUbuntuVM:buddha-fractal & 7.072743e-104 &  4.706399e-01 &  3.224777e-03 &  7.877815e-13 & 2.521645e-104 &            NA &            NA &            NA &            NA &            NA &            NA &            NA &            NA &            NA &            NA &            NA &            NA &           NA &           NA\\\\\n",
              "\tUbuntuVM:spotfog &  4.865720e-92 &  2.116874e-04 &  9.856410e-01 &  1.639903e-05 &  1.715929e-92 &  2.892171e-03 &            NA &            NA &            NA &            NA &            NA &            NA &            NA &            NA &            NA &            NA &            NA &           NA &           NA\\\\\n",
              "\tUbuntuVM:teapot-metal &  8.554397e-71 &  1.945481e-17 &  4.019892e-07 &  4.666047e-01 &  2.712557e-71 &  4.434685e-15 &  4.743844e-07 &            NA &            NA &            NA &            NA &            NA &            NA &            NA &            NA &            NA &            NA &           NA &           NA\\\\\n",
              "\tUbuntuNative:bidir &  1.758753e-04 & 1.473876e-120 & 6.008176e-107 &  9.551258e-90 &  2.713000e-04 & 5.930969e-118 & 7.699019e-107 &  1.118333e-86 &            NA &            NA &            NA &            NA &            NA &            NA &            NA &            NA &            NA &           NA &           NA\\\\\n",
              "\tUbuntuNative:buddha-fractal & 2.511320e-100 &  1.036726e-01 &  4.200786e-02 &  2.593068e-10 & 8.808062e-101 &  3.710900e-01 &  3.902982e-02 &  2.357976e-12 & 1.289189e-114 &            NA &            NA &            NA &            NA &            NA &            NA &            NA &            NA &           NA &           NA\\\\\n",
              "\tUbuntuNative:spotfog &  6.118487e-84 &  1.824251e-08 &  4.642440e-02 &  1.890790e-02 &  2.007900e-84 &  8.542046e-07 &  5.015495e-02 &  1.970884e-03 &  3.256192e-99 &  5.601280e-05 &            NA &            NA &            NA &            NA &            NA &            NA &            NA &           NA &           NA\\\\\n",
              "\tUbuntuNative:teapot-metal &  1.836188e-64 &  1.458743e-22 &  9.660309e-11 &  2.824625e-02 &  5.849566e-65 &  5.846523e-20 &  1.184115e-10 &  1.444473e-01 &  1.462902e-80 &  6.919553e-17 &  5.403909e-06 &            NA &            NA &            NA &            NA &            NA &            NA &           NA &           NA\\\\\n",
              "\tBSD:bidir &  2.275977e-07 & 1.061846e-125 & 1.966953e-112 &  1.386591e-95 &  4.135688e-07 & 4.205578e-123 & 2.453315e-112 &  1.391169e-92 &  1.484851e-01 & 6.590215e-120 & 6.940261e-105 &  1.300549e-86 &            NA &            NA &            NA &            NA &            NA &           NA &           NA\\\\\n",
              "\tBSD:buddha-fractal &  1.167489e-98 &  4.050792e-02 &  1.068510e-01 &  3.299205e-09 &  4.059588e-99 &  1.845085e-01 &  1.005803e-01 &  3.788083e-11 & 4.694511e-113 &  6.804707e-01 &  2.954431e-04 &  1.631686e-15 & 2.296963e-118 &            NA &            NA &            NA &            NA &           NA &           NA\\\\\n",
              "\tBSD:spotfog &  5.965038e-77 &  6.477686e-13 &  2.586823e-04 &  4.874405e-01 &  1.918460e-77 &  7.696852e-11 &  2.926918e-04 &  1.496315e-01 &  1.448806e-92 &  1.608431e-08 &  1.002863e-01 &  3.624137e-03 &  2.097372e-98 &  1.615435e-07 &            NA &            NA &            NA &           NA &           NA\\\\\n",
              "\tBSD:teapot-metal &  2.521066e-60 &  4.047817e-26 &  1.839959e-13 &  1.591370e-03 &  7.887726e-61 &  2.207929e-23 &  2.326689e-13 &  1.592488e-02 &  1.600538e-76 &  3.934734e-20 &  4.313500e-08 &  3.456787e-01 &  1.236757e-82 &  1.153886e-18 &  1.166483e-04 &            NA &            NA &           NA &           NA\\\\\n",
              "\tWindows:bidir &  1.543865e-21 & 2.684940e-141 & 2.373395e-129 & 7.079990e-114 &  4.032436e-21 & 3.846569e-139 & 2.373395e-129 & 3.665961e-111 &  8.878211e-10 & 3.084792e-136 & 1.961854e-122 & 1.370212e-105 &  2.248309e-06 & 6.725543e-135 & 1.824183e-116 & 7.021445e-102 &            NA &           NA &           NA\\\\\n",
              "\tWindows:buddha-fractal &  4.625617e-92 &  2.166838e-04 &  9.866699e-01 &  1.596145e-05 &  1.633745e-92 &  2.947243e-03 &  9.937909e-01 &  4.597366e-07 & 7.480115e-107 &  3.954080e-02 &  4.953435e-02 &  1.139001e-10 & 2.409965e-112 &  1.016327e-01 &  2.860375e-04 &  2.228911e-13 & 2.373395e-129 &           NA &           NA\\\\\n",
              "\tWindows:spotfog &  1.588608e-64 &  1.648951e-22 &  1.058455e-10 &  2.927489e-02 &  5.063352e-65 &  6.577448e-20 &  1.285893e-10 &  1.482133e-01 &  1.274722e-80 &  7.729382e-17 &  5.783269e-06 &  9.921971e-01 &  1.137827e-86 &  1.816119e-15 &  3.793692e-03 &  3.391342e-01 & 1.229475e-105 & 1.236816e-10 &           NA\\\\\n",
              "\tWindows:teapot-metal &  3.041423e-47 &  3.022108e-38 &  1.321963e-23 &  1.025804e-09 &  9.618656e-48 &  3.275385e-35 &  1.763957e-23 &  6.972581e-08 &  1.390661e-63 &  1.580874e-31 &  1.222369e-16 &  7.683384e-05 &  7.762746e-70 &  7.848040e-30 &  1.380267e-11 &  2.652531e-03 &  7.659086e-90 & 1.673346e-23 & 7.235035e-05\\\\\n",
              "\\end{tabular}\n"
            ],
            "text/markdown": [
              "**$p.value** = \n",
              "A matrix: 19 × 19 of type dbl\n",
              "\n",
              "| <!--/--> | WSL:bidir | WSL:buddha-fractal | WSL:spotfog | WSL:teapot-metal | UbuntuVM:bidir | UbuntuVM:buddha-fractal | UbuntuVM:spotfog | UbuntuVM:teapot-metal | UbuntuNative:bidir | UbuntuNative:buddha-fractal | UbuntuNative:spotfog | UbuntuNative:teapot-metal | BSD:bidir | BSD:buddha-fractal | BSD:spotfog | BSD:teapot-metal | Windows:bidir | Windows:buddha-fractal | Windows:spotfog |\n",
              "|---|---|---|---|---|---|---|---|---|---|---|---|---|---|---|---|---|---|---|---|\n",
              "| WSL:buddha-fractal | 1.138685e-106 |            NA |            NA |            NA |            NA |            NA |            NA |            NA |            NA |            NA |            NA |            NA |            NA |            NA |            NA |            NA |            NA |           NA |           NA |\n",
              "| WSL:spotfog |  3.594611e-92 |  2.415136e-04 |            NA |            NA |            NA |            NA |            NA |            NA |            NA |            NA |            NA |            NA |            NA |            NA |            NA |            NA |            NA |           NA |           NA |\n",
              "| WSL:teapot-metal |  5.688800e-74 |  4.733385e-15 |  1.409253e-05 |            NA |            NA |            NA |            NA |            NA |            NA |            NA |            NA |            NA |            NA |            NA |            NA |            NA |            NA |           NA |           NA |\n",
              "| UbuntuVM:bidir |  9.237091e-01 | 4.668696e-107 |  1.334044e-92 |  1.815937e-74 |            NA |            NA |            NA |            NA |            NA |            NA |            NA |            NA |            NA |            NA |            NA |            NA |            NA |           NA |           NA |\n",
              "| UbuntuVM:buddha-fractal | 7.072743e-104 |  4.706399e-01 |  3.224777e-03 |  7.877815e-13 | 2.521645e-104 |            NA |            NA |            NA |            NA |            NA |            NA |            NA |            NA |            NA |            NA |            NA |            NA |           NA |           NA |\n",
              "| UbuntuVM:spotfog |  4.865720e-92 |  2.116874e-04 |  9.856410e-01 |  1.639903e-05 |  1.715929e-92 |  2.892171e-03 |            NA |            NA |            NA |            NA |            NA |            NA |            NA |            NA |            NA |            NA |            NA |           NA |           NA |\n",
              "| UbuntuVM:teapot-metal |  8.554397e-71 |  1.945481e-17 |  4.019892e-07 |  4.666047e-01 |  2.712557e-71 |  4.434685e-15 |  4.743844e-07 |            NA |            NA |            NA |            NA |            NA |            NA |            NA |            NA |            NA |            NA |           NA |           NA |\n",
              "| UbuntuNative:bidir |  1.758753e-04 | 1.473876e-120 | 6.008176e-107 |  9.551258e-90 |  2.713000e-04 | 5.930969e-118 | 7.699019e-107 |  1.118333e-86 |            NA |            NA |            NA |            NA |            NA |            NA |            NA |            NA |            NA |           NA |           NA |\n",
              "| UbuntuNative:buddha-fractal | 2.511320e-100 |  1.036726e-01 |  4.200786e-02 |  2.593068e-10 | 8.808062e-101 |  3.710900e-01 |  3.902982e-02 |  2.357976e-12 | 1.289189e-114 |            NA |            NA |            NA |            NA |            NA |            NA |            NA |            NA |           NA |           NA |\n",
              "| UbuntuNative:spotfog |  6.118487e-84 |  1.824251e-08 |  4.642440e-02 |  1.890790e-02 |  2.007900e-84 |  8.542046e-07 |  5.015495e-02 |  1.970884e-03 |  3.256192e-99 |  5.601280e-05 |            NA |            NA |            NA |            NA |            NA |            NA |            NA |           NA |           NA |\n",
              "| UbuntuNative:teapot-metal |  1.836188e-64 |  1.458743e-22 |  9.660309e-11 |  2.824625e-02 |  5.849566e-65 |  5.846523e-20 |  1.184115e-10 |  1.444473e-01 |  1.462902e-80 |  6.919553e-17 |  5.403909e-06 |            NA |            NA |            NA |            NA |            NA |            NA |           NA |           NA |\n",
              "| BSD:bidir |  2.275977e-07 | 1.061846e-125 | 1.966953e-112 |  1.386591e-95 |  4.135688e-07 | 4.205578e-123 | 2.453315e-112 |  1.391169e-92 |  1.484851e-01 | 6.590215e-120 | 6.940261e-105 |  1.300549e-86 |            NA |            NA |            NA |            NA |            NA |           NA |           NA |\n",
              "| BSD:buddha-fractal |  1.167489e-98 |  4.050792e-02 |  1.068510e-01 |  3.299205e-09 |  4.059588e-99 |  1.845085e-01 |  1.005803e-01 |  3.788083e-11 | 4.694511e-113 |  6.804707e-01 |  2.954431e-04 |  1.631686e-15 | 2.296963e-118 |            NA |            NA |            NA |            NA |           NA |           NA |\n",
              "| BSD:spotfog |  5.965038e-77 |  6.477686e-13 |  2.586823e-04 |  4.874405e-01 |  1.918460e-77 |  7.696852e-11 |  2.926918e-04 |  1.496315e-01 |  1.448806e-92 |  1.608431e-08 |  1.002863e-01 |  3.624137e-03 |  2.097372e-98 |  1.615435e-07 |            NA |            NA |            NA |           NA |           NA |\n",
              "| BSD:teapot-metal |  2.521066e-60 |  4.047817e-26 |  1.839959e-13 |  1.591370e-03 |  7.887726e-61 |  2.207929e-23 |  2.326689e-13 |  1.592488e-02 |  1.600538e-76 |  3.934734e-20 |  4.313500e-08 |  3.456787e-01 |  1.236757e-82 |  1.153886e-18 |  1.166483e-04 |            NA |            NA |           NA |           NA |\n",
              "| Windows:bidir |  1.543865e-21 | 2.684940e-141 | 2.373395e-129 | 7.079990e-114 |  4.032436e-21 | 3.846569e-139 | 2.373395e-129 | 3.665961e-111 |  8.878211e-10 | 3.084792e-136 | 1.961854e-122 | 1.370212e-105 |  2.248309e-06 | 6.725543e-135 | 1.824183e-116 | 7.021445e-102 |            NA |           NA |           NA |\n",
              "| Windows:buddha-fractal |  4.625617e-92 |  2.166838e-04 |  9.866699e-01 |  1.596145e-05 |  1.633745e-92 |  2.947243e-03 |  9.937909e-01 |  4.597366e-07 | 7.480115e-107 |  3.954080e-02 |  4.953435e-02 |  1.139001e-10 | 2.409965e-112 |  1.016327e-01 |  2.860375e-04 |  2.228911e-13 | 2.373395e-129 |           NA |           NA |\n",
              "| Windows:spotfog |  1.588608e-64 |  1.648951e-22 |  1.058455e-10 |  2.927489e-02 |  5.063352e-65 |  6.577448e-20 |  1.285893e-10 |  1.482133e-01 |  1.274722e-80 |  7.729382e-17 |  5.783269e-06 |  9.921971e-01 |  1.137827e-86 |  1.816119e-15 |  3.793692e-03 |  3.391342e-01 | 1.229475e-105 | 1.236816e-10 |           NA |\n",
              "| Windows:teapot-metal |  3.041423e-47 |  3.022108e-38 |  1.321963e-23 |  1.025804e-09 |  9.618656e-48 |  3.275385e-35 |  1.763957e-23 |  6.972581e-08 |  1.390661e-63 |  1.580874e-31 |  1.222369e-16 |  7.683384e-05 |  7.762746e-70 |  7.848040e-30 |  1.380267e-11 |  2.652531e-03 |  7.659086e-90 | 1.673346e-23 | 7.235035e-05 |\n",
              "\n"
            ],
            "text/plain": [
              "$p.value\n",
              "                                WSL:bidir WSL:buddha-fractal   WSL:spotfog\n",
              "WSL:buddha-fractal          1.138685e-106                 NA            NA\n",
              "WSL:spotfog                  3.594611e-92       2.415136e-04            NA\n",
              "WSL:teapot-metal             5.688800e-74       4.733385e-15  1.409253e-05\n",
              "UbuntuVM:bidir               9.237091e-01      4.668696e-107  1.334044e-92\n",
              "UbuntuVM:buddha-fractal     7.072743e-104       4.706399e-01  3.224777e-03\n",
              "UbuntuVM:spotfog             4.865720e-92       2.116874e-04  9.856410e-01\n",
              "UbuntuVM:teapot-metal        8.554397e-71       1.945481e-17  4.019892e-07\n",
              "UbuntuNative:bidir           1.758753e-04      1.473876e-120 6.008176e-107\n",
              "UbuntuNative:buddha-fractal 2.511320e-100       1.036726e-01  4.200786e-02\n",
              "UbuntuNative:spotfog         6.118487e-84       1.824251e-08  4.642440e-02\n",
              "UbuntuNative:teapot-metal    1.836188e-64       1.458743e-22  9.660309e-11\n",
              "BSD:bidir                    2.275977e-07      1.061846e-125 1.966953e-112\n",
              "BSD:buddha-fractal           1.167489e-98       4.050792e-02  1.068510e-01\n",
              "BSD:spotfog                  5.965038e-77       6.477686e-13  2.586823e-04\n",
              "BSD:teapot-metal             2.521066e-60       4.047817e-26  1.839959e-13\n",
              "Windows:bidir                1.543865e-21      2.684940e-141 2.373395e-129\n",
              "Windows:buddha-fractal       4.625617e-92       2.166838e-04  9.866699e-01\n",
              "Windows:spotfog              1.588608e-64       1.648951e-22  1.058455e-10\n",
              "Windows:teapot-metal         3.041423e-47       3.022108e-38  1.321963e-23\n",
              "                            WSL:teapot-metal UbuntuVM:bidir\n",
              "WSL:buddha-fractal                        NA             NA\n",
              "WSL:spotfog                               NA             NA\n",
              "WSL:teapot-metal                          NA             NA\n",
              "UbuntuVM:bidir                  1.815937e-74             NA\n",
              "UbuntuVM:buddha-fractal         7.877815e-13  2.521645e-104\n",
              "UbuntuVM:spotfog                1.639903e-05   1.715929e-92\n",
              "UbuntuVM:teapot-metal           4.666047e-01   2.712557e-71\n",
              "UbuntuNative:bidir              9.551258e-90   2.713000e-04\n",
              "UbuntuNative:buddha-fractal     2.593068e-10  8.808062e-101\n",
              "UbuntuNative:spotfog            1.890790e-02   2.007900e-84\n",
              "UbuntuNative:teapot-metal       2.824625e-02   5.849566e-65\n",
              "BSD:bidir                       1.386591e-95   4.135688e-07\n",
              "BSD:buddha-fractal              3.299205e-09   4.059588e-99\n",
              "BSD:spotfog                     4.874405e-01   1.918460e-77\n",
              "BSD:teapot-metal                1.591370e-03   7.887726e-61\n",
              "Windows:bidir                  7.079990e-114   4.032436e-21\n",
              "Windows:buddha-fractal          1.596145e-05   1.633745e-92\n",
              "Windows:spotfog                 2.927489e-02   5.063352e-65\n",
              "Windows:teapot-metal            1.025804e-09   9.618656e-48\n",
              "                            UbuntuVM:buddha-fractal UbuntuVM:spotfog\n",
              "WSL:buddha-fractal                               NA               NA\n",
              "WSL:spotfog                                      NA               NA\n",
              "WSL:teapot-metal                                 NA               NA\n",
              "UbuntuVM:bidir                                   NA               NA\n",
              "UbuntuVM:buddha-fractal                          NA               NA\n",
              "UbuntuVM:spotfog                       2.892171e-03               NA\n",
              "UbuntuVM:teapot-metal                  4.434685e-15     4.743844e-07\n",
              "UbuntuNative:bidir                    5.930969e-118    7.699019e-107\n",
              "UbuntuNative:buddha-fractal            3.710900e-01     3.902982e-02\n",
              "UbuntuNative:spotfog                   8.542046e-07     5.015495e-02\n",
              "UbuntuNative:teapot-metal              5.846523e-20     1.184115e-10\n",
              "BSD:bidir                             4.205578e-123    2.453315e-112\n",
              "BSD:buddha-fractal                     1.845085e-01     1.005803e-01\n",
              "BSD:spotfog                            7.696852e-11     2.926918e-04\n",
              "BSD:teapot-metal                       2.207929e-23     2.326689e-13\n",
              "Windows:bidir                         3.846569e-139    2.373395e-129\n",
              "Windows:buddha-fractal                 2.947243e-03     9.937909e-01\n",
              "Windows:spotfog                        6.577448e-20     1.285893e-10\n",
              "Windows:teapot-metal                   3.275385e-35     1.763957e-23\n",
              "                            UbuntuVM:teapot-metal UbuntuNative:bidir\n",
              "WSL:buddha-fractal                             NA                 NA\n",
              "WSL:spotfog                                    NA                 NA\n",
              "WSL:teapot-metal                               NA                 NA\n",
              "UbuntuVM:bidir                                 NA                 NA\n",
              "UbuntuVM:buddha-fractal                        NA                 NA\n",
              "UbuntuVM:spotfog                               NA                 NA\n",
              "UbuntuVM:teapot-metal                          NA                 NA\n",
              "UbuntuNative:bidir                   1.118333e-86                 NA\n",
              "UbuntuNative:buddha-fractal          2.357976e-12      1.289189e-114\n",
              "UbuntuNative:spotfog                 1.970884e-03       3.256192e-99\n",
              "UbuntuNative:teapot-metal            1.444473e-01       1.462902e-80\n",
              "BSD:bidir                            1.391169e-92       1.484851e-01\n",
              "BSD:buddha-fractal                   3.788083e-11      4.694511e-113\n",
              "BSD:spotfog                          1.496315e-01       1.448806e-92\n",
              "BSD:teapot-metal                     1.592488e-02       1.600538e-76\n",
              "Windows:bidir                       3.665961e-111       8.878211e-10\n",
              "Windows:buddha-fractal               4.597366e-07      7.480115e-107\n",
              "Windows:spotfog                      1.482133e-01       1.274722e-80\n",
              "Windows:teapot-metal                 6.972581e-08       1.390661e-63\n",
              "                            UbuntuNative:buddha-fractal UbuntuNative:spotfog\n",
              "WSL:buddha-fractal                                   NA                   NA\n",
              "WSL:spotfog                                          NA                   NA\n",
              "WSL:teapot-metal                                     NA                   NA\n",
              "UbuntuVM:bidir                                       NA                   NA\n",
              "UbuntuVM:buddha-fractal                              NA                   NA\n",
              "UbuntuVM:spotfog                                     NA                   NA\n",
              "UbuntuVM:teapot-metal                                NA                   NA\n",
              "UbuntuNative:bidir                                   NA                   NA\n",
              "UbuntuNative:buddha-fractal                          NA                   NA\n",
              "UbuntuNative:spotfog                       5.601280e-05                   NA\n",
              "UbuntuNative:teapot-metal                  6.919553e-17         5.403909e-06\n",
              "BSD:bidir                                 6.590215e-120        6.940261e-105\n",
              "BSD:buddha-fractal                         6.804707e-01         2.954431e-04\n",
              "BSD:spotfog                                1.608431e-08         1.002863e-01\n",
              "BSD:teapot-metal                           3.934734e-20         4.313500e-08\n",
              "Windows:bidir                             3.084792e-136        1.961854e-122\n",
              "Windows:buddha-fractal                     3.954080e-02         4.953435e-02\n",
              "Windows:spotfog                            7.729382e-17         5.783269e-06\n",
              "Windows:teapot-metal                       1.580874e-31         1.222369e-16\n",
              "                            UbuntuNative:teapot-metal     BSD:bidir\n",
              "WSL:buddha-fractal                                 NA            NA\n",
              "WSL:spotfog                                        NA            NA\n",
              "WSL:teapot-metal                                   NA            NA\n",
              "UbuntuVM:bidir                                     NA            NA\n",
              "UbuntuVM:buddha-fractal                            NA            NA\n",
              "UbuntuVM:spotfog                                   NA            NA\n",
              "UbuntuVM:teapot-metal                              NA            NA\n",
              "UbuntuNative:bidir                                 NA            NA\n",
              "UbuntuNative:buddha-fractal                        NA            NA\n",
              "UbuntuNative:spotfog                               NA            NA\n",
              "UbuntuNative:teapot-metal                          NA            NA\n",
              "BSD:bidir                                1.300549e-86            NA\n",
              "BSD:buddha-fractal                       1.631686e-15 2.296963e-118\n",
              "BSD:spotfog                              3.624137e-03  2.097372e-98\n",
              "BSD:teapot-metal                         3.456787e-01  1.236757e-82\n",
              "Windows:bidir                           1.370212e-105  2.248309e-06\n",
              "Windows:buddha-fractal                   1.139001e-10 2.409965e-112\n",
              "Windows:spotfog                          9.921971e-01  1.137827e-86\n",
              "Windows:teapot-metal                     7.683384e-05  7.762746e-70\n",
              "                            BSD:buddha-fractal   BSD:spotfog BSD:teapot-metal\n",
              "WSL:buddha-fractal                          NA            NA               NA\n",
              "WSL:spotfog                                 NA            NA               NA\n",
              "WSL:teapot-metal                            NA            NA               NA\n",
              "UbuntuVM:bidir                              NA            NA               NA\n",
              "UbuntuVM:buddha-fractal                     NA            NA               NA\n",
              "UbuntuVM:spotfog                            NA            NA               NA\n",
              "UbuntuVM:teapot-metal                       NA            NA               NA\n",
              "UbuntuNative:bidir                          NA            NA               NA\n",
              "UbuntuNative:buddha-fractal                 NA            NA               NA\n",
              "UbuntuNative:spotfog                        NA            NA               NA\n",
              "UbuntuNative:teapot-metal                   NA            NA               NA\n",
              "BSD:bidir                                   NA            NA               NA\n",
              "BSD:buddha-fractal                          NA            NA               NA\n",
              "BSD:spotfog                       1.615435e-07            NA               NA\n",
              "BSD:teapot-metal                  1.153886e-18  1.166483e-04               NA\n",
              "Windows:bidir                    6.725543e-135 1.824183e-116    7.021445e-102\n",
              "Windows:buddha-fractal            1.016327e-01  2.860375e-04     2.228911e-13\n",
              "Windows:spotfog                   1.816119e-15  3.793692e-03     3.391342e-01\n",
              "Windows:teapot-metal              7.848040e-30  1.380267e-11     2.652531e-03\n",
              "                            Windows:bidir Windows:buddha-fractal\n",
              "WSL:buddha-fractal                     NA                     NA\n",
              "WSL:spotfog                            NA                     NA\n",
              "WSL:teapot-metal                       NA                     NA\n",
              "UbuntuVM:bidir                         NA                     NA\n",
              "UbuntuVM:buddha-fractal                NA                     NA\n",
              "UbuntuVM:spotfog                       NA                     NA\n",
              "UbuntuVM:teapot-metal                  NA                     NA\n",
              "UbuntuNative:bidir                     NA                     NA\n",
              "UbuntuNative:buddha-fractal            NA                     NA\n",
              "UbuntuNative:spotfog                   NA                     NA\n",
              "UbuntuNative:teapot-metal              NA                     NA\n",
              "BSD:bidir                              NA                     NA\n",
              "BSD:buddha-fractal                     NA                     NA\n",
              "BSD:spotfog                            NA                     NA\n",
              "BSD:teapot-metal                       NA                     NA\n",
              "Windows:bidir                          NA                     NA\n",
              "Windows:buddha-fractal      2.373395e-129                     NA\n",
              "Windows:spotfog             1.229475e-105           1.236816e-10\n",
              "Windows:teapot-metal         7.659086e-90           1.673346e-23\n",
              "                            Windows:spotfog\n",
              "WSL:buddha-fractal                       NA\n",
              "WSL:spotfog                              NA\n",
              "WSL:teapot-metal                         NA\n",
              "UbuntuVM:bidir                           NA\n",
              "UbuntuVM:buddha-fractal                  NA\n",
              "UbuntuVM:spotfog                         NA\n",
              "UbuntuVM:teapot-metal                    NA\n",
              "UbuntuNative:bidir                       NA\n",
              "UbuntuNative:buddha-fractal              NA\n",
              "UbuntuNative:spotfog                     NA\n",
              "UbuntuNative:teapot-metal                NA\n",
              "BSD:bidir                                NA\n",
              "BSD:buddha-fractal                       NA\n",
              "BSD:spotfog                              NA\n",
              "BSD:teapot-metal                         NA\n",
              "Windows:bidir                            NA\n",
              "Windows:buddha-fractal                   NA\n",
              "Windows:spotfog                          NA\n",
              "Windows:teapot-metal           7.235035e-05\n"
            ]
          },
          "metadata": {},
          "output_type": "display_data"
        }
      ],
      "source": [
        "output <- pairwise.t.test(T_sqrt, data$OS:data$Scene, p.adjust.method = \"BH\")\n",
        "typeof(output)\n",
        "write.csv(output[3], file=\"pairwise_t_test_os+scene.csv\")\n",
        "output[3]"
      ]
    },
    {
      "cell_type": "code",
      "execution_count": 28,
      "metadata": {
        "id": "soi8YrkjGhLk",
        "vscode": {
          "languageId": "r"
        }
      },
      "outputs": [
        {
          "data": {
            "text/plain": [
              "\n",
              "\tPairwise comparisons using t tests with pooled SD \n",
              "\n",
              "data:  T_sqrt and data$Configuration \n",
              "\n",
              "              bvh-halton bvh-sobol kdtree-halton\n",
              "bvh-sobol     0.807      -         -            \n",
              "kdtree-halton 0.034      0.034     -            \n",
              "kdtree-sobol  0.048      0.034     0.807        \n",
              "\n",
              "P value adjustment method: BH "
            ]
          },
          "metadata": {},
          "output_type": "display_data"
        }
      ],
      "source": [
        "output <- pairwise.t.test (T_sqrt, data$Configuration, p.adjust.method = \"BH\")\n",
        "write.csv(output[3], file=\"pairwise_t_test_configurations.csv\")\n",
        "output"
      ]
    },
    {
      "cell_type": "code",
      "execution_count": 29,
      "metadata": {
        "vscode": {
          "languageId": "r"
        }
      },
      "outputs": [
        {
          "data": {
            "text/plain": [
              "\n",
              "\tPairwise comparisons using t tests with pooled SD \n",
              "\n",
              "data:  T_sqrt and data$Scene \n",
              "\n",
              "               bidir   buddha-fractal spotfog\n",
              "buddha-fractal < 2e-16 -              -      \n",
              "spotfog        < 2e-16 1.2e-14        -      \n",
              "teapot-metal   < 2e-16 < 2e-16        5.2e-14\n",
              "\n",
              "P value adjustment method: BH "
            ]
          },
          "metadata": {},
          "output_type": "display_data"
        }
      ],
      "source": [
        "output <- pairwise.t.test (T_sqrt, data$Scene, p.adjust.method = \"BH\")\n",
        "write.csv(output[3], file=\"pairwise_t_test_scene.csv\")\n",
        "output"
      ]
    }
  ],
  "metadata": {
    "colab": {
      "provenance": []
    },
    "kernelspec": {
      "display_name": "R",
      "language": "R",
      "name": "ir"
    },
    "language_info": {
      "codemirror_mode": "r",
      "file_extension": ".r",
      "mimetype": "text/x-r-source",
      "name": "R",
      "pygments_lexer": "r",
      "version": "4.2.2"
    }
  },
  "nbformat": 4,
  "nbformat_minor": 0
}
